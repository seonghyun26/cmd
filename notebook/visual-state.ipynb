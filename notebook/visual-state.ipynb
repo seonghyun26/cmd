{
 "cells": [
  {
   "cell_type": "code",
   "execution_count": 1,
   "metadata": {},
   "outputs": [
    {
     "data": {
      "application/vnd.jupyter.widget-view+json": {
       "model_id": "e20e144f06354dbeb5d5e745ed3dd1e7",
       "version_major": 2,
       "version_minor": 0
      },
      "text/plain": []
     },
     "metadata": {},
     "output_type": "display_data"
    }
   ],
   "source": [
    "import nglview as nv\n",
    "import mdtraj as md\n",
    "\n",
    "from openmm import *\n",
    "from openmm.app import *\n",
    "from openmm.unit import *\n",
    "\n",
    "from tqdm.auto import tqdm"
   ]
  },
  {
   "cell_type": "code",
   "execution_count": 6,
   "metadata": {},
   "outputs": [],
   "source": [
    "data_dir = \"../data\"\n",
    "IMAGE_SIZE = \"400px\"\n",
    "colors = [\"#A10035\", \"#3FA796\", \"#FEC220\", \"#0072B2\", \"#D55E00\", \"#CC79A7\", \"#56B4E9\", \"#009E73\", \"#F0E442\"]"
   ]
  },
  {
   "cell_type": "markdown",
   "metadata": {},
   "source": [
    "# State view"
   ]
  },
  {
   "cell_type": "code",
   "execution_count": 3,
   "metadata": {},
   "outputs": [],
   "source": [
    "molecule = \"alanine\"\n",
    "state = \"c5\"\n",
    "pdb_file = f\"{data_dir}/{molecule}/{state}.pdb\""
   ]
  },
  {
   "cell_type": "code",
   "execution_count": 4,
   "metadata": {},
   "outputs": [
    {
     "data": {
      "application/vnd.jupyter.widget-view+json": {
       "model_id": "6a4bdde389584c86b3584e90453aba31",
       "version_major": 2,
       "version_minor": 0
      },
      "text/plain": [
       "NGLWidget()"
      ]
     },
     "metadata": {},
     "output_type": "display_data"
    }
   ],
   "source": [
    "view = nv.show_structure_file(pdb_file, width=IMAGE_SIZE, height=IMAGE_SIZE)\n",
    "view"
   ]
  },
  {
   "cell_type": "code",
   "execution_count": 5,
   "metadata": {},
   "outputs": [],
   "source": [
    "view.download_image(\n",
    "    filename=f'{molecule}-{state}.png',\n",
    "    factor=4,\n",
    "    antialias=True,\n",
    "    trim=False,\n",
    "    transparent=True\n",
    ")"
   ]
  },
  {
   "cell_type": "markdown",
   "metadata": {},
   "source": [
    "# State - torsion angle highlighted"
   ]
  },
  {
   "cell_type": "code",
   "execution_count": 42,
   "metadata": {},
   "outputs": [],
   "source": [
    "backbone_color = colors[1]\n",
    "psi_idx = [8, 10, 14, 16]\n",
    "molecule = \"alanine\"\n",
    "state = \"c7ax\"\n",
    "pdb_file = f\"{data_dir}/{molecule}/{state}.pdb\""
   ]
  },
  {
   "cell_type": "code",
   "execution_count": 43,
   "metadata": {},
   "outputs": [
    {
     "data": {
      "application/vnd.jupyter.widget-view+json": {
       "model_id": "5ba57b8b61f44b3a9b02b462f5873d05",
       "version_major": 2,
       "version_minor": 0
      },
      "text/plain": [
       "NGLWidget()"
      ]
     },
     "metadata": {},
     "output_type": "display_data"
    }
   ],
   "source": [
    "view = nv.show_structure_file(pdb_file, width=IMAGE_SIZE, height=IMAGE_SIZE)\n",
    "view.add_representation('ball+stick', aspectRatio=1, radius=0.5, selection=psi_idx, color=backbone_color)\n",
    "view"
   ]
  },
  {
   "cell_type": "code",
   "execution_count": 44,
   "metadata": {},
   "outputs": [],
   "source": [
    "view.download_image(\n",
    "    filename=f'{molecule}-psi.png',\n",
    "    factor=4,\n",
    "    antialias=True,\n",
    "    trim=False,\n",
    "    transparent=True\n",
    ")"
   ]
  },
  {
   "cell_type": "code",
   "execution_count": 49,
   "metadata": {},
   "outputs": [],
   "source": [
    "backbone_color = colors[4]\n",
    "phi_idx = [4, 6, 8, 10]\n",
    "molecule = \"alanine\"\n",
    "state = \"c7ax\"\n",
    "pdb_file = f\"{data_dir}/{molecule}/{state}.pdb\""
   ]
  },
  {
   "cell_type": "code",
   "execution_count": 50,
   "metadata": {},
   "outputs": [
    {
     "data": {
      "application/vnd.jupyter.widget-view+json": {
       "model_id": "88246165545d45019ae3a4bad1c2370f",
       "version_major": 2,
       "version_minor": 0
      },
      "text/plain": [
       "NGLWidget()"
      ]
     },
     "metadata": {},
     "output_type": "display_data"
    }
   ],
   "source": [
    "view = nv.show_structure_file(pdb_file, width=IMAGE_SIZE, height=IMAGE_SIZE)\n",
    "view.add_representation('ball+stick', aspectRatio=1, radius=0.5, selection=phi_idx, color=backbone_color)\n",
    "view"
   ]
  },
  {
   "cell_type": "code",
   "execution_count": 51,
   "metadata": {},
   "outputs": [],
   "source": [
    "view.download_image(\n",
    "    filename=f'{molecule}-phi.png',\n",
    "    factor=4,\n",
    "    antialias=True,\n",
    "    trim=False,\n",
    "    transparent=True\n",
    ")"
   ]
  },
  {
   "cell_type": "code",
   "execution_count": null,
   "metadata": {},
   "outputs": [],
   "source": []
  }
 ],
 "metadata": {
  "kernelspec": {
   "display_name": "Python 3 (ipykernel)",
   "language": "python",
   "name": "python3"
  },
  "language_info": {
   "codemirror_mode": {
    "name": "ipython",
    "version": 3
   },
   "file_extension": ".py",
   "mimetype": "text/x-python",
   "name": "python",
   "nbconvert_exporter": "python",
   "pygments_lexer": "ipython3",
   "version": "3.9.19"
  },
  "widgets": {
   "application/vnd.jupyter.widget-state+json": {
    "state": {
     "00dbdf0fef1a440a99397f02575b27c3": {
      "model_module": "@jupyter-widgets/controls",
      "model_module_version": "2.0.0",
      "model_name": "SliderStyleModel",
      "state": {
       "description_width": ""
      }
     },
     "017c90a6edc44f79a4e538eb301d013e": {
      "model_module": "@jupyter-widgets/controls",
      "model_module_version": "2.0.0",
      "model_name": "LinkModel",
      "state": {
       "source": [
        "IPY_MODEL_ed47b139d2a6431aa0c3462ceb87cb9e",
        "max"
       ],
       "target": [
        "IPY_MODEL_773f72c9b38b47de8b45a4d700730a0a",
        "max_frame"
       ]
      }
     },
     "019234931cb246008a957e54746c075b": {
      "model_module": "@jupyter-widgets/controls",
      "model_module_version": "2.0.0",
      "model_name": "LinkModel",
      "state": {
       "source": [
        "IPY_MODEL_cadb18f58684454abf0d7d84b7ea1659",
        "max"
       ],
       "target": [
        "IPY_MODEL_b593e7bfce704e23b03ab9c71f34f081",
        "max_frame"
       ]
      }
     },
     "020d6452125d4af5baeff4a9cf01c5d0": {
      "model_module": "@jupyter-widgets/controls",
      "model_module_version": "2.0.0",
      "model_name": "ButtonModel",
      "state": {
       "icon": "compress",
       "layout": "IPY_MODEL_575156ba485840f785267212d00672e7",
       "style": "IPY_MODEL_ad184e739450455e9af9dd985448a9bb",
       "tooltip": null
      }
     },
     "02f754ee50a443e0913888970c85c12e": {
      "model_module": "@jupyter-widgets/controls",
      "model_module_version": "2.0.0",
      "model_name": "LinkModel",
      "state": {
       "source": [
        "IPY_MODEL_c627495962944afea3f14e0a97b84f48",
        "value"
       ],
       "target": [
        "IPY_MODEL_2d966edbb1784438a6396372dd6ac06e",
        "value"
       ]
      }
     },
     "03cbd0d3e4ef4316996e6e4ffd8adc92": {
      "model_module": "@jupyter-widgets/controls",
      "model_module_version": "2.0.0",
      "model_name": "LinkModel",
      "state": {
       "source": [
        "IPY_MODEL_a6c41bd15f04435cb9f55b469a7b5bdb",
        "value"
       ],
       "target": [
        "IPY_MODEL_e5a27927480843ea97005fafbbb93ed8",
        "frame"
       ]
      }
     },
     "04b886762b0c425d8740bed0c0fb0fe5": {
      "model_module": "@jupyter-widgets/controls",
      "model_module_version": "2.0.0",
      "model_name": "ImageModel",
      "state": {
       "layout": "IPY_MODEL_fa3112664a014c76be29ef49864cbc3e",
       "width": "900.0"
      }
     },
     "0513e06a6d6d4fe8a20c0ff80d73467c": {
      "model_module": "@jupyter-widgets/controls",
      "model_module_version": "2.0.0",
      "model_name": "LinkModel",
      "state": {
       "source": [
        "IPY_MODEL_5bb2a8c1e6d6489ab91abcaa9b950316",
        "value"
       ],
       "target": [
        "IPY_MODEL_a89f64026d4947e39fa47611402bb779",
        "frame"
       ]
      }
     },
     "055484f4e1d34915b0637362dbe35722": {
      "model_module": "@jupyter-widgets/controls",
      "model_module_version": "2.0.0",
      "model_name": "LinkModel",
      "state": {
       "source": [
        "IPY_MODEL_fbf47c4b5fe1446586d771d36a9e55cc",
        "max"
       ],
       "target": [
        "IPY_MODEL_36cc96c7f6ea4bb1b7066901f83b0267",
        "max_frame"
       ]
      }
     },
     "06bb6ac516f0475a8cb35d1d2a6fccd0": {
      "model_module": "@jupyter-widgets/controls",
      "model_module_version": "2.0.0",
      "model_name": "ButtonModel",
      "state": {
       "icon": "compress",
       "layout": "IPY_MODEL_9b6558bb03164156af533ecfd1d04216",
       "style": "IPY_MODEL_875f199abf284080b74dbf45b7b839c1",
       "tooltip": null
      }
     },
     "06f0288fae4546ebb144ed12898433c3": {
      "model_module": "@jupyter-widgets/controls",
      "model_module_version": "2.0.0",
      "model_name": "IntSliderModel",
      "state": {
       "behavior": "drag-tap",
       "layout": "IPY_MODEL_8b9b0ac64dc849cd82fd3fc32b1abe26",
       "max": 0,
       "style": "IPY_MODEL_97f9c39fa1c4497685ad8d0a952fc7e5"
      }
     },
     "077e1205bcbf44a9902310478a5cfeed": {
      "model_module": "@jupyter-widgets/controls",
      "model_module_version": "2.0.0",
      "model_name": "HBoxModel",
      "state": {
       "children": [
        "IPY_MODEL_3d5a37631e634e38a87e36855f891bd4",
        "IPY_MODEL_ae2110e966d140ef9a4a1b194497ee77"
       ],
       "layout": "IPY_MODEL_98aa306a666b4ae0a745576fb8229da8"
      }
     },
     "085035ed0155448ba2be7bd07e44d006": {
      "model_module": "@jupyter-widgets/base",
      "model_module_version": "2.0.0",
      "model_name": "LayoutModel",
      "state": {}
     },
     "091f77453e3348e59267240944018157": {
      "model_module": "@jupyter-widgets/controls",
      "model_module_version": "2.0.0",
      "model_name": "SliderStyleModel",
      "state": {
       "description_width": ""
      }
     },
     "0a2231249e124265a71ea3940bcde957": {
      "model_module": "@jupyter-widgets/controls",
      "model_module_version": "2.0.0",
      "model_name": "LinkModel",
      "state": {
       "source": [
        "IPY_MODEL_1ad725331b1146b7b5355adcab97f284",
        "max"
       ],
       "target": [
        "IPY_MODEL_888434ae545d46bc857c9daf7acd89ce",
        "max_frame"
       ]
      }
     },
     "0ae1c3d1b97f43878612457aa16e19b5": {
      "model_module": "@jupyter-widgets/controls",
      "model_module_version": "2.0.0",
      "model_name": "HBoxModel",
      "state": {
       "children": [
        "IPY_MODEL_c627495962944afea3f14e0a97b84f48",
        "IPY_MODEL_2d966edbb1784438a6396372dd6ac06e"
       ],
       "layout": "IPY_MODEL_ccdf425c9f514219814690f3de324d58"
      }
     },
     "0b4734c8d5d444788f22a6e0aaf125c7": {
      "model_module": "@jupyter-widgets/controls",
      "model_module_version": "2.0.0",
      "model_name": "IntSliderModel",
      "state": {
       "behavior": "drag-tap",
       "layout": "IPY_MODEL_085035ed0155448ba2be7bd07e44d006",
       "max": 0,
       "style": "IPY_MODEL_3d8d5baa8b97496ca2ce009a104fa01f"
      }
     },
     "0b495bbc7b10419dbc2f13311ed33d5f": {
      "model_module": "@jupyter-widgets/controls",
      "model_module_version": "2.0.0",
      "model_name": "LinkModel",
      "state": {
       "source": [
        "IPY_MODEL_1af926859bff49ce8b6d9f629a876b13",
        "value"
       ],
       "target": [
        "IPY_MODEL_da35940138654cc19c539f3c6c6b9372",
        "value"
       ]
      }
     },
     "0c568b64d54e4a8b84a24af5c8ce1e87": {
      "model_module": "@jupyter-widgets/controls",
      "model_module_version": "2.0.0",
      "model_name": "IntSliderModel",
      "state": {
       "behavior": "drag-tap",
       "layout": "IPY_MODEL_2b33055c9dc7436ab24946c71284eba4",
       "max": 0,
       "style": "IPY_MODEL_1e93b482c8d248d7b8266af59ed94b88"
      }
     },
     "0c820bb64571429f823be60c6831f69e": {
      "model_module": "@jupyter-widgets/base",
      "model_module_version": "2.0.0",
      "model_name": "LayoutModel",
      "state": {}
     },
     "0dd176ccce9b4ae2b7d2575d41fe3f55": {
      "model_module": "@jupyter-widgets/controls",
      "model_module_version": "2.0.0",
      "model_name": "DescriptionStyleModel",
      "state": {
       "description_width": ""
      }
     },
     "0e0f1064d1df4e16aa1f0df6c978485b": {
      "model_module": "@jupyter-widgets/base",
      "model_module_version": "2.0.0",
      "model_name": "LayoutModel",
      "state": {}
     },
     "0ef60c475b69434b9058fbd6eb3ff1c4": {
      "model_module": "@jupyter-widgets/controls",
      "model_module_version": "2.0.0",
      "model_name": "SliderStyleModel",
      "state": {
       "description_width": ""
      }
     },
     "0fbe603f35d04dfc94444f2773abe44e": {
      "model_module": "@jupyter-widgets/controls",
      "model_module_version": "2.0.0",
      "model_name": "ButtonModel",
      "state": {
       "icon": "compress",
       "layout": "IPY_MODEL_61cbb392ce8244c3ac64b89cb5dcd9fa",
       "style": "IPY_MODEL_df8d774acff54490910870d148c71e7a",
       "tooltip": null
      }
     },
     "0fd807bda62d4efe8713347ed33fa38b": {
      "model_module": "@jupyter-widgets/controls",
      "model_module_version": "2.0.0",
      "model_name": "ImageModel",
      "state": {
       "layout": "IPY_MODEL_730990ffa1624417a04ff764c51e735b",
       "width": "900.0"
      }
     },
     "1039aa4e24434b098ffd5cd9618c4d0a": {
      "model_module": "@jupyter-widgets/controls",
      "model_module_version": "2.0.0",
      "model_name": "LinkModel",
      "state": {
       "source": [
        "IPY_MODEL_a01d9710bcd84badbddcf4468a06b05d",
        "max"
       ],
       "target": [
        "IPY_MODEL_f77396bafdd24b83a7c2ccb84c7d0ac3",
        "max_frame"
       ]
      }
     },
     "104902f8c9ea41e19fd273f8d02c6b1c": {
      "model_module": "@jupyter-widgets/controls",
      "model_module_version": "2.0.0",
      "model_name": "DescriptionStyleModel",
      "state": {
       "description_width": ""
      }
     },
     "108e947af9084ad49d895ba19a3c2271": {
      "model_module": "@jupyter-widgets/base",
      "model_module_version": "2.0.0",
      "model_name": "LayoutModel",
      "state": {}
     },
     "10d6c2de87e048a881b6724760b1e562": {
      "model_module": "@jupyter-widgets/base",
      "model_module_version": "2.0.0",
      "model_name": "LayoutModel",
      "state": {}
     },
     "10ef294d1d36431d8307f3f030b67090": {
      "model_module": "nglview-js-widgets",
      "model_module_version": "3.1.0",
      "model_name": "NGLModel",
      "state": {
       "_camera_orientation": [
        25.20143607381827,
        0,
        0,
        0,
        0,
        25.20143607381827,
        0,
        0,
        0,
        0,
        25.20143607381827,
        0,
        -18.133000373840332,
        -6.447000026702881,
        -21.994999885559082,
        1
       ],
       "_camera_str": "orthographic",
       "_gui_theme": null,
       "_ibtn_fullscreen": "IPY_MODEL_483eaefc1beb42cba25b8a9222a16b58",
       "_igui": null,
       "_iplayer": "IPY_MODEL_729eddaf5be14b95a95eccba383e33af",
       "_ngl_color_dict": {},
       "_ngl_coordinate_resource": {},
       "_ngl_full_stage_parameters": {
        "ambientColor": 14540253,
        "ambientIntensity": 0.2,
        "backgroundColor": "white",
        "cameraEyeSep": 0.3,
        "cameraFov": 40,
        "cameraType": "perspective",
        "clipDist": 10,
        "clipFar": 100,
        "clipMode": "scene",
        "clipNear": 0,
        "clipScale": "relative",
        "fogFar": 100,
        "fogNear": 50,
        "hoverTimeout": 0,
        "impostor": true,
        "lightColor": 14540253,
        "lightIntensity": 1,
        "mousePreset": "default",
        "panSpeed": 1,
        "quality": "medium",
        "rotateSpeed": 2,
        "sampleLevel": 0,
        "tooltip": true,
        "workerDefault": true,
        "zoomSpeed": 1.2
       },
       "_ngl_msg_archive": [
        {
         "args": [
          {
           "binary": false,
           "data": "REMARK   1 CREATED WITH MDTraj 1.9.6, 2024-09-05\nCRYST1   25.580   25.580   25.580  90.00  90.00  90.00 P 1           1 \nMODEL        0\nATOM      1  H1  ACE A   1      19.185   3.272  20.062  1.00  0.00           H  \nATOM      2  CH3 ACE A   1      18.852   3.056  21.077  1.00  0.00           C  \nATOM      3  H2  ACE A   1      19.711   2.965  21.742  1.00  0.00           H  \nATOM      4  H3  ACE A   1      18.267   2.137  21.094  1.00  0.00           H  \nATOM      5  C   ACE A   1      17.969   4.173  21.580  1.00  0.00           C  \nATOM      6  O   ACE A   1      16.799   3.940  21.826  1.00  0.00           O  \nATOM      7  N   ALA A   2      18.542   5.357  21.737  1.00  0.00           N  \nATOM      8  H   ALA A   2      19.537   5.432  21.581  1.00  0.00           H  \nATOM      9  CA  ALA A   2      17.848   6.546  22.226  1.00  0.00           C  \nATOM     10  HA  ALA A   2      16.778   6.439  22.048  1.00  0.00           H  \nATOM     11  CB  ALA A   2      18.056   6.616  23.749  1.00  0.00           C  \nATOM     12  HB1 ALA A   2      17.618   7.523  24.166  1.00  0.00           H  \nATOM     13  HB2 ALA A   2      19.126   6.649  23.954  1.00  0.00           H  \nATOM     14  HB3 ALA A   2      17.636   5.733  24.230  1.00  0.00           H  \nATOM     15  C   ALA A   2      18.330   7.819  21.506  1.00  0.00           C  \nATOM     16  O   ALA A   2      19.476   7.890  21.079  1.00  0.00           O  \nATOM     17  N   NME A   3      17.462   8.834  21.430  1.00  0.00           N  \nATOM     18  H   NME A   3      16.555   8.713  21.856  1.00  0.00           H  \nATOM     19  C   NME A   3      17.780  10.114  20.802  1.00  0.00           C  \nATOM     20  H1  NME A   3      16.900  10.757  20.804  1.00  0.00           H  \nATOM     21  H2  NME A   3      18.606  10.599  21.323  1.00  0.00           H  \nATOM     22  H3  NME A   3      18.047   9.939  19.760  1.00  0.00           H  \nTER      23      NME A   3\nENDMDL\nCONECT    1    2    2\nCONECT    2    5    1    3\nCONECT    2    1    5    3    4\nCONECT    3    2    2\nCONECT    4    2    2\nCONECT    5    2    6    7\nCONECT    5    6    7\nCONECT    6    5    5\nCONECT    7    5    5\nCONECT   15   17   17\nCONECT   17   15   19   18\nCONECT   17   19   18\nCONECT   18   17   17\nCONECT   19   20   21   22\nCONECT   19   17   20   21   22\nCONECT   20   19   19\nCONECT   21   19   19\nCONECT   22   19   19\nEND\n",
           "type": "blob"
          }
         ],
         "kwargs": {
          "defaultRepresentation": true,
          "ext": "pdb",
          "height": "400px",
          "width": "400px"
         },
         "methodName": "loadFile",
         "reconstruc_color_scheme": false,
         "target": "Stage",
         "type": "call_method"
        },
        {
         "args": [
          "ball+stick"
         ],
         "component_index": 0,
         "kwargs": {
          "aspectRatio": 1,
          "color": "#D55E00",
          "radius": 0.5,
          "sele": "@5,7,9,11"
         },
         "methodName": "addRepresentation",
         "reconstruc_color_scheme": false,
         "target": "compList",
         "type": "call_method"
        }
       ],
       "_ngl_original_stage_parameters": {
        "ambientColor": 14540253,
        "ambientIntensity": 0.2,
        "backgroundColor": "white",
        "cameraEyeSep": 0.3,
        "cameraFov": 40,
        "cameraType": "perspective",
        "clipDist": 10,
        "clipFar": 100,
        "clipMode": "scene",
        "clipNear": 0,
        "clipScale": "relative",
        "fogFar": 100,
        "fogNear": 50,
        "hoverTimeout": 0,
        "impostor": true,
        "lightColor": 14540253,
        "lightIntensity": 1,
        "mousePreset": "default",
        "panSpeed": 1,
        "quality": "medium",
        "rotateSpeed": 2,
        "sampleLevel": 0,
        "tooltip": true,
        "workerDefault": true,
        "zoomSpeed": 1.2
       },
       "_ngl_repr_dict": {
        "0": {
         "0": {
          "params": {
           "aspectRatio": 1.5,
           "assembly": "default",
           "bondScale": 0.3,
           "bondSpacing": 0.75,
           "clipCenter": {
            "x": 0,
            "y": 0,
            "z": 0
           },
           "clipNear": 0,
           "clipRadius": 0,
           "colorMode": "hcl",
           "colorReverse": false,
           "colorScale": "",
           "colorScheme": "element",
           "colorValue": 9474192,
           "cylinderOnly": false,
           "defaultAssembly": "",
           "depthWrite": true,
           "diffuse": 16777215,
           "diffuseInterior": false,
           "disableImpostor": false,
           "disablePicking": false,
           "flatShaded": false,
           "interiorColor": 2236962,
           "interiorDarkening": 0,
           "lazy": false,
           "lineOnly": false,
           "linewidth": 2,
           "matrix": {
            "elements": [
             1,
             0,
             0,
             0,
             0,
             1,
             0,
             0,
             0,
             0,
             1,
             0,
             0,
             0,
             0,
             1
            ]
           },
           "metalness": 0,
           "multipleBond": "off",
           "opacity": 1,
           "openEnded": true,
           "quality": "high",
           "radialSegments": 20,
           "radiusData": {},
           "radiusScale": 2,
           "radiusSize": 0.15,
           "radiusType": "size",
           "roughness": 0.4,
           "sele": "",
           "side": "double",
           "sphereDetail": 2,
           "useInteriorColor": true,
           "visible": true,
           "wireframe": false
          },
          "type": "ball+stick"
         },
         "1": {
          "params": {
           "aspectRatio": 1,
           "assembly": "default",
           "bondScale": 0.4,
           "bondSpacing": 1,
           "clipCenter": {
            "x": 0,
            "y": 0,
            "z": 0
           },
           "clipNear": 0,
           "clipRadius": 0,
           "colorMode": "hcl",
           "colorReverse": false,
           "colorScale": "",
           "colorScheme": "uniform",
           "colorValue": 13983232,
           "cylinderOnly": false,
           "defaultAssembly": "",
           "depthWrite": true,
           "diffuse": 16777215,
           "diffuseInterior": false,
           "disableImpostor": false,
           "disablePicking": false,
           "flatShaded": false,
           "interiorColor": 2236962,
           "interiorDarkening": 0,
           "lazy": false,
           "lineOnly": false,
           "linewidth": 2,
           "matrix": {
            "elements": [
             1,
             0,
             0,
             0,
             0,
             1,
             0,
             0,
             0,
             0,
             1,
             0,
             0,
             0,
             0,
             1
            ]
           },
           "metalness": 0,
           "multipleBond": "off",
           "opacity": 1,
           "openEnded": true,
           "quality": "medium",
           "radialSegments": 10,
           "radiusData": {},
           "radiusScale": 1,
           "radiusSize": 0.5,
           "radiusType": "size",
           "roughness": 0.4,
           "sele": "@5,7,9,11",
           "side": "double",
           "sphereDetail": 1,
           "useInteriorColor": true,
           "visible": true,
           "wireframe": false
          },
          "type": "ball+stick"
         }
        }
       },
       "_ngl_serialize": false,
       "_ngl_version": "2.2.2",
       "_ngl_view_id": [
        "7E92A9F6-B4AB-4F5F-B5F2-E4BB05EAC94A"
       ],
       "_player_dict": {},
       "_scene_position": {},
       "_scene_rotation": {},
       "_synced_model_ids": [],
       "_synced_repr_model_ids": [],
       "_view_height": "400px",
       "_view_width": "400px",
       "background": "white",
       "frame": 0,
       "gui_style": null,
       "layout": "IPY_MODEL_4f92eba018344496854ed2fa3ab94c8d",
       "max_frame": 0,
       "n_components": 1,
       "picked": {}
      }
     },
     "12feec7a4b4943ab830d07681490a7ed": {
      "model_module": "@jupyter-widgets/controls",
      "model_module_version": "2.0.0",
      "model_name": "ButtonStyleModel",
      "state": {
       "font_family": null,
       "font_size": null,
       "font_style": null,
       "font_variant": null,
       "font_weight": null,
       "text_color": null,
       "text_decoration": null
      }
     },
     "131c7427b7e74fa68984a7e5485859bc": {
      "model_module": "@jupyter-widgets/base",
      "model_module_version": "2.0.0",
      "model_name": "LayoutModel",
      "state": {}
     },
     "1348a09eb4074a6f94bc79a57e9e6c5f": {
      "model_module": "@jupyter-widgets/controls",
      "model_module_version": "2.0.0",
      "model_name": "LinkModel",
      "state": {
       "source": [
        "IPY_MODEL_ba1220df3af9479b958266d821fa8462",
        "value"
       ],
       "target": [
        "IPY_MODEL_888434ae545d46bc857c9daf7acd89ce",
        "frame"
       ]
      }
     },
     "14dd113b11274735899f1e99a1165ac8": {
      "model_module": "@jupyter-widgets/base",
      "model_module_version": "2.0.0",
      "model_name": "LayoutModel",
      "state": {}
     },
     "1718cea1a4bb461482ce5b8853301cc8": {
      "model_module": "@jupyter-widgets/base",
      "model_module_version": "2.0.0",
      "model_name": "LayoutModel",
      "state": {}
     },
     "1731d0d281f444ce8a2268d13de7b4d4": {
      "model_module": "@jupyter-widgets/base",
      "model_module_version": "2.0.0",
      "model_name": "LayoutModel",
      "state": {}
     },
     "17cf34b7072f435aa695cd92f2739da7": {
      "model_module": "@jupyter-widgets/controls",
      "model_module_version": "2.0.0",
      "model_name": "LinkModel",
      "state": {
       "source": [
        "IPY_MODEL_ac19fbe8495d4ee9a398b27e97fc0780",
        "value"
       ],
       "target": [
        "IPY_MODEL_b99c5fe25ee74ce390a234e116a09119",
        "value"
       ]
      }
     },
     "182adb6e7d394fb5bf54bbee12ae1611": {
      "model_module": "@jupyter-widgets/controls",
      "model_module_version": "2.0.0",
      "model_name": "ImageModel",
      "state": {
       "layout": "IPY_MODEL_d2968f1847e34a0f9676258672ca5879",
       "width": "900.0"
      }
     },
     "188c788b0a9649bab60aa8f838a47269": {
      "model_module": "@jupyter-widgets/base",
      "model_module_version": "2.0.0",
      "model_name": "LayoutModel",
      "state": {}
     },
     "18a9ebdb7b384db8a6742191b337e0e6": {
      "model_module": "nglview-js-widgets",
      "model_module_version": "3.1.0",
      "model_name": "NGLModel",
      "state": {
       "_camera_orientation": [
        17.42869509124045,
        -2.5528199690981284,
        2.255459060081401,
        0,
        2.0546961488207343,
        17.256525987985665,
        3.6543032867777065,
        0,
        -2.7170221019253185,
        -3.325480263226196,
        17.23143551380153,
        0,
        -13.975999355316162,
        -15.923500061035156,
        3.4434999227523804,
        1
       ],
       "_camera_str": "orthographic",
       "_gui_theme": null,
       "_ibtn_fullscreen": "IPY_MODEL_ad75bd2d443f45c1ad10ccdedbb63789",
       "_igui": null,
       "_iplayer": "IPY_MODEL_ee19e5b991314db5afcb4abc0c5fa085",
       "_ngl_color_dict": {},
       "_ngl_coordinate_resource": {},
       "_ngl_full_stage_parameters": {
        "ambientColor": 14540253,
        "ambientIntensity": 0.2,
        "backgroundColor": "white",
        "cameraEyeSep": 0.3,
        "cameraFov": 40,
        "cameraType": "perspective",
        "clipDist": 10,
        "clipFar": 100,
        "clipMode": "scene",
        "clipNear": 0,
        "clipScale": "relative",
        "fogFar": 100,
        "fogNear": 50,
        "hoverTimeout": 0,
        "impostor": true,
        "lightColor": 14540253,
        "lightIntensity": 1,
        "mousePreset": "default",
        "panSpeed": 1,
        "quality": "medium",
        "rotateSpeed": 2,
        "sampleLevel": 0,
        "tooltip": true,
        "workerDefault": true,
        "zoomSpeed": 1.2
       },
       "_ngl_msg_archive": [
        {
         "args": [
          {
           "binary": false,
           "data": "REMARK   1 CREATED WITH MDTraj 1.9.6, 2021-09-14\nCRYST1   20.233   20.233   20.233  90.00  90.00  90.00 P 1           1 \nMODEL        0\nATOM      1  H1  ACE A   1      16.384  14.081  -5.858  1.00  0.00           H  \nATOM      2  CH3 ACE A   1      16.530  14.752  -5.012  1.00  0.00           C  \nATOM      3  H2  ACE A   1      17.262  15.508  -5.297  1.00  0.00           H  \nATOM      4  H3  ACE A   1      16.909  14.174  -4.169  1.00  0.00           H  \nATOM      5  C   ACE A   1      15.200  15.391  -4.663  1.00  0.00           C  \nATOM      6  O   ACE A   1      14.169  14.948  -5.147  1.00  0.00           O  \nATOM      7  N   ALA A   2      15.223  16.439  -3.824  1.00  0.00           N  \nATOM      8  H   ALA A   2      16.138  16.741  -3.522  1.00  0.00           H  \nATOM      9  CA  ALA A   2      14.061  17.185  -3.253  1.00  0.00           C  \nATOM     10  HA  ALA A   2      14.475  17.918  -2.560  1.00  0.00           H  \nATOM     11  CB  ALA A   2      13.353  17.961  -4.365  1.00  0.00           C  \nATOM     12  HB1 ALA A   2      12.564  18.580  -3.938  1.00  0.00           H  \nATOM     13  HB2 ALA A   2      14.090  18.590  -4.865  1.00  0.00           H  \nATOM     14  HB3 ALA A   2      12.926  17.296  -5.116  1.00  0.00           H  \nATOM     15  C   ALA A   2      13.036  16.370  -2.426  1.00  0.00           C  \nATOM     16  O   ALA A   2      12.568  16.879  -1.404  1.00  0.00           O  \nATOM     17  N   NME A   3      12.674  15.159  -2.814  1.00  0.00           N  \nATOM     18  H   NME A   3      13.075  14.848  -3.687  1.00  0.00           H  \nATOM     19  C   NME A   3      11.703  14.298  -2.109  1.00  0.00           C  \nATOM     20  H1  NME A   3      10.690  14.587  -2.391  1.00  0.00           H  \nATOM     21  H2  NME A   3      11.856  13.257  -2.395  1.00  0.00           H  \nATOM     22  H3  NME A   3      11.817  14.384  -1.029  1.00  0.00           H  \nTER      23      NME A   3\nENDMDL\nCONECT    1    2\nCONECT    2    3    4    5\nCONECT    5    6    6    7\nCONECT    7    8    9\nCONECT    9   10   11   15\nCONECT   11   12   13   14\nCONECT   15   16   16   17\nCONECT   17   18   19\nCONECT   19   20   21   22\nEND",
           "type": "blob"
          }
         ],
         "kwargs": {
          "defaultRepresentation": true,
          "ext": "pdb",
          "height": "400px",
          "width": "400px"
         },
         "methodName": "loadFile",
         "reconstruc_color_scheme": false,
         "target": "Stage",
         "type": "call_method"
        },
        {
         "args": [
          "ball+stick"
         ],
         "component_index": 0,
         "kwargs": {
          "aspectRatio": 1,
          "color": "#D55E00",
          "radius": 0.5,
          "sele": "@4,6,8,10"
         },
         "methodName": "addRepresentation",
         "reconstruc_color_scheme": false,
         "target": "compList",
         "type": "call_method"
        }
       ],
       "_ngl_original_stage_parameters": {
        "ambientColor": 14540253,
        "ambientIntensity": 0.2,
        "backgroundColor": "white",
        "cameraEyeSep": 0.3,
        "cameraFov": 40,
        "cameraType": "perspective",
        "clipDist": 10,
        "clipFar": 100,
        "clipMode": "scene",
        "clipNear": 0,
        "clipScale": "relative",
        "fogFar": 100,
        "fogNear": 50,
        "hoverTimeout": 0,
        "impostor": true,
        "lightColor": 14540253,
        "lightIntensity": 1,
        "mousePreset": "default",
        "panSpeed": 1,
        "quality": "medium",
        "rotateSpeed": 2,
        "sampleLevel": 0,
        "tooltip": true,
        "workerDefault": true,
        "zoomSpeed": 1.2
       },
       "_ngl_repr_dict": {
        "0": {
         "0": {
          "params": {
           "aspectRatio": 1.5,
           "assembly": "default",
           "bondScale": 0.3,
           "bondSpacing": 0.75,
           "clipCenter": {
            "x": 0,
            "y": 0,
            "z": 0
           },
           "clipNear": 0,
           "clipRadius": 0,
           "colorMode": "hcl",
           "colorReverse": false,
           "colorScale": "",
           "colorScheme": "element",
           "colorValue": 9474192,
           "cylinderOnly": false,
           "defaultAssembly": "",
           "depthWrite": true,
           "diffuse": 16777215,
           "diffuseInterior": false,
           "disableImpostor": false,
           "disablePicking": false,
           "flatShaded": false,
           "interiorColor": 2236962,
           "interiorDarkening": 0,
           "lazy": false,
           "lineOnly": false,
           "linewidth": 2,
           "matrix": {
            "elements": [
             1,
             0,
             0,
             0,
             0,
             1,
             0,
             0,
             0,
             0,
             1,
             0,
             0,
             0,
             0,
             1
            ]
           },
           "metalness": 0,
           "multipleBond": "off",
           "opacity": 1,
           "openEnded": true,
           "quality": "high",
           "radialSegments": 20,
           "radiusData": {},
           "radiusScale": 2,
           "radiusSize": 0.15,
           "radiusType": "size",
           "roughness": 0.4,
           "sele": "",
           "side": "double",
           "sphereDetail": 2,
           "useInteriorColor": true,
           "visible": true,
           "wireframe": false
          },
          "type": "ball+stick"
         },
         "1": {
          "params": {
           "aspectRatio": 1,
           "assembly": "default",
           "bondScale": 0.4,
           "bondSpacing": 1,
           "clipCenter": {
            "x": 0,
            "y": 0,
            "z": 0
           },
           "clipNear": 0,
           "clipRadius": 0,
           "colorMode": "hcl",
           "colorReverse": false,
           "colorScale": "",
           "colorScheme": "uniform",
           "colorValue": 13983232,
           "cylinderOnly": false,
           "defaultAssembly": "",
           "depthWrite": true,
           "diffuse": 16777215,
           "diffuseInterior": false,
           "disableImpostor": false,
           "disablePicking": false,
           "flatShaded": false,
           "interiorColor": 2236962,
           "interiorDarkening": 0,
           "lazy": false,
           "lineOnly": false,
           "linewidth": 2,
           "matrix": {
            "elements": [
             1,
             0,
             0,
             0,
             0,
             1,
             0,
             0,
             0,
             0,
             1,
             0,
             0,
             0,
             0,
             1
            ]
           },
           "metalness": 0,
           "multipleBond": "off",
           "opacity": 1,
           "openEnded": true,
           "quality": "medium",
           "radialSegments": 10,
           "radiusData": {},
           "radiusScale": 1,
           "radiusSize": 0.5,
           "radiusType": "size",
           "roughness": 0.4,
           "sele": "@4,6,8,10",
           "side": "double",
           "sphereDetail": 1,
           "useInteriorColor": true,
           "visible": true,
           "wireframe": false
          },
          "type": "ball+stick"
         }
        }
       },
       "_ngl_serialize": false,
       "_ngl_version": "2.2.2",
       "_ngl_view_id": [
        "992B8F9B-11F8-4AB1-B415-129E14261408"
       ],
       "_player_dict": {},
       "_scene_position": {},
       "_scene_rotation": {},
       "_synced_model_ids": [],
       "_synced_repr_model_ids": [],
       "_view_height": "400px",
       "_view_width": "400px",
       "background": "white",
       "frame": 0,
       "gui_style": null,
       "layout": "IPY_MODEL_45d143b54e82429194f44cde5b61ffdd",
       "max_frame": 0,
       "n_components": 1,
       "picked": {}
      }
     },
     "192f5be326ec4eef840a03feaaa55534": {
      "model_module": "@jupyter-widgets/controls",
      "model_module_version": "2.0.0",
      "model_name": "DescriptionStyleModel",
      "state": {
       "description_width": ""
      }
     },
     "1a8a3cae781f4e8fa00035bc1b27f423": {
      "model_module": "@jupyter-widgets/controls",
      "model_module_version": "2.0.0",
      "model_name": "LinkModel",
      "state": {
       "source": [
        "IPY_MODEL_84892676231146198c58253bd5f8784b",
        "value"
       ],
       "target": [
        "IPY_MODEL_0c568b64d54e4a8b84a24af5c8ce1e87",
        "value"
       ]
      }
     },
     "1ad725331b1146b7b5355adcab97f284": {
      "model_module": "@jupyter-widgets/controls",
      "model_module_version": "2.0.0",
      "model_name": "IntSliderModel",
      "state": {
       "behavior": "drag-tap",
       "layout": "IPY_MODEL_bcf0660e8e414e65983cc3e9c01b57f8",
       "max": 0,
       "style": "IPY_MODEL_d0c257ac09a64c0a89e5c10c0fe154fd"
      }
     },
     "1af926859bff49ce8b6d9f629a876b13": {
      "model_module": "@jupyter-widgets/controls",
      "model_module_version": "2.0.0",
      "model_name": "PlayModel",
      "state": {
       "layout": "IPY_MODEL_715ace4926d24a309691a6d5821e9c94",
       "max": 0,
       "style": "IPY_MODEL_82ad29cf074544db856b483230931fee"
      }
     },
     "1b5515919414402bb45b6ae185f16b2b": {
      "model_module": "@jupyter-widgets/controls",
      "model_module_version": "2.0.0",
      "model_name": "ButtonModel",
      "state": {
       "icon": "compress",
       "layout": "IPY_MODEL_7e31eb52caf1480eaa30eba0803f3094",
       "style": "IPY_MODEL_eef2fdb394e341ff9c8e83099b4cc92b",
       "tooltip": null
      }
     },
     "1b8df5a95d664a639bacf53391771543": {
      "model_module": "@jupyter-widgets/controls",
      "model_module_version": "2.0.0",
      "model_name": "HBoxModel",
      "state": {
       "children": [
        "IPY_MODEL_c561742f4e8544a493af9d56cee09b96",
        "IPY_MODEL_fbf47c4b5fe1446586d771d36a9e55cc"
       ],
       "layout": "IPY_MODEL_1badb16a40c4464d94a1c94781022b69"
      }
     },
     "1badb16a40c4464d94a1c94781022b69": {
      "model_module": "@jupyter-widgets/base",
      "model_module_version": "2.0.0",
      "model_name": "LayoutModel",
      "state": {}
     },
     "1d379d079d9a49e0845b6ef1fd977cf7": {
      "model_module": "@jupyter-widgets/controls",
      "model_module_version": "2.0.0",
      "model_name": "ImageModel",
      "state": {
       "layout": "IPY_MODEL_8e88914c942343d49931cdc1555e2be5",
       "width": "900.0"
      }
     },
     "1dc49933e6154537946889d2348309fb": {
      "model_module": "@jupyter-widgets/controls",
      "model_module_version": "2.0.0",
      "model_name": "SliderStyleModel",
      "state": {
       "description_width": ""
      }
     },
     "1e93b482c8d248d7b8266af59ed94b88": {
      "model_module": "@jupyter-widgets/controls",
      "model_module_version": "2.0.0",
      "model_name": "SliderStyleModel",
      "state": {
       "description_width": ""
      }
     },
     "1ff4e3cfa8c64262b9efe65d92a3d630": {
      "model_module": "@jupyter-widgets/controls",
      "model_module_version": "2.0.0",
      "model_name": "LinkModel",
      "state": {
       "source": [
        "IPY_MODEL_b99c5fe25ee74ce390a234e116a09119",
        "max"
       ],
       "target": [
        "IPY_MODEL_18a9ebdb7b384db8a6742191b337e0e6",
        "max_frame"
       ]
      }
     },
     "23afc33abf63424ea75ae41bed5f3ca5": {
      "model_module": "@jupyter-widgets/controls",
      "model_module_version": "2.0.0",
      "model_name": "LinkModel",
      "state": {
       "source": [
        "IPY_MODEL_1af926859bff49ce8b6d9f629a876b13",
        "value"
       ],
       "target": [
        "IPY_MODEL_6d25a4d95591402f866001893747e703",
        "frame"
       ]
      }
     },
     "272444b0a0fa4cbdb91ba84eda704f8c": {
      "model_module": "@jupyter-widgets/controls",
      "model_module_version": "2.0.0",
      "model_name": "ImageModel",
      "state": {
       "layout": "IPY_MODEL_99bad12e24cb48a8a9640e5446c82e82",
       "width": "900.0"
      }
     },
     "29ea89bb8a0347ad937123eb5390bdec": {
      "model_module": "@jupyter-widgets/controls",
      "model_module_version": "2.0.0",
      "model_name": "LinkModel",
      "state": {
       "source": [
        "IPY_MODEL_c7873a9f0d02497e8ad941d17e9622cb",
        "value"
       ],
       "target": [
        "IPY_MODEL_558ce2ed93844e3f8732ec0fc517a258",
        "value"
       ]
      }
     },
     "29ed3ce77df141eb98a08d7aad49e51e": {
      "model_module": "@jupyter-widgets/controls",
      "model_module_version": "2.0.0",
      "model_name": "LinkModel",
      "state": {
       "source": [
        "IPY_MODEL_1af926859bff49ce8b6d9f629a876b13",
        "max"
       ],
       "target": [
        "IPY_MODEL_6d25a4d95591402f866001893747e703",
        "max_frame"
       ]
      }
     },
     "2a2b391ec73240f2856157ceaa4c3f97": {
      "model_module": "@jupyter-widgets/controls",
      "model_module_version": "2.0.0",
      "model_name": "LinkModel",
      "state": {
       "source": [
        "IPY_MODEL_5bb2a8c1e6d6489ab91abcaa9b950316",
        "max"
       ],
       "target": [
        "IPY_MODEL_a89f64026d4947e39fa47611402bb779",
        "max_frame"
       ]
      }
     },
     "2b33055c9dc7436ab24946c71284eba4": {
      "model_module": "@jupyter-widgets/base",
      "model_module_version": "2.0.0",
      "model_name": "LayoutModel",
      "state": {}
     },
     "2bafaa6ded5a408984394e37ee1396fc": {
      "model_module": "@jupyter-widgets/base",
      "model_module_version": "2.0.0",
      "model_name": "LayoutModel",
      "state": {}
     },
     "2c1d27ff7e0f47719260fb5a0f4c1676": {
      "model_module": "nglview-js-widgets",
      "model_module_version": "3.1.0",
      "model_name": "NGLModel",
      "state": {
       "_camera_orientation": [
        22.274163191886743,
        -1.192710194551223,
        4.827438407750137,
        0,
        -0.29062857903583744,
        21.80611374225737,
        6.728595958771168,
        0,
        -4.9640965157675145,
        -6.628416925568097,
        21.26703787391644,
        0,
        -13.975999355316162,
        -15.923500061035156,
        3.4434999227523804,
        1
       ],
       "_camera_str": "orthographic",
       "_gui_theme": null,
       "_ibtn_fullscreen": "IPY_MODEL_ba65cd2837c640309c5a92e38706eae5",
       "_igui": null,
       "_iplayer": "IPY_MODEL_077e1205bcbf44a9902310478a5cfeed",
       "_ngl_color_dict": {},
       "_ngl_coordinate_resource": {},
       "_ngl_full_stage_parameters": {
        "ambientColor": 14540253,
        "ambientIntensity": 0.2,
        "backgroundColor": "white",
        "cameraEyeSep": 0.3,
        "cameraFov": 40,
        "cameraType": "perspective",
        "clipDist": 10,
        "clipFar": 100,
        "clipMode": "scene",
        "clipNear": 0,
        "clipScale": "relative",
        "fogFar": 100,
        "fogNear": 50,
        "hoverTimeout": 0,
        "impostor": true,
        "lightColor": 14540253,
        "lightIntensity": 1,
        "mousePreset": "default",
        "panSpeed": 1,
        "quality": "medium",
        "rotateSpeed": 2,
        "sampleLevel": 0,
        "tooltip": true,
        "workerDefault": true,
        "zoomSpeed": 1.2
       },
       "_ngl_msg_archive": [
        {
         "args": [
          {
           "binary": false,
           "data": "REMARK   1 CREATED WITH MDTraj 1.9.6, 2021-09-14\nCRYST1   20.233   20.233   20.233  90.00  90.00  90.00 P 1           1 \nMODEL        0\nATOM      1  H1  ACE A   1      16.384  14.081  -5.858  1.00  0.00           H  \nATOM      2  CH3 ACE A   1      16.530  14.752  -5.012  1.00  0.00           C  \nATOM      3  H2  ACE A   1      17.262  15.508  -5.297  1.00  0.00           H  \nATOM      4  H3  ACE A   1      16.909  14.174  -4.169  1.00  0.00           H  \nATOM      5  C   ACE A   1      15.200  15.391  -4.663  1.00  0.00           C  \nATOM      6  O   ACE A   1      14.169  14.948  -5.147  1.00  0.00           O  \nATOM      7  N   ALA A   2      15.223  16.439  -3.824  1.00  0.00           N  \nATOM      8  H   ALA A   2      16.138  16.741  -3.522  1.00  0.00           H  \nATOM      9  CA  ALA A   2      14.061  17.185  -3.253  1.00  0.00           C  \nATOM     10  HA  ALA A   2      14.475  17.918  -2.560  1.00  0.00           H  \nATOM     11  CB  ALA A   2      13.353  17.961  -4.365  1.00  0.00           C  \nATOM     12  HB1 ALA A   2      12.564  18.580  -3.938  1.00  0.00           H  \nATOM     13  HB2 ALA A   2      14.090  18.590  -4.865  1.00  0.00           H  \nATOM     14  HB3 ALA A   2      12.926  17.296  -5.116  1.00  0.00           H  \nATOM     15  C   ALA A   2      13.036  16.370  -2.426  1.00  0.00           C  \nATOM     16  O   ALA A   2      12.568  16.879  -1.404  1.00  0.00           O  \nATOM     17  N   NME A   3      12.674  15.159  -2.814  1.00  0.00           N  \nATOM     18  H   NME A   3      13.075  14.848  -3.687  1.00  0.00           H  \nATOM     19  C   NME A   3      11.703  14.298  -2.109  1.00  0.00           C  \nATOM     20  H1  NME A   3      10.690  14.587  -2.391  1.00  0.00           H  \nATOM     21  H2  NME A   3      11.856  13.257  -2.395  1.00  0.00           H  \nATOM     22  H3  NME A   3      11.817  14.384  -1.029  1.00  0.00           H  \nTER      23      NME A   3\nENDMDL\nCONECT    1    2\nCONECT    2    3    4    5\nCONECT    5    6    6    7\nCONECT    7    8    9\nCONECT    9   10   11   15\nCONECT   11   12   13   14\nCONECT   15   16   16   17\nCONECT   17   18   19\nCONECT   19   20   21   22\nEND",
           "type": "blob"
          }
         ],
         "kwargs": {
          "defaultRepresentation": true,
          "ext": "pdb",
          "height": "400px",
          "width": "400px"
         },
         "methodName": "loadFile",
         "reconstruc_color_scheme": false,
         "target": "Stage",
         "type": "call_method"
        },
        {
         "args": [
          "ball+stick"
         ],
         "component_index": 0,
         "kwargs": {
          "aspectRatio": 1,
          "color": "#A10035",
          "radius": 0.5,
          "sele": "@8,10,14,16"
         },
         "methodName": "addRepresentation",
         "reconstruc_color_scheme": false,
         "target": "compList",
         "type": "call_method"
        }
       ],
       "_ngl_original_stage_parameters": {
        "ambientColor": 14540253,
        "ambientIntensity": 0.2,
        "backgroundColor": "white",
        "cameraEyeSep": 0.3,
        "cameraFov": 40,
        "cameraType": "perspective",
        "clipDist": 10,
        "clipFar": 100,
        "clipMode": "scene",
        "clipNear": 0,
        "clipScale": "relative",
        "fogFar": 100,
        "fogNear": 50,
        "hoverTimeout": 0,
        "impostor": true,
        "lightColor": 14540253,
        "lightIntensity": 1,
        "mousePreset": "default",
        "panSpeed": 1,
        "quality": "medium",
        "rotateSpeed": 2,
        "sampleLevel": 0,
        "tooltip": true,
        "workerDefault": true,
        "zoomSpeed": 1.2
       },
       "_ngl_repr_dict": {
        "0": {
         "0": {
          "params": {
           "aspectRatio": 1.5,
           "assembly": "default",
           "bondScale": 0.3,
           "bondSpacing": 0.75,
           "clipCenter": {
            "x": 0,
            "y": 0,
            "z": 0
           },
           "clipNear": 0,
           "clipRadius": 0,
           "colorMode": "hcl",
           "colorReverse": false,
           "colorScale": "",
           "colorScheme": "element",
           "colorValue": 9474192,
           "cylinderOnly": false,
           "defaultAssembly": "",
           "depthWrite": true,
           "diffuse": 16777215,
           "diffuseInterior": false,
           "disableImpostor": false,
           "disablePicking": false,
           "flatShaded": false,
           "interiorColor": 2236962,
           "interiorDarkening": 0,
           "lazy": false,
           "lineOnly": false,
           "linewidth": 2,
           "matrix": {
            "elements": [
             1,
             0,
             0,
             0,
             0,
             1,
             0,
             0,
             0,
             0,
             1,
             0,
             0,
             0,
             0,
             1
            ]
           },
           "metalness": 0,
           "multipleBond": "off",
           "opacity": 1,
           "openEnded": true,
           "quality": "high",
           "radialSegments": 20,
           "radiusData": {},
           "radiusScale": 2,
           "radiusSize": 0.15,
           "radiusType": "size",
           "roughness": 0.4,
           "sele": "",
           "side": "double",
           "sphereDetail": 2,
           "useInteriorColor": true,
           "visible": true,
           "wireframe": false
          },
          "type": "ball+stick"
         },
         "1": {
          "params": {
           "aspectRatio": 1,
           "assembly": "default",
           "bondScale": 0.4,
           "bondSpacing": 1,
           "clipCenter": {
            "x": 0,
            "y": 0,
            "z": 0
           },
           "clipNear": 0,
           "clipRadius": 0,
           "colorMode": "hcl",
           "colorReverse": false,
           "colorScale": "",
           "colorScheme": "uniform",
           "colorValue": 10551349,
           "cylinderOnly": false,
           "defaultAssembly": "",
           "depthWrite": true,
           "diffuse": 16777215,
           "diffuseInterior": false,
           "disableImpostor": false,
           "disablePicking": false,
           "flatShaded": false,
           "interiorColor": 2236962,
           "interiorDarkening": 0,
           "lazy": false,
           "lineOnly": false,
           "linewidth": 2,
           "matrix": {
            "elements": [
             1,
             0,
             0,
             0,
             0,
             1,
             0,
             0,
             0,
             0,
             1,
             0,
             0,
             0,
             0,
             1
            ]
           },
           "metalness": 0,
           "multipleBond": "off",
           "opacity": 1,
           "openEnded": true,
           "quality": "medium",
           "radialSegments": 10,
           "radiusData": {},
           "radiusScale": 1,
           "radiusSize": 0.5,
           "radiusType": "size",
           "roughness": 0.4,
           "sele": "@8,10,14,16",
           "side": "double",
           "sphereDetail": 1,
           "useInteriorColor": true,
           "visible": true,
           "wireframe": false
          },
          "type": "ball+stick"
         }
        }
       },
       "_ngl_serialize": false,
       "_ngl_version": "2.2.2",
       "_ngl_view_id": [
        "58A0F5E4-3245-428B-A044-80A86002181D"
       ],
       "_player_dict": {},
       "_scene_position": {},
       "_scene_rotation": {},
       "_synced_model_ids": [],
       "_synced_repr_model_ids": [],
       "_view_height": "400px",
       "_view_width": "400px",
       "background": "white",
       "frame": 0,
       "gui_style": null,
       "layout": "IPY_MODEL_48d0aa570a7e4492b27cef8d1984ce1d",
       "max_frame": 0,
       "n_components": 1,
       "picked": {}
      }
     },
     "2d117da0e6c34188b5e056c15ec7ffa8": {
      "model_module": "@jupyter-widgets/controls",
      "model_module_version": "2.0.0",
      "model_name": "LinkModel",
      "state": {
       "source": [
        "IPY_MODEL_c561742f4e8544a493af9d56cee09b96",
        "value"
       ],
       "target": [
        "IPY_MODEL_fbf47c4b5fe1446586d771d36a9e55cc",
        "value"
       ]
      }
     },
     "2d966edbb1784438a6396372dd6ac06e": {
      "model_module": "@jupyter-widgets/controls",
      "model_module_version": "2.0.0",
      "model_name": "IntSliderModel",
      "state": {
       "behavior": "drag-tap",
       "layout": "IPY_MODEL_37f38c25850d41e3ac85f7788256c238",
       "max": 0,
       "style": "IPY_MODEL_345e13d410af4940864350ec7008b4b9"
      }
     },
     "2dff400ae9394eda99e6817e9f20169d": {
      "model_module": "@jupyter-widgets/base",
      "model_module_version": "2.0.0",
      "model_name": "LayoutModel",
      "state": {}
     },
     "2fda22740cf64cb78c3f88a12a3cdf1c": {
      "model_module": "@jupyter-widgets/controls",
      "model_module_version": "2.0.0",
      "model_name": "ButtonModel",
      "state": {
       "icon": "compress",
       "layout": "IPY_MODEL_d8ae9e2c57124d618e6869c217b7a8f6",
       "style": "IPY_MODEL_9678966286b04deebeee6e5f4eb32308",
       "tooltip": null
      }
     },
     "3165d5aa42b144d3813cd1cb805eb1f5": {
      "model_module": "@jupyter-widgets/controls",
      "model_module_version": "2.0.0",
      "model_name": "LinkModel",
      "state": {
       "source": [
        "IPY_MODEL_eb130879c154439bbf97ef98e9209260",
        "max"
       ],
       "target": [
        "IPY_MODEL_6e009bc4ea4940408d4bd6e8945827a6",
        "max_frame"
       ]
      }
     },
     "31b56aae04334eff8e4690fa150d7e50": {
      "model_module": "@jupyter-widgets/controls",
      "model_module_version": "2.0.0",
      "model_name": "ButtonModel",
      "state": {
       "icon": "compress",
       "layout": "IPY_MODEL_f2f9e80cdb13424797a62e1211f6c9dd",
       "style": "IPY_MODEL_f497a2160f3647b79aa8b0cc575083b9",
       "tooltip": null
      }
     },
     "32b9dc1b4e0d4e31949d19d1811ec522": {
      "model_module": "@jupyter-widgets/controls",
      "model_module_version": "2.0.0",
      "model_name": "LinkModel",
      "state": {
       "source": [
        "IPY_MODEL_975aa9841c124da78d7d97bf887938b6",
        "value"
       ],
       "target": [
        "IPY_MODEL_8b10d23e689b4a88930fb8bdbca60c13",
        "value"
       ]
      }
     },
     "3311adab638f489da24eebac36a35f49": {
      "model_module": "nglview-js-widgets",
      "model_module_version": "3.1.0",
      "model_name": "NGLModel",
      "state": {
       "_camera_orientation": [
        -1.128408237816557,
        9.93536635865787,
        -23.1328245216798,
        0,
        10.851969558076558,
        21.08639236934108,
        8.527085887893966,
        0,
        22.717258455679833,
        -9.579401460852958,
        -5.222414775982611,
        0,
        -18.133000373840332,
        -6.447000026702881,
        -21.994999885559082,
        1
       ],
       "_camera_str": "orthographic",
       "_gui_theme": null,
       "_ibtn_fullscreen": "IPY_MODEL_ce9f4ace29ac4d8c96650cdfae50671a",
       "_igui": null,
       "_iplayer": "IPY_MODEL_4699a033eace44869bdf617635b0efed",
       "_ngl_color_dict": {},
       "_ngl_coordinate_resource": {},
       "_ngl_full_stage_parameters": {
        "ambientColor": 14540253,
        "ambientIntensity": 0.2,
        "backgroundColor": "white",
        "cameraEyeSep": 0.3,
        "cameraFov": 40,
        "cameraType": "perspective",
        "clipDist": 10,
        "clipFar": 100,
        "clipMode": "scene",
        "clipNear": 0,
        "clipScale": "relative",
        "fogFar": 100,
        "fogNear": 50,
        "hoverTimeout": 0,
        "impostor": true,
        "lightColor": 14540253,
        "lightIntensity": 1,
        "mousePreset": "default",
        "panSpeed": 1,
        "quality": "medium",
        "rotateSpeed": 2,
        "sampleLevel": 0,
        "tooltip": true,
        "workerDefault": true,
        "zoomSpeed": 1.2
       },
       "_ngl_msg_archive": [
        {
         "args": [
          {
           "binary": false,
           "data": "REMARK   1 CREATED WITH MDTraj 1.9.6, 2024-09-05\nCRYST1   25.580   25.580   25.580  90.00  90.00  90.00 P 1           1 \nMODEL        0\nATOM      1  H1  ACE A   1      19.185   3.272  20.062  1.00  0.00           H  \nATOM      2  CH3 ACE A   1      18.852   3.056  21.077  1.00  0.00           C  \nATOM      3  H2  ACE A   1      19.711   2.965  21.742  1.00  0.00           H  \nATOM      4  H3  ACE A   1      18.267   2.137  21.094  1.00  0.00           H  \nATOM      5  C   ACE A   1      17.969   4.173  21.580  1.00  0.00           C  \nATOM      6  O   ACE A   1      16.799   3.940  21.826  1.00  0.00           O  \nATOM      7  N   ALA A   2      18.542   5.357  21.737  1.00  0.00           N  \nATOM      8  H   ALA A   2      19.537   5.432  21.581  1.00  0.00           H  \nATOM      9  CA  ALA A   2      17.848   6.546  22.226  1.00  0.00           C  \nATOM     10  HA  ALA A   2      16.778   6.439  22.048  1.00  0.00           H  \nATOM     11  CB  ALA A   2      18.056   6.616  23.749  1.00  0.00           C  \nATOM     12  HB1 ALA A   2      17.618   7.523  24.166  1.00  0.00           H  \nATOM     13  HB2 ALA A   2      19.126   6.649  23.954  1.00  0.00           H  \nATOM     14  HB3 ALA A   2      17.636   5.733  24.230  1.00  0.00           H  \nATOM     15  C   ALA A   2      18.330   7.819  21.506  1.00  0.00           C  \nATOM     16  O   ALA A   2      19.476   7.890  21.079  1.00  0.00           O  \nATOM     17  N   NME A   3      17.462   8.834  21.430  1.00  0.00           N  \nATOM     18  H   NME A   3      16.555   8.713  21.856  1.00  0.00           H  \nATOM     19  C   NME A   3      17.780  10.114  20.802  1.00  0.00           C  \nATOM     20  H1  NME A   3      16.900  10.757  20.804  1.00  0.00           H  \nATOM     21  H2  NME A   3      18.606  10.599  21.323  1.00  0.00           H  \nATOM     22  H3  NME A   3      18.047   9.939  19.760  1.00  0.00           H  \nTER      23      NME A   3\nENDMDL\nCONECT    1    2    2\nCONECT    2    5    1    3\nCONECT    2    1    5    3    4\nCONECT    3    2    2\nCONECT    4    2    2\nCONECT    5    2    6    7\nCONECT    5    6    7\nCONECT    6    5    5\nCONECT    7    5    5\nCONECT   15   17   17\nCONECT   17   15   19   18\nCONECT   17   19   18\nCONECT   18   17   17\nCONECT   19   20   21   22\nCONECT   19   17   20   21   22\nCONECT   20   19   19\nCONECT   21   19   19\nCONECT   22   19   19\nEND\n",
           "type": "blob"
          }
         ],
         "kwargs": {
          "defaultRepresentation": true,
          "ext": "pdb",
          "height": "400px",
          "width": "400px"
         },
         "methodName": "loadFile",
         "reconstruc_color_scheme": false,
         "target": "Stage",
         "type": "call_method"
        },
        {
         "args": [
          "ball+stick"
         ],
         "component_index": 0,
         "kwargs": {
          "aspectRatio": 1,
          "color": "#D55E00",
          "radius": 0.5,
          "sele": "@6,8,14,16"
         },
         "methodName": "addRepresentation",
         "reconstruc_color_scheme": false,
         "target": "compList",
         "type": "call_method"
        }
       ],
       "_ngl_original_stage_parameters": {
        "ambientColor": 14540253,
        "ambientIntensity": 0.2,
        "backgroundColor": "white",
        "cameraEyeSep": 0.3,
        "cameraFov": 40,
        "cameraType": "perspective",
        "clipDist": 10,
        "clipFar": 100,
        "clipMode": "scene",
        "clipNear": 0,
        "clipScale": "relative",
        "fogFar": 100,
        "fogNear": 50,
        "hoverTimeout": 0,
        "impostor": true,
        "lightColor": 14540253,
        "lightIntensity": 1,
        "mousePreset": "default",
        "panSpeed": 1,
        "quality": "medium",
        "rotateSpeed": 2,
        "sampleLevel": 0,
        "tooltip": true,
        "workerDefault": true,
        "zoomSpeed": 1.2
       },
       "_ngl_repr_dict": {
        "0": {
         "0": {
          "params": {
           "aspectRatio": 1.5,
           "assembly": "default",
           "bondScale": 0.3,
           "bondSpacing": 0.75,
           "clipCenter": {
            "x": 0,
            "y": 0,
            "z": 0
           },
           "clipNear": 0,
           "clipRadius": 0,
           "colorMode": "hcl",
           "colorReverse": false,
           "colorScale": "",
           "colorScheme": "element",
           "colorValue": 9474192,
           "cylinderOnly": false,
           "defaultAssembly": "",
           "depthWrite": true,
           "diffuse": 16777215,
           "diffuseInterior": false,
           "disableImpostor": false,
           "disablePicking": false,
           "flatShaded": false,
           "interiorColor": 2236962,
           "interiorDarkening": 0,
           "lazy": false,
           "lineOnly": false,
           "linewidth": 2,
           "matrix": {
            "elements": [
             1,
             0,
             0,
             0,
             0,
             1,
             0,
             0,
             0,
             0,
             1,
             0,
             0,
             0,
             0,
             1
            ]
           },
           "metalness": 0,
           "multipleBond": "off",
           "opacity": 1,
           "openEnded": true,
           "quality": "high",
           "radialSegments": 20,
           "radiusData": {},
           "radiusScale": 2,
           "radiusSize": 0.15,
           "radiusType": "size",
           "roughness": 0.4,
           "sele": "",
           "side": "double",
           "sphereDetail": 2,
           "useInteriorColor": true,
           "visible": true,
           "wireframe": false
          },
          "type": "ball+stick"
         },
         "1": {
          "params": {
           "aspectRatio": 1,
           "assembly": "default",
           "bondScale": 0.4,
           "bondSpacing": 1,
           "clipCenter": {
            "x": 0,
            "y": 0,
            "z": 0
           },
           "clipNear": 0,
           "clipRadius": 0,
           "colorMode": "hcl",
           "colorReverse": false,
           "colorScale": "",
           "colorScheme": "uniform",
           "colorValue": 13983232,
           "cylinderOnly": false,
           "defaultAssembly": "",
           "depthWrite": true,
           "diffuse": 16777215,
           "diffuseInterior": false,
           "disableImpostor": false,
           "disablePicking": false,
           "flatShaded": false,
           "interiorColor": 2236962,
           "interiorDarkening": 0,
           "lazy": false,
           "lineOnly": false,
           "linewidth": 2,
           "matrix": {
            "elements": [
             1,
             0,
             0,
             0,
             0,
             1,
             0,
             0,
             0,
             0,
             1,
             0,
             0,
             0,
             0,
             1
            ]
           },
           "metalness": 0,
           "multipleBond": "off",
           "opacity": 1,
           "openEnded": true,
           "quality": "medium",
           "radialSegments": 10,
           "radiusData": {},
           "radiusScale": 1,
           "radiusSize": 0.5,
           "radiusType": "size",
           "roughness": 0.4,
           "sele": "@6,8,14,16",
           "side": "double",
           "sphereDetail": 1,
           "useInteriorColor": true,
           "visible": true,
           "wireframe": false
          },
          "type": "ball+stick"
         }
        }
       },
       "_ngl_serialize": false,
       "_ngl_version": "2.2.2",
       "_ngl_view_id": [
        "7165884E-7D9E-4834-B753-65F80BB65E9D"
       ],
       "_player_dict": {},
       "_scene_position": {},
       "_scene_rotation": {},
       "_synced_model_ids": [],
       "_synced_repr_model_ids": [],
       "_view_height": "400px",
       "_view_width": "400px",
       "background": "white",
       "frame": 0,
       "gui_style": null,
       "layout": "IPY_MODEL_b60f94f7b0b0476faa5ee891018fa14e",
       "max_frame": 0,
       "n_components": 1,
       "picked": {}
      }
     },
     "337dad46e7fb4f76912ad82f10d3ac45": {
      "model_module": "@jupyter-widgets/base",
      "model_module_version": "2.0.0",
      "model_name": "LayoutModel",
      "state": {}
     },
     "339a0c663bca410883bbe03bdb263864": {
      "model_module": "@jupyter-widgets/controls",
      "model_module_version": "2.0.0",
      "model_name": "LinkModel",
      "state": {
       "source": [
        "IPY_MODEL_ba1220df3af9479b958266d821fa8462",
        "max"
       ],
       "target": [
        "IPY_MODEL_888434ae545d46bc857c9daf7acd89ce",
        "max_frame"
       ]
      }
     },
     "33c6acf2c4e5433291ef9a78539e68b1": {
      "model_module": "@jupyter-widgets/controls",
      "model_module_version": "2.0.0",
      "model_name": "ButtonStyleModel",
      "state": {
       "font_family": null,
       "font_size": null,
       "font_style": null,
       "font_variant": null,
       "font_weight": null,
       "text_color": null,
       "text_decoration": null
      }
     },
     "345e13d410af4940864350ec7008b4b9": {
      "model_module": "@jupyter-widgets/controls",
      "model_module_version": "2.0.0",
      "model_name": "SliderStyleModel",
      "state": {
       "description_width": ""
      }
     },
     "34e26831b67649a4a6010b520bc1945f": {
      "model_module": "@jupyter-widgets/controls",
      "model_module_version": "2.0.0",
      "model_name": "LinkModel",
      "state": {
       "source": [
        "IPY_MODEL_b14ef98c68e945bea8e61d5351f6c24a",
        "max"
       ],
       "target": [
        "IPY_MODEL_a89f64026d4947e39fa47611402bb779",
        "max_frame"
       ]
      }
     },
     "35693d39cb5c4de6bf6cc08113fee283": {
      "model_module": "@jupyter-widgets/controls",
      "model_module_version": "2.0.0",
      "model_name": "ImageModel",
      "state": {
       "layout": "IPY_MODEL_a2b1465722034c4fba3365c6ce4666f7",
       "width": "900.0"
      }
     },
     "36cc96c7f6ea4bb1b7066901f83b0267": {
      "model_module": "nglview-js-widgets",
      "model_module_version": "3.1.0",
      "model_name": "NGLModel",
      "state": {
       "_camera_orientation": [
        18.646265192387308,
        -10.076625933885277,
        8.464246525906521,
        0,
        3.6272208661770327,
        18.045813605531784,
        13.492847927327121,
        0,
        -12.650103883001929,
        -9.678599391986316,
        16.34517208983461,
        0,
        -13.975999355316162,
        -15.923500061035156,
        3.4434999227523804,
        1
       ],
       "_camera_str": "orthographic",
       "_gui_theme": null,
       "_ibtn_fullscreen": "IPY_MODEL_7fab89c990884ef0bbae9a826faab4f0",
       "_igui": null,
       "_iplayer": "IPY_MODEL_1b8df5a95d664a639bacf53391771543",
       "_ngl_color_dict": {},
       "_ngl_coordinate_resource": {},
       "_ngl_full_stage_parameters": {
        "ambientColor": 14540253,
        "ambientIntensity": 0.2,
        "backgroundColor": "white",
        "cameraEyeSep": 0.3,
        "cameraFov": 40,
        "cameraType": "perspective",
        "clipDist": 10,
        "clipFar": 100,
        "clipMode": "scene",
        "clipNear": 0,
        "clipScale": "relative",
        "fogFar": 100,
        "fogNear": 50,
        "hoverTimeout": 0,
        "impostor": true,
        "lightColor": 14540253,
        "lightIntensity": 1,
        "mousePreset": "default",
        "panSpeed": 1,
        "quality": "medium",
        "rotateSpeed": 2,
        "sampleLevel": 0,
        "tooltip": true,
        "workerDefault": true,
        "zoomSpeed": 1.2
       },
       "_ngl_msg_archive": [
        {
         "args": [
          {
           "binary": false,
           "data": "REMARK   1 CREATED WITH MDTraj 1.9.6, 2021-09-14\nCRYST1   20.233   20.233   20.233  90.00  90.00  90.00 P 1           1 \nMODEL        0\nATOM      1  H1  ACE A   1      16.384  14.081  -5.858  1.00  0.00           H  \nATOM      2  CH3 ACE A   1      16.530  14.752  -5.012  1.00  0.00           C  \nATOM      3  H2  ACE A   1      17.262  15.508  -5.297  1.00  0.00           H  \nATOM      4  H3  ACE A   1      16.909  14.174  -4.169  1.00  0.00           H  \nATOM      5  C   ACE A   1      15.200  15.391  -4.663  1.00  0.00           C  \nATOM      6  O   ACE A   1      14.169  14.948  -5.147  1.00  0.00           O  \nATOM      7  N   ALA A   2      15.223  16.439  -3.824  1.00  0.00           N  \nATOM      8  H   ALA A   2      16.138  16.741  -3.522  1.00  0.00           H  \nATOM      9  CA  ALA A   2      14.061  17.185  -3.253  1.00  0.00           C  \nATOM     10  HA  ALA A   2      14.475  17.918  -2.560  1.00  0.00           H  \nATOM     11  CB  ALA A   2      13.353  17.961  -4.365  1.00  0.00           C  \nATOM     12  HB1 ALA A   2      12.564  18.580  -3.938  1.00  0.00           H  \nATOM     13  HB2 ALA A   2      14.090  18.590  -4.865  1.00  0.00           H  \nATOM     14  HB3 ALA A   2      12.926  17.296  -5.116  1.00  0.00           H  \nATOM     15  C   ALA A   2      13.036  16.370  -2.426  1.00  0.00           C  \nATOM     16  O   ALA A   2      12.568  16.879  -1.404  1.00  0.00           O  \nATOM     17  N   NME A   3      12.674  15.159  -2.814  1.00  0.00           N  \nATOM     18  H   NME A   3      13.075  14.848  -3.687  1.00  0.00           H  \nATOM     19  C   NME A   3      11.703  14.298  -2.109  1.00  0.00           C  \nATOM     20  H1  NME A   3      10.690  14.587  -2.391  1.00  0.00           H  \nATOM     21  H2  NME A   3      11.856  13.257  -2.395  1.00  0.00           H  \nATOM     22  H3  NME A   3      11.817  14.384  -1.029  1.00  0.00           H  \nTER      23      NME A   3\nENDMDL\nCONECT    1    2\nCONECT    2    3    4    5\nCONECT    5    6    6    7\nCONECT    7    8    9\nCONECT    9   10   11   15\nCONECT   11   12   13   14\nCONECT   15   16   16   17\nCONECT   17   18   19\nCONECT   19   20   21   22\nEND",
           "type": "blob"
          }
         ],
         "kwargs": {
          "defaultRepresentation": true,
          "ext": "pdb",
          "height": "400px",
          "width": "400px"
         },
         "methodName": "loadFile",
         "reconstruc_color_scheme": false,
         "target": "Stage",
         "type": "call_method"
        },
        {
         "args": [
          "ball+stick"
         ],
         "component_index": 0,
         "kwargs": {
          "aspectRatio": 1,
          "color": "#D55E00",
          "radius": 0.5,
          "sele": "@4,6,8,10"
         },
         "methodName": "addRepresentation",
         "reconstruc_color_scheme": false,
         "target": "compList",
         "type": "call_method"
        }
       ],
       "_ngl_original_stage_parameters": {
        "ambientColor": 14540253,
        "ambientIntensity": 0.2,
        "backgroundColor": "white",
        "cameraEyeSep": 0.3,
        "cameraFov": 40,
        "cameraType": "perspective",
        "clipDist": 10,
        "clipFar": 100,
        "clipMode": "scene",
        "clipNear": 0,
        "clipScale": "relative",
        "fogFar": 100,
        "fogNear": 50,
        "hoverTimeout": 0,
        "impostor": true,
        "lightColor": 14540253,
        "lightIntensity": 1,
        "mousePreset": "default",
        "panSpeed": 1,
        "quality": "medium",
        "rotateSpeed": 2,
        "sampleLevel": 0,
        "tooltip": true,
        "workerDefault": true,
        "zoomSpeed": 1.2
       },
       "_ngl_repr_dict": {
        "0": {
         "0": {
          "params": {
           "aspectRatio": 1.5,
           "assembly": "default",
           "bondScale": 0.3,
           "bondSpacing": 0.75,
           "clipCenter": {
            "x": 0,
            "y": 0,
            "z": 0
           },
           "clipNear": 0,
           "clipRadius": 0,
           "colorMode": "hcl",
           "colorReverse": false,
           "colorScale": "",
           "colorScheme": "element",
           "colorValue": 9474192,
           "cylinderOnly": false,
           "defaultAssembly": "",
           "depthWrite": true,
           "diffuse": 16777215,
           "diffuseInterior": false,
           "disableImpostor": false,
           "disablePicking": false,
           "flatShaded": false,
           "interiorColor": 2236962,
           "interiorDarkening": 0,
           "lazy": false,
           "lineOnly": false,
           "linewidth": 2,
           "matrix": {
            "elements": [
             1,
             0,
             0,
             0,
             0,
             1,
             0,
             0,
             0,
             0,
             1,
             0,
             0,
             0,
             0,
             1
            ]
           },
           "metalness": 0,
           "multipleBond": "off",
           "opacity": 1,
           "openEnded": true,
           "quality": "high",
           "radialSegments": 20,
           "radiusData": {},
           "radiusScale": 2,
           "radiusSize": 0.15,
           "radiusType": "size",
           "roughness": 0.4,
           "sele": "",
           "side": "double",
           "sphereDetail": 2,
           "useInteriorColor": true,
           "visible": true,
           "wireframe": false
          },
          "type": "ball+stick"
         },
         "1": {
          "params": {
           "aspectRatio": 1,
           "assembly": "default",
           "bondScale": 0.4,
           "bondSpacing": 1,
           "clipCenter": {
            "x": 0,
            "y": 0,
            "z": 0
           },
           "clipNear": 0,
           "clipRadius": 0,
           "colorMode": "hcl",
           "colorReverse": false,
           "colorScale": "",
           "colorScheme": "uniform",
           "colorValue": 13983232,
           "cylinderOnly": false,
           "defaultAssembly": "",
           "depthWrite": true,
           "diffuse": 16777215,
           "diffuseInterior": false,
           "disableImpostor": false,
           "disablePicking": false,
           "flatShaded": false,
           "interiorColor": 2236962,
           "interiorDarkening": 0,
           "lazy": false,
           "lineOnly": false,
           "linewidth": 2,
           "matrix": {
            "elements": [
             1,
             0,
             0,
             0,
             0,
             1,
             0,
             0,
             0,
             0,
             1,
             0,
             0,
             0,
             0,
             1
            ]
           },
           "metalness": 0,
           "multipleBond": "off",
           "opacity": 1,
           "openEnded": true,
           "quality": "medium",
           "radialSegments": 10,
           "radiusData": {},
           "radiusScale": 1,
           "radiusSize": 0.5,
           "radiusType": "size",
           "roughness": 0.4,
           "sele": "@4,6,8,10",
           "side": "double",
           "sphereDetail": 1,
           "useInteriorColor": true,
           "visible": true,
           "wireframe": false
          },
          "type": "ball+stick"
         }
        }
       },
       "_ngl_serialize": false,
       "_ngl_version": "2.2.2",
       "_ngl_view_id": [
        "FBB29B7A-C0CA-40FF-B47B-40BB07F334FD"
       ],
       "_player_dict": {},
       "_scene_position": {},
       "_scene_rotation": {},
       "_synced_model_ids": [],
       "_synced_repr_model_ids": [],
       "_view_height": "400px",
       "_view_width": "400px",
       "background": "white",
       "frame": 0,
       "gui_style": null,
       "layout": "IPY_MODEL_eb8cac5fd5dd4b9abbd25d7f18b86246",
       "max_frame": 0,
       "n_components": 1,
       "picked": {}
      }
     },
     "37d21fe28c284f14aab2d1010fd444d8": {
      "model_module": "@jupyter-widgets/controls",
      "model_module_version": "2.0.0",
      "model_name": "LinkModel",
      "state": {
       "source": [
        "IPY_MODEL_966f7a3d4bd549279d34c44df7211a98",
        "value"
       ],
       "target": [
        "IPY_MODEL_3311adab638f489da24eebac36a35f49",
        "frame"
       ]
      }
     },
     "37f38c25850d41e3ac85f7788256c238": {
      "model_module": "@jupyter-widgets/base",
      "model_module_version": "2.0.0",
      "model_name": "LayoutModel",
      "state": {}
     },
     "39c53ee23dec4b59bc2f619d41599a1c": {
      "model_module": "@jupyter-widgets/base",
      "model_module_version": "2.0.0",
      "model_name": "LayoutModel",
      "state": {}
     },
     "3ad110157890406389d24483597f58dc": {
      "model_module": "@jupyter-widgets/base",
      "model_module_version": "2.0.0",
      "model_name": "LayoutModel",
      "state": {}
     },
     "3b652f7ad00a434c9693df88638b001a": {
      "model_module": "@jupyter-widgets/controls",
      "model_module_version": "2.0.0",
      "model_name": "IntSliderModel",
      "state": {
       "behavior": "drag-tap",
       "layout": "IPY_MODEL_c38afd17478843f5b2d8ae8ef1eb1fc8",
       "max": 0,
       "style": "IPY_MODEL_6f429a241af74529966ca05572f92637"
      }
     },
     "3bb1b48b94c14f88b62bca15ace8bf98": {
      "model_module": "@jupyter-widgets/controls",
      "model_module_version": "2.0.0",
      "model_name": "IntSliderModel",
      "state": {
       "behavior": "drag-tap",
       "layout": "IPY_MODEL_f94dfd87fe43476fb84c2db279901650",
       "max": 0,
       "style": "IPY_MODEL_ee6bf5f5f71e4a91bca7d67537487240"
      }
     },
     "3be07442579d4402a06011dff9d5dd9a": {
      "model_module": "@jupyter-widgets/controls",
      "model_module_version": "2.0.0",
      "model_name": "ImageModel",
      "state": {
       "layout": "IPY_MODEL_bd4825cc0b8a46f29bc2452024fe823c",
       "width": "900.0"
      }
     },
     "3bf996e84b60496b94c2da341e7c9b8b": {
      "model_module": "@jupyter-widgets/base",
      "model_module_version": "2.0.0",
      "model_name": "LayoutModel",
      "state": {}
     },
     "3bff670739754e07ad5df4bfca276819": {
      "model_module": "@jupyter-widgets/base",
      "model_module_version": "2.0.0",
      "model_name": "LayoutModel",
      "state": {}
     },
     "3cbc1214da864816a4e6b794c55f59ba": {
      "model_module": "@jupyter-widgets/controls",
      "model_module_version": "2.0.0",
      "model_name": "HBoxModel",
      "state": {
       "children": [
        "IPY_MODEL_ba1220df3af9479b958266d821fa8462",
        "IPY_MODEL_1ad725331b1146b7b5355adcab97f284"
       ],
       "layout": "IPY_MODEL_6e2074d1470e416694a91af97a6334fc"
      }
     },
     "3d5a37631e634e38a87e36855f891bd4": {
      "model_module": "@jupyter-widgets/controls",
      "model_module_version": "2.0.0",
      "model_name": "PlayModel",
      "state": {
       "layout": "IPY_MODEL_b6b95ba020ad483db2699be9c668c835",
       "max": 0,
       "style": "IPY_MODEL_5b128f4935924b8a89b3362dac5887cb"
      }
     },
     "3d8d5baa8b97496ca2ce009a104fa01f": {
      "model_module": "@jupyter-widgets/controls",
      "model_module_version": "2.0.0",
      "model_name": "SliderStyleModel",
      "state": {
       "description_width": ""
      }
     },
     "3eddce4ca87f465d87843255506c3ba8": {
      "model_module": "@jupyter-widgets/controls",
      "model_module_version": "2.0.0",
      "model_name": "HBoxModel",
      "state": {
       "children": [
        "IPY_MODEL_a6c41bd15f04435cb9f55b469a7b5bdb",
        "IPY_MODEL_0b4734c8d5d444788f22a6e0aaf125c7"
       ],
       "layout": "IPY_MODEL_a58a8aabb43f465fa674e972a11cdc03"
      }
     },
     "40b5013aee354ba0b9603f9621d70139": {
      "model_module": "@jupyter-widgets/base",
      "model_module_version": "2.0.0",
      "model_name": "LayoutModel",
      "state": {}
     },
     "40e3bb3e181c4ae3930347e6a1c380bf": {
      "model_module": "@jupyter-widgets/controls",
      "model_module_version": "2.0.0",
      "model_name": "LinkModel",
      "state": {
       "source": [
        "IPY_MODEL_8b10d23e689b4a88930fb8bdbca60c13",
        "max"
       ],
       "target": [
        "IPY_MODEL_5ba57b8b61f44b3a9b02b462f5873d05",
        "max_frame"
       ]
      }
     },
     "41203926f5214589a67f06d1e57a2f2e": {
      "model_module": "@jupyter-widgets/controls",
      "model_module_version": "2.0.0",
      "model_name": "LinkModel",
      "state": {
       "source": [
        "IPY_MODEL_0c568b64d54e4a8b84a24af5c8ce1e87",
        "max"
       ],
       "target": [
        "IPY_MODEL_10ef294d1d36431d8307f3f030b67090",
        "max_frame"
       ]
      }
     },
     "43703a4a32774f56840eada339d765f0": {
      "model_module": "@jupyter-widgets/controls",
      "model_module_version": "2.0.0",
      "model_name": "DescriptionStyleModel",
      "state": {
       "description_width": ""
      }
     },
     "43a3c1716f8040ef9d49b931d77afa66": {
      "model_module": "@jupyter-widgets/controls",
      "model_module_version": "2.0.0",
      "model_name": "HBoxModel",
      "state": {
       "children": [
        "IPY_MODEL_975aa9841c124da78d7d97bf887938b6",
        "IPY_MODEL_8b10d23e689b4a88930fb8bdbca60c13"
       ],
       "layout": "IPY_MODEL_40b5013aee354ba0b9603f9621d70139"
      }
     },
     "43a861e10d7046b2ab0e64fc2f4e3fdb": {
      "model_module": "@jupyter-widgets/controls",
      "model_module_version": "2.0.0",
      "model_name": "LinkModel",
      "state": {
       "source": [
        "IPY_MODEL_cadb18f58684454abf0d7d84b7ea1659",
        "value"
       ],
       "target": [
        "IPY_MODEL_b593e7bfce704e23b03ab9c71f34f081",
        "frame"
       ]
      }
     },
     "446c4f15980f436b8fcbfa20341d4657": {
      "model_module": "@jupyter-widgets/base",
      "model_module_version": "2.0.0",
      "model_name": "LayoutModel",
      "state": {}
     },
     "4565a23c29434ce7bf02288396882fce": {
      "model_module": "@jupyter-widgets/controls",
      "model_module_version": "2.0.0",
      "model_name": "PlayModel",
      "state": {
       "layout": "IPY_MODEL_86ce04aadf2c4ce4b524d570e3bba29e",
       "max": 0,
       "style": "IPY_MODEL_0dd176ccce9b4ae2b7d2575d41fe3f55"
      }
     },
     "45d143b54e82429194f44cde5b61ffdd": {
      "model_module": "@jupyter-widgets/base",
      "model_module_version": "2.0.0",
      "model_name": "LayoutModel",
      "state": {}
     },
     "45d34e3c5b184bc2915732e9ee30ef58": {
      "model_module": "@jupyter-widgets/controls",
      "model_module_version": "2.0.0",
      "model_name": "ButtonStyleModel",
      "state": {
       "font_family": null,
       "font_size": null,
       "font_style": null,
       "font_variant": null,
       "font_weight": null,
       "text_color": null,
       "text_decoration": null
      }
     },
     "4699a033eace44869bdf617635b0efed": {
      "model_module": "@jupyter-widgets/controls",
      "model_module_version": "2.0.0",
      "model_name": "HBoxModel",
      "state": {
       "children": [
        "IPY_MODEL_966f7a3d4bd549279d34c44df7211a98",
        "IPY_MODEL_3bb1b48b94c14f88b62bca15ace8bf98"
       ],
       "layout": "IPY_MODEL_108e947af9084ad49d895ba19a3c2271"
      }
     },
     "4713a4644cb24cd2940f9dfa7e3ffe19": {
      "model_module": "@jupyter-widgets/controls",
      "model_module_version": "2.0.0",
      "model_name": "LinkModel",
      "state": {
       "source": [
        "IPY_MODEL_74e871e0c97d48728302f83d60c470a8",
        "max"
       ],
       "target": [
        "IPY_MODEL_88246165545d45019ae3a4bad1c2370f",
        "max_frame"
       ]
      }
     },
     "47c3a5ec60304641b1acd3b7feaecea9": {
      "model_module": "@jupyter-widgets/controls",
      "model_module_version": "2.0.0",
      "model_name": "LinkModel",
      "state": {
       "source": [
        "IPY_MODEL_76659b8072a84b51a8108a1248a9a2c5",
        "max"
       ],
       "target": [
        "IPY_MODEL_f77396bafdd24b83a7c2ccb84c7d0ac3",
        "max_frame"
       ]
      }
     },
     "483eaefc1beb42cba25b8a9222a16b58": {
      "model_module": "@jupyter-widgets/controls",
      "model_module_version": "2.0.0",
      "model_name": "ButtonModel",
      "state": {
       "icon": "compress",
       "layout": "IPY_MODEL_817af91fd4ee4a739db3fce6beba962e",
       "style": "IPY_MODEL_934ba5a2f9414c6aad88a619b682ed09",
       "tooltip": null
      }
     },
     "48d0aa570a7e4492b27cef8d1984ce1d": {
      "model_module": "@jupyter-widgets/base",
      "model_module_version": "2.0.0",
      "model_name": "LayoutModel",
      "state": {}
     },
     "4953390ee6e44d0ea85872b71a7b6574": {
      "model_module": "@jupyter-widgets/controls",
      "model_module_version": "2.0.0",
      "model_name": "HBoxModel",
      "state": {
       "children": [
        "IPY_MODEL_1af926859bff49ce8b6d9f629a876b13",
        "IPY_MODEL_da35940138654cc19c539f3c6c6b9372"
       ],
       "layout": "IPY_MODEL_0e0f1064d1df4e16aa1f0df6c978485b"
      }
     },
     "4be28181933341a5a13e0e62589dbf50": {
      "model_module": "@jupyter-widgets/controls",
      "model_module_version": "2.0.0",
      "model_name": "IntSliderModel",
      "state": {
       "behavior": "drag-tap",
       "layout": "IPY_MODEL_3ad110157890406389d24483597f58dc",
       "max": 0,
       "style": "IPY_MODEL_b0063fdc3b154ec8a30357c14ce40805"
      }
     },
     "4cf64d9d2f1d4db0b927befbddd2b15b": {
      "model_module": "@jupyter-widgets/base",
      "model_module_version": "2.0.0",
      "model_name": "LayoutModel",
      "state": {}
     },
     "4f92eba018344496854ed2fa3ab94c8d": {
      "model_module": "@jupyter-widgets/base",
      "model_module_version": "2.0.0",
      "model_name": "LayoutModel",
      "state": {}
     },
     "501cb67f7b504b2ead4052fd3d8ddfae": {
      "model_module": "@jupyter-widgets/base",
      "model_module_version": "2.0.0",
      "model_name": "LayoutModel",
      "state": {}
     },
     "50a1e1d965544655a4ac542ddd81e433": {
      "model_module": "@jupyter-widgets/controls",
      "model_module_version": "2.0.0",
      "model_name": "ImageModel",
      "state": {
       "layout": "IPY_MODEL_b8e5707f13554fa9844657d0123686a7",
       "width": "900.0"
      }
     },
     "511b881e357843138c84b99e40567635": {
      "model_module": "@jupyter-widgets/base",
      "model_module_version": "2.0.0",
      "model_name": "LayoutModel",
      "state": {}
     },
     "515dd05610fd46cca5ef4aea04000549": {
      "model_module": "@jupyter-widgets/controls",
      "model_module_version": "2.0.0",
      "model_name": "LinkModel",
      "state": {
       "source": [
        "IPY_MODEL_a12e24f22f544b5dbe7a8620b5950118",
        "max"
       ],
       "target": [
        "IPY_MODEL_6a4bdde389584c86b3584e90453aba31",
        "max_frame"
       ]
      }
     },
     "52355f011fff4c908ed5d9645ac26efb": {
      "model_module": "@jupyter-widgets/base",
      "model_module_version": "2.0.0",
      "model_name": "LayoutModel",
      "state": {
       "width": "34px"
      }
     },
     "533d1199fa894621a0f7f2cf16311acd": {
      "model_module": "@jupyter-widgets/controls",
      "model_module_version": "2.0.0",
      "model_name": "HBoxModel",
      "state": {
       "children": [
        "IPY_MODEL_c7873a9f0d02497e8ad941d17e9622cb",
        "IPY_MODEL_558ce2ed93844e3f8732ec0fc517a258"
       ],
       "layout": "IPY_MODEL_cb6d7b098f6a4cd5985f4ee7dbb6f62a"
      }
     },
     "5353fac866b843b8bd282260fda806cf": {
      "model_module": "@jupyter-widgets/controls",
      "model_module_version": "2.0.0",
      "model_name": "SliderStyleModel",
      "state": {
       "description_width": ""
      }
     },
     "53ddbcb616b446bdb1cf73e20f4b8d8c": {
      "model_module": "@jupyter-widgets/controls",
      "model_module_version": "2.0.0",
      "model_name": "LinkModel",
      "state": {
       "source": [
        "IPY_MODEL_cadb18f58684454abf0d7d84b7ea1659",
        "value"
       ],
       "target": [
        "IPY_MODEL_f9743966ffc04142b28b8b284c64c2a1",
        "value"
       ]
      }
     },
     "55227d229a3648809aab01f3d48f31da": {
      "model_module": "@jupyter-widgets/controls",
      "model_module_version": "2.0.0",
      "model_name": "LinkModel",
      "state": {
       "source": [
        "IPY_MODEL_3d5a37631e634e38a87e36855f891bd4",
        "max"
       ],
       "target": [
        "IPY_MODEL_2c1d27ff7e0f47719260fb5a0f4c1676",
        "max_frame"
       ]
      }
     },
     "55808c5005da4b8fa1c77a3f21c1d058": {
      "model_module": "@jupyter-widgets/base",
      "model_module_version": "2.0.0",
      "model_name": "LayoutModel",
      "state": {}
     },
     "558ce2ed93844e3f8732ec0fc517a258": {
      "model_module": "@jupyter-widgets/controls",
      "model_module_version": "2.0.0",
      "model_name": "IntSliderModel",
      "state": {
       "behavior": "drag-tap",
       "layout": "IPY_MODEL_fd556388cf764354b7628549f1f9b72e",
       "max": 0,
       "style": "IPY_MODEL_a27c357ae0334a659bf577b6069a4290"
      }
     },
     "55f6dbfb0d7245ed86801a60ef88c3e3": {
      "model_module": "@jupyter-widgets/controls",
      "model_module_version": "2.0.0",
      "model_name": "LinkModel",
      "state": {
       "source": [
        "IPY_MODEL_5bb2a8c1e6d6489ab91abcaa9b950316",
        "value"
       ],
       "target": [
        "IPY_MODEL_b14ef98c68e945bea8e61d5351f6c24a",
        "value"
       ]
      }
     },
     "575156ba485840f785267212d00672e7": {
      "model_module": "@jupyter-widgets/base",
      "model_module_version": "2.0.0",
      "model_name": "LayoutModel",
      "state": {
       "width": "34px"
      }
     },
     "5787f20c037b4104997bb8560791a076": {
      "model_module": "@jupyter-widgets/base",
      "model_module_version": "2.0.0",
      "model_name": "LayoutModel",
      "state": {}
     },
     "588aaed9fd8044ab9e84fd8030d8ee61": {
      "model_module": "@jupyter-widgets/base",
      "model_module_version": "2.0.0",
      "model_name": "LayoutModel",
      "state": {
       "width": "34px"
      }
     },
     "58fe4ba5f4d2413fb709fa2b570fe9c7": {
      "model_module": "nglview-js-widgets",
      "model_module_version": "3.1.0",
      "model_name": "NGLModel",
      "state": {
       "_camera_orientation": [
        17.101322982798024,
        -14.757738874120397,
        3.2586746767528574,
        0,
        13.251620513650062,
        17.008162336742352,
        7.48211419164645,
        0,
        -7.266661619192357,
        -3.7143804783442085,
        21.31347160041893,
        0,
        -13.975999355316162,
        -15.923500061035156,
        3.4434999227523804,
        1
       ],
       "_camera_str": "orthographic",
       "_gui_theme": null,
       "_ibtn_fullscreen": "IPY_MODEL_e195414cd2134b398971f3dd803522e1",
       "_igui": null,
       "_iplayer": "IPY_MODEL_de292abb5f114051b9d5b45df0411fc4",
       "_ngl_color_dict": {},
       "_ngl_coordinate_resource": {},
       "_ngl_full_stage_parameters": {
        "ambientColor": 14540253,
        "ambientIntensity": 0.2,
        "backgroundColor": "white",
        "cameraEyeSep": 0.3,
        "cameraFov": 40,
        "cameraType": "perspective",
        "clipDist": 10,
        "clipFar": 100,
        "clipMode": "scene",
        "clipNear": 0,
        "clipScale": "relative",
        "fogFar": 100,
        "fogNear": 50,
        "hoverTimeout": 0,
        "impostor": true,
        "lightColor": 14540253,
        "lightIntensity": 1,
        "mousePreset": "default",
        "panSpeed": 1,
        "quality": "medium",
        "rotateSpeed": 2,
        "sampleLevel": 0,
        "tooltip": true,
        "workerDefault": true,
        "zoomSpeed": 1.2
       },
       "_ngl_msg_archive": [
        {
         "args": [
          {
           "binary": false,
           "data": "REMARK   1 CREATED WITH MDTraj 1.9.6, 2021-09-14\nCRYST1   20.233   20.233   20.233  90.00  90.00  90.00 P 1           1 \nMODEL        0\nATOM      1  H1  ACE A   1      16.384  14.081  -5.858  1.00  0.00           H  \nATOM      2  CH3 ACE A   1      16.530  14.752  -5.012  1.00  0.00           C  \nATOM      3  H2  ACE A   1      17.262  15.508  -5.297  1.00  0.00           H  \nATOM      4  H3  ACE A   1      16.909  14.174  -4.169  1.00  0.00           H  \nATOM      5  C   ACE A   1      15.200  15.391  -4.663  1.00  0.00           C  \nATOM      6  O   ACE A   1      14.169  14.948  -5.147  1.00  0.00           O  \nATOM      7  N   ALA A   2      15.223  16.439  -3.824  1.00  0.00           N  \nATOM      8  H   ALA A   2      16.138  16.741  -3.522  1.00  0.00           H  \nATOM      9  CA  ALA A   2      14.061  17.185  -3.253  1.00  0.00           C  \nATOM     10  HA  ALA A   2      14.475  17.918  -2.560  1.00  0.00           H  \nATOM     11  CB  ALA A   2      13.353  17.961  -4.365  1.00  0.00           C  \nATOM     12  HB1 ALA A   2      12.564  18.580  -3.938  1.00  0.00           H  \nATOM     13  HB2 ALA A   2      14.090  18.590  -4.865  1.00  0.00           H  \nATOM     14  HB3 ALA A   2      12.926  17.296  -5.116  1.00  0.00           H  \nATOM     15  C   ALA A   2      13.036  16.370  -2.426  1.00  0.00           C  \nATOM     16  O   ALA A   2      12.568  16.879  -1.404  1.00  0.00           O  \nATOM     17  N   NME A   3      12.674  15.159  -2.814  1.00  0.00           N  \nATOM     18  H   NME A   3      13.075  14.848  -3.687  1.00  0.00           H  \nATOM     19  C   NME A   3      11.703  14.298  -2.109  1.00  0.00           C  \nATOM     20  H1  NME A   3      10.690  14.587  -2.391  1.00  0.00           H  \nATOM     21  H2  NME A   3      11.856  13.257  -2.395  1.00  0.00           H  \nATOM     22  H3  NME A   3      11.817  14.384  -1.029  1.00  0.00           H  \nTER      23      NME A   3\nENDMDL\nCONECT    1    2\nCONECT    2    3    4    5\nCONECT    5    6    6    7\nCONECT    7    8    9\nCONECT    9   10   11   15\nCONECT   11   12   13   14\nCONECT   15   16   16   17\nCONECT   17   18   19\nCONECT   19   20   21   22\nEND",
           "type": "blob"
          }
         ],
         "kwargs": {
          "defaultRepresentation": true,
          "ext": "pdb",
          "height": "400px",
          "width": "400px"
         },
         "methodName": "loadFile",
         "reconstruc_color_scheme": false,
         "target": "Stage",
         "type": "call_method"
        },
        {
         "args": [
          "ball+stick"
         ],
         "component_index": 0,
         "kwargs": {
          "aspectRatio": 1,
          "color": "#D55E00",
          "radius": 0.4,
          "sele": "@4,6,8,10"
         },
         "methodName": "addRepresentation",
         "reconstruc_color_scheme": false,
         "target": "compList",
         "type": "call_method"
        }
       ],
       "_ngl_original_stage_parameters": {
        "ambientColor": 14540253,
        "ambientIntensity": 0.2,
        "backgroundColor": "white",
        "cameraEyeSep": 0.3,
        "cameraFov": 40,
        "cameraType": "perspective",
        "clipDist": 10,
        "clipFar": 100,
        "clipMode": "scene",
        "clipNear": 0,
        "clipScale": "relative",
        "fogFar": 100,
        "fogNear": 50,
        "hoverTimeout": 0,
        "impostor": true,
        "lightColor": 14540253,
        "lightIntensity": 1,
        "mousePreset": "default",
        "panSpeed": 1,
        "quality": "medium",
        "rotateSpeed": 2,
        "sampleLevel": 0,
        "tooltip": true,
        "workerDefault": true,
        "zoomSpeed": 1.2
       },
       "_ngl_repr_dict": {
        "0": {
         "0": {
          "params": {
           "aspectRatio": 1.5,
           "assembly": "default",
           "bondScale": 0.3,
           "bondSpacing": 0.75,
           "clipCenter": {
            "x": 0,
            "y": 0,
            "z": 0
           },
           "clipNear": 0,
           "clipRadius": 0,
           "colorMode": "hcl",
           "colorReverse": false,
           "colorScale": "",
           "colorScheme": "element",
           "colorValue": 9474192,
           "cylinderOnly": false,
           "defaultAssembly": "",
           "depthWrite": true,
           "diffuse": 16777215,
           "diffuseInterior": false,
           "disableImpostor": false,
           "disablePicking": false,
           "flatShaded": false,
           "interiorColor": 2236962,
           "interiorDarkening": 0,
           "lazy": false,
           "lineOnly": false,
           "linewidth": 2,
           "matrix": {
            "elements": [
             1,
             0,
             0,
             0,
             0,
             1,
             0,
             0,
             0,
             0,
             1,
             0,
             0,
             0,
             0,
             1
            ]
           },
           "metalness": 0,
           "multipleBond": "off",
           "opacity": 1,
           "openEnded": true,
           "quality": "high",
           "radialSegments": 20,
           "radiusData": {},
           "radiusScale": 2,
           "radiusSize": 0.15,
           "radiusType": "size",
           "roughness": 0.4,
           "sele": "",
           "side": "double",
           "sphereDetail": 2,
           "useInteriorColor": true,
           "visible": true,
           "wireframe": false
          },
          "type": "ball+stick"
         },
         "1": {
          "params": {
           "aspectRatio": 1,
           "assembly": "default",
           "bondScale": 0.4,
           "bondSpacing": 1,
           "clipCenter": {
            "x": 0,
            "y": 0,
            "z": 0
           },
           "clipNear": 0,
           "clipRadius": 0,
           "colorMode": "hcl",
           "colorReverse": false,
           "colorScale": "",
           "colorScheme": "uniform",
           "colorValue": 13983232,
           "cylinderOnly": false,
           "defaultAssembly": "",
           "depthWrite": true,
           "diffuse": 16777215,
           "diffuseInterior": false,
           "disableImpostor": false,
           "disablePicking": false,
           "flatShaded": false,
           "interiorColor": 2236962,
           "interiorDarkening": 0,
           "lazy": false,
           "lineOnly": false,
           "linewidth": 2,
           "matrix": {
            "elements": [
             1,
             0,
             0,
             0,
             0,
             1,
             0,
             0,
             0,
             0,
             1,
             0,
             0,
             0,
             0,
             1
            ]
           },
           "metalness": 0,
           "multipleBond": "off",
           "opacity": 1,
           "openEnded": true,
           "quality": "medium",
           "radialSegments": 10,
           "radiusData": {},
           "radiusScale": 1,
           "radiusSize": 0.4,
           "radiusType": "size",
           "roughness": 0.4,
           "sele": "@4,6,8,10",
           "side": "double",
           "sphereDetail": 1,
           "useInteriorColor": true,
           "visible": true,
           "wireframe": false
          },
          "type": "ball+stick"
         }
        }
       },
       "_ngl_serialize": false,
       "_ngl_version": "2.2.2",
       "_ngl_view_id": [
        "1099CB0E-A0B5-462C-B1C3-E49842536E8F"
       ],
       "_player_dict": {},
       "_scene_position": {},
       "_scene_rotation": {},
       "_synced_model_ids": [],
       "_synced_repr_model_ids": [],
       "_view_height": "400px",
       "_view_width": "400px",
       "background": "white",
       "frame": 0,
       "gui_style": null,
       "layout": "IPY_MODEL_39c53ee23dec4b59bc2f619d41599a1c",
       "max_frame": 0,
       "n_components": 1,
       "picked": {}
      }
     },
     "5946e75b77af42678f139ae131c194cf": {
      "model_module": "@jupyter-widgets/controls",
      "model_module_version": "2.0.0",
      "model_name": "DescriptionStyleModel",
      "state": {
       "description_width": ""
      }
     },
     "5984fd3236ec49a5bd7f6f15d369740a": {
      "model_module": "@jupyter-widgets/controls",
      "model_module_version": "2.0.0",
      "model_name": "DescriptionStyleModel",
      "state": {
       "description_width": ""
      }
     },
     "5b128f4935924b8a89b3362dac5887cb": {
      "model_module": "@jupyter-widgets/controls",
      "model_module_version": "2.0.0",
      "model_name": "DescriptionStyleModel",
      "state": {
       "description_width": ""
      }
     },
     "5ba57b8b61f44b3a9b02b462f5873d05": {
      "model_module": "nglview-js-widgets",
      "model_module_version": "3.1.0",
      "model_name": "NGLModel",
      "state": {
       "_camera_orientation": [
        11.697619454464572,
        4.562647966741554,
        7.378485531519555,
        0,
        -7.330066679968483,
        11.823334045098546,
        4.309640429775034,
        0,
        -4.640035309614572,
        -7.17531335192582,
        11.793178398376211,
        0,
        -13.975999355316162,
        -15.923500061035156,
        3.4434999227523804,
        1
       ],
       "_camera_str": "orthographic",
       "_gui_theme": null,
       "_ibtn_fullscreen": "IPY_MODEL_af497b177c94414f984757d938f58b2c",
       "_igui": null,
       "_iplayer": "IPY_MODEL_43a3c1716f8040ef9d49b931d77afa66",
       "_ngl_color_dict": {},
       "_ngl_coordinate_resource": {},
       "_ngl_full_stage_parameters": {
        "ambientColor": 14540253,
        "ambientIntensity": 0.2,
        "backgroundColor": "white",
        "cameraEyeSep": 0.3,
        "cameraFov": 40,
        "cameraType": "perspective",
        "clipDist": 10,
        "clipFar": 100,
        "clipMode": "scene",
        "clipNear": 0,
        "clipScale": "relative",
        "fogFar": 100,
        "fogNear": 50,
        "hoverTimeout": 0,
        "impostor": true,
        "lightColor": 14540253,
        "lightIntensity": 1,
        "mousePreset": "default",
        "panSpeed": 1,
        "quality": "medium",
        "rotateSpeed": 2,
        "sampleLevel": 0,
        "tooltip": true,
        "workerDefault": true,
        "zoomSpeed": 1.2
       },
       "_ngl_msg_archive": [
        {
         "args": [
          {
           "binary": false,
           "data": "REMARK   1 CREATED WITH MDTraj 1.9.6, 2021-09-14\nCRYST1   20.233   20.233   20.233  90.00  90.00  90.00 P 1           1 \nMODEL        0\nATOM      1  H1  ACE A   1      16.384  14.081  -5.858  1.00  0.00           H  \nATOM      2  CH3 ACE A   1      16.530  14.752  -5.012  1.00  0.00           C  \nATOM      3  H2  ACE A   1      17.262  15.508  -5.297  1.00  0.00           H  \nATOM      4  H3  ACE A   1      16.909  14.174  -4.169  1.00  0.00           H  \nATOM      5  C   ACE A   1      15.200  15.391  -4.663  1.00  0.00           C  \nATOM      6  O   ACE A   1      14.169  14.948  -5.147  1.00  0.00           O  \nATOM      7  N   ALA A   2      15.223  16.439  -3.824  1.00  0.00           N  \nATOM      8  H   ALA A   2      16.138  16.741  -3.522  1.00  0.00           H  \nATOM      9  CA  ALA A   2      14.061  17.185  -3.253  1.00  0.00           C  \nATOM     10  HA  ALA A   2      14.475  17.918  -2.560  1.00  0.00           H  \nATOM     11  CB  ALA A   2      13.353  17.961  -4.365  1.00  0.00           C  \nATOM     12  HB1 ALA A   2      12.564  18.580  -3.938  1.00  0.00           H  \nATOM     13  HB2 ALA A   2      14.090  18.590  -4.865  1.00  0.00           H  \nATOM     14  HB3 ALA A   2      12.926  17.296  -5.116  1.00  0.00           H  \nATOM     15  C   ALA A   2      13.036  16.370  -2.426  1.00  0.00           C  \nATOM     16  O   ALA A   2      12.568  16.879  -1.404  1.00  0.00           O  \nATOM     17  N   NME A   3      12.674  15.159  -2.814  1.00  0.00           N  \nATOM     18  H   NME A   3      13.075  14.848  -3.687  1.00  0.00           H  \nATOM     19  C   NME A   3      11.703  14.298  -2.109  1.00  0.00           C  \nATOM     20  H1  NME A   3      10.690  14.587  -2.391  1.00  0.00           H  \nATOM     21  H2  NME A   3      11.856  13.257  -2.395  1.00  0.00           H  \nATOM     22  H3  NME A   3      11.817  14.384  -1.029  1.00  0.00           H  \nTER      23      NME A   3\nENDMDL\nCONECT    1    2\nCONECT    2    3    4    5\nCONECT    5    6    6    7\nCONECT    7    8    9\nCONECT    9   10   11   15\nCONECT   11   12   13   14\nCONECT   15   16   16   17\nCONECT   17   18   19\nCONECT   19   20   21   22\nEND",
           "type": "blob"
          }
         ],
         "kwargs": {
          "defaultRepresentation": true,
          "ext": "pdb",
          "height": "400px",
          "width": "400px"
         },
         "methodName": "loadFile",
         "reconstruc_color_scheme": false,
         "target": "Stage",
         "type": "call_method"
        },
        {
         "args": [
          "ball+stick"
         ],
         "component_index": 0,
         "kwargs": {
          "aspectRatio": 1,
          "color": "#3FA796",
          "radius": 0.5,
          "sele": "@8,10,14,16"
         },
         "methodName": "addRepresentation",
         "reconstruc_color_scheme": false,
         "target": "compList",
         "type": "call_method"
        }
       ],
       "_ngl_original_stage_parameters": {
        "ambientColor": 14540253,
        "ambientIntensity": 0.2,
        "backgroundColor": "white",
        "cameraEyeSep": 0.3,
        "cameraFov": 40,
        "cameraType": "perspective",
        "clipDist": 10,
        "clipFar": 100,
        "clipMode": "scene",
        "clipNear": 0,
        "clipScale": "relative",
        "fogFar": 100,
        "fogNear": 50,
        "hoverTimeout": 0,
        "impostor": true,
        "lightColor": 14540253,
        "lightIntensity": 1,
        "mousePreset": "default",
        "panSpeed": 1,
        "quality": "medium",
        "rotateSpeed": 2,
        "sampleLevel": 0,
        "tooltip": true,
        "workerDefault": true,
        "zoomSpeed": 1.2
       },
       "_ngl_repr_dict": {
        "0": {
         "0": {
          "params": {
           "aspectRatio": 1.5,
           "assembly": "default",
           "bondScale": 0.3,
           "bondSpacing": 0.75,
           "clipCenter": {
            "x": 0,
            "y": 0,
            "z": 0
           },
           "clipNear": 0,
           "clipRadius": 0,
           "colorMode": "hcl",
           "colorReverse": false,
           "colorScale": "",
           "colorScheme": "element",
           "colorValue": 9474192,
           "cylinderOnly": false,
           "defaultAssembly": "",
           "depthWrite": true,
           "diffuse": 16777215,
           "diffuseInterior": false,
           "disableImpostor": false,
           "disablePicking": false,
           "flatShaded": false,
           "interiorColor": 2236962,
           "interiorDarkening": 0,
           "lazy": false,
           "lineOnly": false,
           "linewidth": 2,
           "matrix": {
            "elements": [
             1,
             0,
             0,
             0,
             0,
             1,
             0,
             0,
             0,
             0,
             1,
             0,
             0,
             0,
             0,
             1
            ]
           },
           "metalness": 0,
           "multipleBond": "off",
           "opacity": 1,
           "openEnded": true,
           "quality": "high",
           "radialSegments": 20,
           "radiusData": {},
           "radiusScale": 2,
           "radiusSize": 0.15,
           "radiusType": "size",
           "roughness": 0.4,
           "sele": "",
           "side": "double",
           "sphereDetail": 2,
           "useInteriorColor": true,
           "visible": true,
           "wireframe": false
          },
          "type": "ball+stick"
         },
         "1": {
          "params": {
           "aspectRatio": 1,
           "assembly": "default",
           "bondScale": 0.4,
           "bondSpacing": 1,
           "clipCenter": {
            "x": 0,
            "y": 0,
            "z": 0
           },
           "clipNear": 0,
           "clipRadius": 0,
           "colorMode": "hcl",
           "colorReverse": false,
           "colorScale": "",
           "colorScheme": "uniform",
           "colorValue": 4171670,
           "cylinderOnly": false,
           "defaultAssembly": "",
           "depthWrite": true,
           "diffuse": 16777215,
           "diffuseInterior": false,
           "disableImpostor": false,
           "disablePicking": false,
           "flatShaded": false,
           "interiorColor": 2236962,
           "interiorDarkening": 0,
           "lazy": false,
           "lineOnly": false,
           "linewidth": 2,
           "matrix": {
            "elements": [
             1,
             0,
             0,
             0,
             0,
             1,
             0,
             0,
             0,
             0,
             1,
             0,
             0,
             0,
             0,
             1
            ]
           },
           "metalness": 0,
           "multipleBond": "off",
           "opacity": 1,
           "openEnded": true,
           "quality": "medium",
           "radialSegments": 10,
           "radiusData": {},
           "radiusScale": 1,
           "radiusSize": 0.5,
           "radiusType": "size",
           "roughness": 0.4,
           "sele": "@8,10,14,16",
           "side": "double",
           "sphereDetail": 1,
           "useInteriorColor": true,
           "visible": true,
           "wireframe": false
          },
          "type": "ball+stick"
         }
        }
       },
       "_ngl_serialize": false,
       "_ngl_version": "2.2.2",
       "_ngl_view_id": [
        "AC344071-8167-492A-BD88-8FD98E5ACA42"
       ],
       "_player_dict": {},
       "_scene_position": {},
       "_scene_rotation": {},
       "_synced_model_ids": [],
       "_synced_repr_model_ids": [],
       "_view_height": "400px",
       "_view_width": "400px",
       "background": "white",
       "frame": 0,
       "gui_style": null,
       "layout": "IPY_MODEL_dc314459c6fc49f4b734097329a384eb",
       "max_frame": 0,
       "n_components": 1,
       "picked": {}
      }
     },
     "5bb2a8c1e6d6489ab91abcaa9b950316": {
      "model_module": "@jupyter-widgets/controls",
      "model_module_version": "2.0.0",
      "model_name": "PlayModel",
      "state": {
       "layout": "IPY_MODEL_c231e061c157445b928e306cdd44ba8f",
       "max": 0,
       "style": "IPY_MODEL_104902f8c9ea41e19fd273f8d02c6b1c"
      }
     },
     "5c7807927b0d40eea1b3339c2c62b048": {
      "model_module": "@jupyter-widgets/controls",
      "model_module_version": "2.0.0",
      "model_name": "HBoxModel",
      "state": {
       "children": [
        "IPY_MODEL_ed47b139d2a6431aa0c3462ceb87cb9e",
        "IPY_MODEL_06f0288fae4546ebb144ed12898433c3"
       ],
       "layout": "IPY_MODEL_14dd113b11274735899f1e99a1165ac8"
      }
     },
     "5d2707129e724c3cace6f25ae06f1bb4": {
      "model_module": "@jupyter-widgets/controls",
      "model_module_version": "2.0.0",
      "model_name": "HBoxModel",
      "state": {
       "children": [
        "IPY_MODEL_eb130879c154439bbf97ef98e9209260",
        "IPY_MODEL_b5b12e7fab864983b3d7339f9e7da071"
       ],
       "layout": "IPY_MODEL_be282a90a2664f9b86f002dc227c7dc5"
      }
     },
     "5d6c122a0f3746b89e3165f9ebe4eb71": {
      "model_module": "@jupyter-widgets/controls",
      "model_module_version": "2.0.0",
      "model_name": "LinkModel",
      "state": {
       "source": [
        "IPY_MODEL_a6c41bd15f04435cb9f55b469a7b5bdb",
        "max"
       ],
       "target": [
        "IPY_MODEL_e5a27927480843ea97005fafbbb93ed8",
        "max_frame"
       ]
      }
     },
     "5f6c5405ffa144daa290f7e5a0d59aea": {
      "model_module": "@jupyter-widgets/base",
      "model_module_version": "2.0.0",
      "model_name": "LayoutModel",
      "state": {}
     },
     "604b4882d0ba41b5826a81d377cd3f07": {
      "model_module": "@jupyter-widgets/controls",
      "model_module_version": "2.0.0",
      "model_name": "LinkModel",
      "state": {
       "source": [
        "IPY_MODEL_a12e24f22f544b5dbe7a8620b5950118",
        "value"
       ],
       "target": [
        "IPY_MODEL_6a4bdde389584c86b3584e90453aba31",
        "frame"
       ]
      }
     },
     "60e561e2733a4c3190ae4b638fa0a0e4": {
      "model_module": "@jupyter-widgets/controls",
      "model_module_version": "2.0.0",
      "model_name": "LinkModel",
      "state": {
       "source": [
        "IPY_MODEL_4565a23c29434ce7bf02288396882fce",
        "max"
       ],
       "target": [
        "IPY_MODEL_88246165545d45019ae3a4bad1c2370f",
        "max_frame"
       ]
      }
     },
     "61cbb392ce8244c3ac64b89cb5dcd9fa": {
      "model_module": "@jupyter-widgets/base",
      "model_module_version": "2.0.0",
      "model_name": "LayoutModel",
      "state": {
       "width": "34px"
      }
     },
     "63deaeb4cd314fe084e7da1e710a4946": {
      "model_module": "@jupyter-widgets/controls",
      "model_module_version": "2.0.0",
      "model_name": "ImageModel",
      "state": {
       "layout": "IPY_MODEL_188c788b0a9649bab60aa8f838a47269",
       "width": "900.0"
      }
     },
     "6514a3bb781b4477a0fb139158bc64c7": {
      "model_module": "@jupyter-widgets/controls",
      "model_module_version": "2.0.0",
      "model_name": "PlayModel",
      "state": {
       "layout": "IPY_MODEL_2bafaa6ded5a408984394e37ee1396fc",
       "max": 0,
       "style": "IPY_MODEL_192f5be326ec4eef840a03feaaa55534"
      }
     },
     "6520dbddd11048848751c0224d9f0953": {
      "model_module": "@jupyter-widgets/controls",
      "model_module_version": "2.0.0",
      "model_name": "LinkModel",
      "state": {
       "source": [
        "IPY_MODEL_84892676231146198c58253bd5f8784b",
        "max"
       ],
       "target": [
        "IPY_MODEL_10ef294d1d36431d8307f3f030b67090",
        "max_frame"
       ]
      }
     },
     "655cf1a6a7684300b4d6739caf684ab6": {
      "model_module": "@jupyter-widgets/base",
      "model_module_version": "2.0.0",
      "model_name": "LayoutModel",
      "state": {}
     },
     "66c2f981f42347e98c05dcc12b647e3f": {
      "model_module": "@jupyter-widgets/base",
      "model_module_version": "2.0.0",
      "model_name": "LayoutModel",
      "state": {}
     },
     "67fab7d1f2f145818c98e4f621b49b51": {
      "model_module": "@jupyter-widgets/controls",
      "model_module_version": "2.0.0",
      "model_name": "ImageModel",
      "state": {
       "layout": "IPY_MODEL_fb2ce9f8c7184aa696487de4b8329ed9",
       "width": "900.0"
      }
     },
     "6823484eab994f8f99334fb505cc2534": {
      "model_module": "@jupyter-widgets/controls",
      "model_module_version": "2.0.0",
      "model_name": "ButtonModel",
      "state": {
       "icon": "compress",
       "layout": "IPY_MODEL_ec30de0efe5944ad9f5da69af3542c1d",
       "style": "IPY_MODEL_b7d4af1ce17147adad1f24de15036634",
       "tooltip": null
      }
     },
     "68517931850946cfb8148b8f7f1bb2bd": {
      "model_module": "@jupyter-widgets/controls",
      "model_module_version": "2.0.0",
      "model_name": "LinkModel",
      "state": {
       "source": [
        "IPY_MODEL_b5b12e7fab864983b3d7339f9e7da071",
        "max"
       ],
       "target": [
        "IPY_MODEL_6e009bc4ea4940408d4bd6e8945827a6",
        "max_frame"
       ]
      }
     },
     "68ee291e62014c97a34c386ef2744d59": {
      "model_module": "@jupyter-widgets/controls",
      "model_module_version": "2.0.0",
      "model_name": "DescriptionStyleModel",
      "state": {
       "description_width": ""
      }
     },
     "69da4bcc5e574d72bcebac25f70d5505": {
      "model_module": "@jupyter-widgets/controls",
      "model_module_version": "2.0.0",
      "model_name": "LinkModel",
      "state": {
       "source": [
        "IPY_MODEL_975aa9841c124da78d7d97bf887938b6",
        "value"
       ],
       "target": [
        "IPY_MODEL_5ba57b8b61f44b3a9b02b462f5873d05",
        "frame"
       ]
      }
     },
     "6a4bdde389584c86b3584e90453aba31": {
      "model_module": "nglview-js-widgets",
      "model_module_version": "3.1.0",
      "model_name": "NGLModel",
      "state": {
       "_camera_orientation": [
        89.17883679943908,
        0,
        0,
        0,
        0,
        89.17883679943908,
        0,
        0,
        0,
        0,
        89.17883679943908,
        0,
        -18.133000373840332,
        -6.447000026702881,
        -21.994999885559082,
        1
       ],
       "_camera_str": "orthographic",
       "_gui_theme": null,
       "_ibtn_fullscreen": "IPY_MODEL_77e3e8bcb784434b88b27b3009359ec7",
       "_igui": null,
       "_iplayer": "IPY_MODEL_aaad62e131a34bffbff36131992609a0",
       "_ngl_color_dict": {},
       "_ngl_coordinate_resource": {},
       "_ngl_full_stage_parameters": {
        "ambientColor": 14540253,
        "ambientIntensity": 0.2,
        "backgroundColor": "white",
        "cameraEyeSep": 0.3,
        "cameraFov": 40,
        "cameraType": "perspective",
        "clipDist": 10,
        "clipFar": 100,
        "clipMode": "scene",
        "clipNear": 0,
        "clipScale": "relative",
        "fogFar": 100,
        "fogNear": 50,
        "hoverTimeout": 0,
        "impostor": true,
        "lightColor": 14540253,
        "lightIntensity": 1,
        "mousePreset": "default",
        "panSpeed": 1,
        "quality": "medium",
        "rotateSpeed": 2,
        "sampleLevel": 0,
        "tooltip": true,
        "workerDefault": true,
        "zoomSpeed": 1.2
       },
       "_ngl_msg_archive": [
        {
         "args": [
          {
           "binary": false,
           "data": "REMARK   1 CREATED WITH MDTraj 1.9.6, 2024-09-05\nCRYST1   25.580   25.580   25.580  90.00  90.00  90.00 P 1           1 \nMODEL        0\nATOM      1  H1  ACE A   1      19.185   3.272  20.062  1.00  0.00           H  \nATOM      2  CH3 ACE A   1      18.852   3.056  21.077  1.00  0.00           C  \nATOM      3  H2  ACE A   1      19.711   2.965  21.742  1.00  0.00           H  \nATOM      4  H3  ACE A   1      18.267   2.137  21.094  1.00  0.00           H  \nATOM      5  C   ACE A   1      17.969   4.173  21.580  1.00  0.00           C  \nATOM      6  O   ACE A   1      16.799   3.940  21.826  1.00  0.00           O  \nATOM      7  N   ALA A   2      18.542   5.357  21.737  1.00  0.00           N  \nATOM      8  H   ALA A   2      19.537   5.432  21.581  1.00  0.00           H  \nATOM      9  CA  ALA A   2      17.848   6.546  22.226  1.00  0.00           C  \nATOM     10  HA  ALA A   2      16.778   6.439  22.048  1.00  0.00           H  \nATOM     11  CB  ALA A   2      18.056   6.616  23.749  1.00  0.00           C  \nATOM     12  HB1 ALA A   2      17.618   7.523  24.166  1.00  0.00           H  \nATOM     13  HB2 ALA A   2      19.126   6.649  23.954  1.00  0.00           H  \nATOM     14  HB3 ALA A   2      17.636   5.733  24.230  1.00  0.00           H  \nATOM     15  C   ALA A   2      18.330   7.819  21.506  1.00  0.00           C  \nATOM     16  O   ALA A   2      19.476   7.890  21.079  1.00  0.00           O  \nATOM     17  N   NME A   3      17.462   8.834  21.430  1.00  0.00           N  \nATOM     18  H   NME A   3      16.555   8.713  21.856  1.00  0.00           H  \nATOM     19  C   NME A   3      17.780  10.114  20.802  1.00  0.00           C  \nATOM     20  H1  NME A   3      16.900  10.757  20.804  1.00  0.00           H  \nATOM     21  H2  NME A   3      18.606  10.599  21.323  1.00  0.00           H  \nATOM     22  H3  NME A   3      18.047   9.939  19.760  1.00  0.00           H  \nTER      23      NME A   3\nENDMDL\nCONECT    1    2    2\nCONECT    2    5    1    3\nCONECT    2    1    5    3    4\nCONECT    3    2    2\nCONECT    4    2    2\nCONECT    5    2    6    7\nCONECT    5    6    7\nCONECT    6    5    5\nCONECT    7    5    5\nCONECT   15   17   17\nCONECT   17   15   19   18\nCONECT   17   19   18\nCONECT   18   17   17\nCONECT   19   20   21   22\nCONECT   19   17   20   21   22\nCONECT   20   19   19\nCONECT   21   19   19\nCONECT   22   19   19\nEND\n",
           "type": "blob"
          }
         ],
         "kwargs": {
          "defaultRepresentation": true,
          "ext": "pdb",
          "height": "400px",
          "width": "400px"
         },
         "methodName": "loadFile",
         "reconstruc_color_scheme": false,
         "target": "Stage",
         "type": "call_method"
        }
       ],
       "_ngl_original_stage_parameters": {
        "ambientColor": 14540253,
        "ambientIntensity": 0.2,
        "backgroundColor": "white",
        "cameraEyeSep": 0.3,
        "cameraFov": 40,
        "cameraType": "perspective",
        "clipDist": 10,
        "clipFar": 100,
        "clipMode": "scene",
        "clipNear": 0,
        "clipScale": "relative",
        "fogFar": 100,
        "fogNear": 50,
        "hoverTimeout": 0,
        "impostor": true,
        "lightColor": 14540253,
        "lightIntensity": 1,
        "mousePreset": "default",
        "panSpeed": 1,
        "quality": "medium",
        "rotateSpeed": 2,
        "sampleLevel": 0,
        "tooltip": true,
        "workerDefault": true,
        "zoomSpeed": 1.2
       },
       "_ngl_repr_dict": {
        "0": {
         "0": {
          "params": {
           "aspectRatio": 1.5,
           "assembly": "default",
           "bondScale": 0.3,
           "bondSpacing": 0.75,
           "clipCenter": {
            "x": 0,
            "y": 0,
            "z": 0
           },
           "clipNear": 0,
           "clipRadius": 0,
           "colorMode": "hcl",
           "colorReverse": false,
           "colorScale": "",
           "colorScheme": "element",
           "colorValue": 9474192,
           "cylinderOnly": false,
           "defaultAssembly": "",
           "depthWrite": true,
           "diffuse": 16777215,
           "diffuseInterior": false,
           "disableImpostor": false,
           "disablePicking": false,
           "flatShaded": false,
           "interiorColor": 2236962,
           "interiorDarkening": 0,
           "lazy": false,
           "lineOnly": false,
           "linewidth": 2,
           "matrix": {
            "elements": [
             1,
             0,
             0,
             0,
             0,
             1,
             0,
             0,
             0,
             0,
             1,
             0,
             0,
             0,
             0,
             1
            ]
           },
           "metalness": 0,
           "multipleBond": "off",
           "opacity": 1,
           "openEnded": true,
           "quality": "high",
           "radialSegments": 20,
           "radiusData": {},
           "radiusScale": 2,
           "radiusSize": 0.15,
           "radiusType": "size",
           "roughness": 0.4,
           "sele": "",
           "side": "double",
           "sphereDetail": 2,
           "useInteriorColor": true,
           "visible": true,
           "wireframe": false
          },
          "type": "ball+stick"
         }
        }
       },
       "_ngl_serialize": false,
       "_ngl_version": "2.2.2",
       "_ngl_view_id": [
        "E7920FFB-87FD-409E-8930-6576C16A822E"
       ],
       "_player_dict": {},
       "_scene_position": {},
       "_scene_rotation": {},
       "_synced_model_ids": [],
       "_synced_repr_model_ids": [],
       "_view_height": "400px",
       "_view_width": "400px",
       "background": "white",
       "frame": 0,
       "gui_style": null,
       "layout": "IPY_MODEL_5f6c5405ffa144daa290f7e5a0d59aea",
       "max_frame": 0,
       "n_components": 1,
       "picked": {}
      }
     },
     "6a67bd8a5cb34ecb8cc4e95be9593fae": {
      "model_module": "@jupyter-widgets/controls",
      "model_module_version": "2.0.0",
      "model_name": "LinkModel",
      "state": {
       "source": [
        "IPY_MODEL_a01d9710bcd84badbddcf4468a06b05d",
        "value"
       ],
       "target": [
        "IPY_MODEL_f77396bafdd24b83a7c2ccb84c7d0ac3",
        "frame"
       ]
      }
     },
     "6b2c7a1eb4324a44a3ae5a2bc5c04780": {
      "model_module": "@jupyter-widgets/controls",
      "model_module_version": "2.0.0",
      "model_name": "LinkModel",
      "state": {
       "source": [
        "IPY_MODEL_eb130879c154439bbf97ef98e9209260",
        "value"
       ],
       "target": [
        "IPY_MODEL_b5b12e7fab864983b3d7339f9e7da071",
        "value"
       ]
      }
     },
     "6d25a4d95591402f866001893747e703": {
      "model_module": "nglview-js-widgets",
      "model_module_version": "3.1.0",
      "model_name": "NGLModel",
      "state": {
       "_camera_orientation": [
        22.822468426697625,
        0,
        0,
        0,
        0,
        22.822468426697625,
        0,
        0,
        0,
        0,
        22.822468426697625,
        0,
        -13.975999355316162,
        -15.923500061035156,
        3.4434999227523804,
        1
       ],
       "_camera_str": "orthographic",
       "_gui_theme": null,
       "_ibtn_fullscreen": "IPY_MODEL_6823484eab994f8f99334fb505cc2534",
       "_igui": null,
       "_iplayer": "IPY_MODEL_4953390ee6e44d0ea85872b71a7b6574",
       "_ngl_color_dict": {},
       "_ngl_coordinate_resource": {},
       "_ngl_full_stage_parameters": {
        "ambientColor": 14540253,
        "ambientIntensity": 0.2,
        "backgroundColor": "white",
        "cameraEyeSep": 0.3,
        "cameraFov": 40,
        "cameraType": "perspective",
        "clipDist": 10,
        "clipFar": 100,
        "clipMode": "scene",
        "clipNear": 0,
        "clipScale": "relative",
        "fogFar": 100,
        "fogNear": 50,
        "hoverTimeout": 0,
        "impostor": true,
        "lightColor": 14540253,
        "lightIntensity": 1,
        "mousePreset": "default",
        "panSpeed": 1,
        "quality": "medium",
        "rotateSpeed": 2,
        "sampleLevel": 0,
        "tooltip": true,
        "workerDefault": true,
        "zoomSpeed": 1.2
       },
       "_ngl_msg_archive": [
        {
         "args": [
          {
           "binary": false,
           "data": "REMARK   1 CREATED WITH MDTraj 1.9.6, 2021-09-14\nCRYST1   20.233   20.233   20.233  90.00  90.00  90.00 P 1           1 \nMODEL        0\nATOM      1  H1  ACE A   1      16.384  14.081  -5.858  1.00  0.00           H  \nATOM      2  CH3 ACE A   1      16.530  14.752  -5.012  1.00  0.00           C  \nATOM      3  H2  ACE A   1      17.262  15.508  -5.297  1.00  0.00           H  \nATOM      4  H3  ACE A   1      16.909  14.174  -4.169  1.00  0.00           H  \nATOM      5  C   ACE A   1      15.200  15.391  -4.663  1.00  0.00           C  \nATOM      6  O   ACE A   1      14.169  14.948  -5.147  1.00  0.00           O  \nATOM      7  N   ALA A   2      15.223  16.439  -3.824  1.00  0.00           N  \nATOM      8  H   ALA A   2      16.138  16.741  -3.522  1.00  0.00           H  \nATOM      9  CA  ALA A   2      14.061  17.185  -3.253  1.00  0.00           C  \nATOM     10  HA  ALA A   2      14.475  17.918  -2.560  1.00  0.00           H  \nATOM     11  CB  ALA A   2      13.353  17.961  -4.365  1.00  0.00           C  \nATOM     12  HB1 ALA A   2      12.564  18.580  -3.938  1.00  0.00           H  \nATOM     13  HB2 ALA A   2      14.090  18.590  -4.865  1.00  0.00           H  \nATOM     14  HB3 ALA A   2      12.926  17.296  -5.116  1.00  0.00           H  \nATOM     15  C   ALA A   2      13.036  16.370  -2.426  1.00  0.00           C  \nATOM     16  O   ALA A   2      12.568  16.879  -1.404  1.00  0.00           O  \nATOM     17  N   NME A   3      12.674  15.159  -2.814  1.00  0.00           N  \nATOM     18  H   NME A   3      13.075  14.848  -3.687  1.00  0.00           H  \nATOM     19  C   NME A   3      11.703  14.298  -2.109  1.00  0.00           C  \nATOM     20  H1  NME A   3      10.690  14.587  -2.391  1.00  0.00           H  \nATOM     21  H2  NME A   3      11.856  13.257  -2.395  1.00  0.00           H  \nATOM     22  H3  NME A   3      11.817  14.384  -1.029  1.00  0.00           H  \nTER      23      NME A   3\nENDMDL\nCONECT    1    2\nCONECT    2    3    4    5\nCONECT    5    6    6    7\nCONECT    7    8    9\nCONECT    9   10   11   15\nCONECT   11   12   13   14\nCONECT   15   16   16   17\nCONECT   17   18   19\nCONECT   19   20   21   22\nEND",
           "type": "blob"
          }
         ],
         "kwargs": {
          "defaultRepresentation": true,
          "ext": "pdb",
          "height": "400px",
          "width": "400px"
         },
         "methodName": "loadFile",
         "reconstruc_color_scheme": false,
         "target": "Stage",
         "type": "call_method"
        },
        {
         "args": [
          "ball+stick"
         ],
         "component_index": 0,
         "kwargs": {
          "aspectRatio": 1,
          "color": "#FEC220",
          "radius": 0.5,
          "sele": "@4,6,8,10"
         },
         "methodName": "addRepresentation",
         "reconstruc_color_scheme": false,
         "target": "compList",
         "type": "call_method"
        }
       ],
       "_ngl_original_stage_parameters": {
        "ambientColor": 14540253,
        "ambientIntensity": 0.2,
        "backgroundColor": "white",
        "cameraEyeSep": 0.3,
        "cameraFov": 40,
        "cameraType": "perspective",
        "clipDist": 10,
        "clipFar": 100,
        "clipMode": "scene",
        "clipNear": 0,
        "clipScale": "relative",
        "fogFar": 100,
        "fogNear": 50,
        "hoverTimeout": 0,
        "impostor": true,
        "lightColor": 14540253,
        "lightIntensity": 1,
        "mousePreset": "default",
        "panSpeed": 1,
        "quality": "medium",
        "rotateSpeed": 2,
        "sampleLevel": 0,
        "tooltip": true,
        "workerDefault": true,
        "zoomSpeed": 1.2
       },
       "_ngl_repr_dict": {
        "0": {
         "0": {
          "params": {
           "aspectRatio": 1.5,
           "assembly": "default",
           "bondScale": 0.3,
           "bondSpacing": 0.75,
           "clipCenter": {
            "x": 0,
            "y": 0,
            "z": 0
           },
           "clipNear": 0,
           "clipRadius": 0,
           "colorMode": "hcl",
           "colorReverse": false,
           "colorScale": "",
           "colorScheme": "element",
           "colorValue": 9474192,
           "cylinderOnly": false,
           "defaultAssembly": "",
           "depthWrite": true,
           "diffuse": 16777215,
           "diffuseInterior": false,
           "disableImpostor": false,
           "disablePicking": false,
           "flatShaded": false,
           "interiorColor": 2236962,
           "interiorDarkening": 0,
           "lazy": false,
           "lineOnly": false,
           "linewidth": 2,
           "matrix": {
            "elements": [
             1,
             0,
             0,
             0,
             0,
             1,
             0,
             0,
             0,
             0,
             1,
             0,
             0,
             0,
             0,
             1
            ]
           },
           "metalness": 0,
           "multipleBond": "off",
           "opacity": 1,
           "openEnded": true,
           "quality": "high",
           "radialSegments": 20,
           "radiusData": {},
           "radiusScale": 2,
           "radiusSize": 0.15,
           "radiusType": "size",
           "roughness": 0.4,
           "sele": "",
           "side": "double",
           "sphereDetail": 2,
           "useInteriorColor": true,
           "visible": true,
           "wireframe": false
          },
          "type": "ball+stick"
         },
         "1": {
          "params": {
           "aspectRatio": 1,
           "assembly": "default",
           "bondScale": 0.4,
           "bondSpacing": 1,
           "clipCenter": {
            "x": 0,
            "y": 0,
            "z": 0
           },
           "clipNear": 0,
           "clipRadius": 0,
           "colorMode": "hcl",
           "colorReverse": false,
           "colorScale": "",
           "colorScheme": "uniform",
           "colorValue": 16695840,
           "cylinderOnly": false,
           "defaultAssembly": "",
           "depthWrite": true,
           "diffuse": 16777215,
           "diffuseInterior": false,
           "disableImpostor": false,
           "disablePicking": false,
           "flatShaded": false,
           "interiorColor": 2236962,
           "interiorDarkening": 0,
           "lazy": false,
           "lineOnly": false,
           "linewidth": 2,
           "matrix": {
            "elements": [
             1,
             0,
             0,
             0,
             0,
             1,
             0,
             0,
             0,
             0,
             1,
             0,
             0,
             0,
             0,
             1
            ]
           },
           "metalness": 0,
           "multipleBond": "off",
           "opacity": 1,
           "openEnded": true,
           "quality": "medium",
           "radialSegments": 10,
           "radiusData": {},
           "radiusScale": 1,
           "radiusSize": 0.5,
           "radiusType": "size",
           "roughness": 0.4,
           "sele": "@4,6,8,10",
           "side": "double",
           "sphereDetail": 1,
           "useInteriorColor": true,
           "visible": true,
           "wireframe": false
          },
          "type": "ball+stick"
         }
        }
       },
       "_ngl_serialize": false,
       "_ngl_version": "2.2.2",
       "_ngl_view_id": [
        "768A2EC6-3C19-4406-9959-BA83073860D2"
       ],
       "_player_dict": {},
       "_scene_position": {},
       "_scene_rotation": {},
       "_synced_model_ids": [],
       "_synced_repr_model_ids": [],
       "_view_height": "400px",
       "_view_width": "400px",
       "background": "white",
       "frame": 0,
       "gui_style": null,
       "layout": "IPY_MODEL_66c2f981f42347e98c05dcc12b647e3f",
       "max_frame": 0,
       "n_components": 1,
       "picked": {}
      }
     },
     "6e009bc4ea4940408d4bd6e8945827a6": {
      "model_module": "nglview-js-widgets",
      "model_module_version": "3.1.0",
      "model_name": "NGLModel",
      "state": {
       "_camera_orientation": [
        11.846651870421535,
        0.6724217546859899,
        10.000779481948408,
        0,
        -5.305504802419043,
        13.556951337940367,
        5.373229104916564,
        0,
        -8.504079024459012,
        -7.521158235686781,
        10.579400764751028,
        0,
        -13.975999355316162,
        -15.923500061035156,
        3.4434999227523804,
        1
       ],
       "_camera_str": "orthographic",
       "_gui_theme": null,
       "_ibtn_fullscreen": "IPY_MODEL_af0feffb9f754d0cbecb231034d9e7dd",
       "_igui": null,
       "_iplayer": "IPY_MODEL_5d2707129e724c3cace6f25ae06f1bb4",
       "_ngl_color_dict": {},
       "_ngl_coordinate_resource": {},
       "_ngl_full_stage_parameters": {
        "ambientColor": 14540253,
        "ambientIntensity": 0.2,
        "backgroundColor": "white",
        "cameraEyeSep": 0.3,
        "cameraFov": 40,
        "cameraType": "perspective",
        "clipDist": 10,
        "clipFar": 100,
        "clipMode": "scene",
        "clipNear": 0,
        "clipScale": "relative",
        "fogFar": 100,
        "fogNear": 50,
        "hoverTimeout": 0,
        "impostor": true,
        "lightColor": 14540253,
        "lightIntensity": 1,
        "mousePreset": "default",
        "panSpeed": 1,
        "quality": "medium",
        "rotateSpeed": 2,
        "sampleLevel": 0,
        "tooltip": true,
        "workerDefault": true,
        "zoomSpeed": 1.2
       },
       "_ngl_msg_archive": [
        {
         "args": [
          {
           "binary": false,
           "data": "REMARK   1 CREATED WITH MDTraj 1.9.6, 2021-09-14\nCRYST1   20.233   20.233   20.233  90.00  90.00  90.00 P 1           1 \nMODEL        0\nATOM      1  H1  ACE A   1      16.384  14.081  -5.858  1.00  0.00           H  \nATOM      2  CH3 ACE A   1      16.530  14.752  -5.012  1.00  0.00           C  \nATOM      3  H2  ACE A   1      17.262  15.508  -5.297  1.00  0.00           H  \nATOM      4  H3  ACE A   1      16.909  14.174  -4.169  1.00  0.00           H  \nATOM      5  C   ACE A   1      15.200  15.391  -4.663  1.00  0.00           C  \nATOM      6  O   ACE A   1      14.169  14.948  -5.147  1.00  0.00           O  \nATOM      7  N   ALA A   2      15.223  16.439  -3.824  1.00  0.00           N  \nATOM      8  H   ALA A   2      16.138  16.741  -3.522  1.00  0.00           H  \nATOM      9  CA  ALA A   2      14.061  17.185  -3.253  1.00  0.00           C  \nATOM     10  HA  ALA A   2      14.475  17.918  -2.560  1.00  0.00           H  \nATOM     11  CB  ALA A   2      13.353  17.961  -4.365  1.00  0.00           C  \nATOM     12  HB1 ALA A   2      12.564  18.580  -3.938  1.00  0.00           H  \nATOM     13  HB2 ALA A   2      14.090  18.590  -4.865  1.00  0.00           H  \nATOM     14  HB3 ALA A   2      12.926  17.296  -5.116  1.00  0.00           H  \nATOM     15  C   ALA A   2      13.036  16.370  -2.426  1.00  0.00           C  \nATOM     16  O   ALA A   2      12.568  16.879  -1.404  1.00  0.00           O  \nATOM     17  N   NME A   3      12.674  15.159  -2.814  1.00  0.00           N  \nATOM     18  H   NME A   3      13.075  14.848  -3.687  1.00  0.00           H  \nATOM     19  C   NME A   3      11.703  14.298  -2.109  1.00  0.00           C  \nATOM     20  H1  NME A   3      10.690  14.587  -2.391  1.00  0.00           H  \nATOM     21  H2  NME A   3      11.856  13.257  -2.395  1.00  0.00           H  \nATOM     22  H3  NME A   3      11.817  14.384  -1.029  1.00  0.00           H  \nTER      23      NME A   3\nENDMDL\nCONECT    1    2\nCONECT    2    3    4    5\nCONECT    5    6    6    7\nCONECT    7    8    9\nCONECT    9   10   11   15\nCONECT   11   12   13   14\nCONECT   15   16   16   17\nCONECT   17   18   19\nCONECT   19   20   21   22\nEND",
           "type": "blob"
          }
         ],
         "kwargs": {
          "defaultRepresentation": true,
          "ext": "pdb",
          "height": "400px",
          "width": "400px"
         },
         "methodName": "loadFile",
         "reconstruc_color_scheme": false,
         "target": "Stage",
         "type": "call_method"
        },
        {
         "args": [
          "ball+stick"
         ],
         "component_index": 0,
         "kwargs": {
          "aspectRatio": 1,
          "color": "#3FA796",
          "radius": 0.5,
          "sele": "@8,10,14,16"
         },
         "methodName": "addRepresentation",
         "reconstruc_color_scheme": false,
         "target": "compList",
         "type": "call_method"
        }
       ],
       "_ngl_original_stage_parameters": {
        "ambientColor": 14540253,
        "ambientIntensity": 0.2,
        "backgroundColor": "white",
        "cameraEyeSep": 0.3,
        "cameraFov": 40,
        "cameraType": "perspective",
        "clipDist": 10,
        "clipFar": 100,
        "clipMode": "scene",
        "clipNear": 0,
        "clipScale": "relative",
        "fogFar": 100,
        "fogNear": 50,
        "hoverTimeout": 0,
        "impostor": true,
        "lightColor": 14540253,
        "lightIntensity": 1,
        "mousePreset": "default",
        "panSpeed": 1,
        "quality": "medium",
        "rotateSpeed": 2,
        "sampleLevel": 0,
        "tooltip": true,
        "workerDefault": true,
        "zoomSpeed": 1.2
       },
       "_ngl_repr_dict": {
        "0": {
         "0": {
          "params": {
           "aspectRatio": 1.5,
           "assembly": "default",
           "bondScale": 0.3,
           "bondSpacing": 0.75,
           "clipCenter": {
            "x": 0,
            "y": 0,
            "z": 0
           },
           "clipNear": 0,
           "clipRadius": 0,
           "colorMode": "hcl",
           "colorReverse": false,
           "colorScale": "",
           "colorScheme": "element",
           "colorValue": 9474192,
           "cylinderOnly": false,
           "defaultAssembly": "",
           "depthWrite": true,
           "diffuse": 16777215,
           "diffuseInterior": false,
           "disableImpostor": false,
           "disablePicking": false,
           "flatShaded": false,
           "interiorColor": 2236962,
           "interiorDarkening": 0,
           "lazy": false,
           "lineOnly": false,
           "linewidth": 2,
           "matrix": {
            "elements": [
             1,
             0,
             0,
             0,
             0,
             1,
             0,
             0,
             0,
             0,
             1,
             0,
             0,
             0,
             0,
             1
            ]
           },
           "metalness": 0,
           "multipleBond": "off",
           "opacity": 1,
           "openEnded": true,
           "quality": "high",
           "radialSegments": 20,
           "radiusData": {},
           "radiusScale": 2,
           "radiusSize": 0.15,
           "radiusType": "size",
           "roughness": 0.4,
           "sele": "",
           "side": "double",
           "sphereDetail": 2,
           "useInteriorColor": true,
           "visible": true,
           "wireframe": false
          },
          "type": "ball+stick"
         },
         "1": {
          "params": {
           "aspectRatio": 1,
           "assembly": "default",
           "bondScale": 0.4,
           "bondSpacing": 1,
           "clipCenter": {
            "x": 0,
            "y": 0,
            "z": 0
           },
           "clipNear": 0,
           "clipRadius": 0,
           "colorMode": "hcl",
           "colorReverse": false,
           "colorScale": "",
           "colorScheme": "uniform",
           "colorValue": 4171670,
           "cylinderOnly": false,
           "defaultAssembly": "",
           "depthWrite": true,
           "diffuse": 16777215,
           "diffuseInterior": false,
           "disableImpostor": false,
           "disablePicking": false,
           "flatShaded": false,
           "interiorColor": 2236962,
           "interiorDarkening": 0,
           "lazy": false,
           "lineOnly": false,
           "linewidth": 2,
           "matrix": {
            "elements": [
             1,
             0,
             0,
             0,
             0,
             1,
             0,
             0,
             0,
             0,
             1,
             0,
             0,
             0,
             0,
             1
            ]
           },
           "metalness": 0,
           "multipleBond": "off",
           "opacity": 1,
           "openEnded": true,
           "quality": "medium",
           "radialSegments": 10,
           "radiusData": {},
           "radiusScale": 1,
           "radiusSize": 0.5,
           "radiusType": "size",
           "roughness": 0.4,
           "sele": "@8,10,14,16",
           "side": "double",
           "sphereDetail": 1,
           "useInteriorColor": true,
           "visible": true,
           "wireframe": false
          },
          "type": "ball+stick"
         }
        }
       },
       "_ngl_serialize": false,
       "_ngl_version": "2.2.2",
       "_ngl_view_id": [
        "153F17E2-EFF9-40AA-8EB9-6928FFD96ABF"
       ],
       "_player_dict": {},
       "_scene_position": {},
       "_scene_rotation": {},
       "_synced_model_ids": [],
       "_synced_repr_model_ids": [],
       "_view_height": "400px",
       "_view_width": "400px",
       "background": "white",
       "frame": 0,
       "gui_style": null,
       "layout": "IPY_MODEL_8148955cbe5a4b939531ad46f4c8509d",
       "max_frame": 0,
       "n_components": 1,
       "picked": {}
      }
     },
     "6e2074d1470e416694a91af97a6334fc": {
      "model_module": "@jupyter-widgets/base",
      "model_module_version": "2.0.0",
      "model_name": "LayoutModel",
      "state": {}
     },
     "6e52f4a31f524092900f6d60c1b94a96": {
      "model_module": "@jupyter-widgets/controls",
      "model_module_version": "2.0.0",
      "model_name": "ButtonStyleModel",
      "state": {
       "font_family": null,
       "font_size": null,
       "font_style": null,
       "font_variant": null,
       "font_weight": null,
       "text_color": null,
       "text_decoration": null
      }
     },
     "6f429a241af74529966ca05572f92637": {
      "model_module": "@jupyter-widgets/controls",
      "model_module_version": "2.0.0",
      "model_name": "SliderStyleModel",
      "state": {
       "description_width": ""
      }
     },
     "70fb3a2abb5240e69d9b9edb8e20b7ba": {
      "model_module": "@jupyter-widgets/base",
      "model_module_version": "2.0.0",
      "model_name": "LayoutModel",
      "state": {}
     },
     "7154b64d22c744f389dfaf2589f43018": {
      "model_module": "@jupyter-widgets/controls",
      "model_module_version": "2.0.0",
      "model_name": "HBoxModel",
      "state": {
       "children": [
        "IPY_MODEL_cadb18f58684454abf0d7d84b7ea1659",
        "IPY_MODEL_f9743966ffc04142b28b8b284c64c2a1"
       ],
       "layout": "IPY_MODEL_8ee06fab65124c1b8879f3be58d21966"
      }
     },
     "715ace4926d24a309691a6d5821e9c94": {
      "model_module": "@jupyter-widgets/base",
      "model_module_version": "2.0.0",
      "model_name": "LayoutModel",
      "state": {}
     },
     "718076385b9940c8a398232fab60d27a": {
      "model_module": "@jupyter-widgets/controls",
      "model_module_version": "2.0.0",
      "model_name": "LinkModel",
      "state": {
       "source": [
        "IPY_MODEL_84892676231146198c58253bd5f8784b",
        "value"
       ],
       "target": [
        "IPY_MODEL_10ef294d1d36431d8307f3f030b67090",
        "frame"
       ]
      }
     },
     "729eddaf5be14b95a95eccba383e33af": {
      "model_module": "@jupyter-widgets/controls",
      "model_module_version": "2.0.0",
      "model_name": "HBoxModel",
      "state": {
       "children": [
        "IPY_MODEL_84892676231146198c58253bd5f8784b",
        "IPY_MODEL_0c568b64d54e4a8b84a24af5c8ce1e87"
       ],
       "layout": "IPY_MODEL_3bf996e84b60496b94c2da341e7c9b8b"
      }
     },
     "730990ffa1624417a04ff764c51e735b": {
      "model_module": "@jupyter-widgets/base",
      "model_module_version": "2.0.0",
      "model_name": "LayoutModel",
      "state": {}
     },
     "73dec392b80c41eab8ef526424aa934c": {
      "model_module": "@jupyter-widgets/controls",
      "model_module_version": "2.0.0",
      "model_name": "LinkModel",
      "state": {
       "source": [
        "IPY_MODEL_da35940138654cc19c539f3c6c6b9372",
        "max"
       ],
       "target": [
        "IPY_MODEL_6d25a4d95591402f866001893747e703",
        "max_frame"
       ]
      }
     },
     "74e871e0c97d48728302f83d60c470a8": {
      "model_module": "@jupyter-widgets/controls",
      "model_module_version": "2.0.0",
      "model_name": "IntSliderModel",
      "state": {
       "behavior": "drag-tap",
       "layout": "IPY_MODEL_b0a47614e5a64bcc9cdaa0ab42755f5f",
       "max": 0,
       "style": "IPY_MODEL_eb0e5fa11a484db195c953f1c8a6d7ab"
      }
     },
     "76659b8072a84b51a8108a1248a9a2c5": {
      "model_module": "@jupyter-widgets/controls",
      "model_module_version": "2.0.0",
      "model_name": "IntSliderModel",
      "state": {
       "behavior": "drag-tap",
       "layout": "IPY_MODEL_501cb67f7b504b2ead4052fd3d8ddfae",
       "max": 0,
       "style": "IPY_MODEL_f8f8a9547f6b43819fb840397d248bec"
      }
     },
     "770a967221cf43a89a3da7856bc07af1": {
      "model_module": "@jupyter-widgets/base",
      "model_module_version": "2.0.0",
      "model_name": "LayoutModel",
      "state": {}
     },
     "773f72c9b38b47de8b45a4d700730a0a": {
      "model_module": "nglview-js-widgets",
      "model_module_version": "3.1.0",
      "model_name": "NGLModel",
      "state": {
       "_camera_orientation": [
        7.489859915496724,
        -13.84410880228557,
        -19.681337101413433,
        0,
        -24.004822401964955,
        -2.8697877231231734,
        -7.116544109122334,
        0,
        1.6681966548067189,
        20.86186353319012,
        -14.039663458438044,
        0,
        -18.133000373840332,
        -6.447000026702881,
        -21.994999885559082,
        1
       ],
       "_camera_str": "orthographic",
       "_gui_theme": null,
       "_ibtn_fullscreen": "IPY_MODEL_ac65ab12a3894d479fc6ff4173aa2e65",
       "_igui": null,
       "_iplayer": "IPY_MODEL_5c7807927b0d40eea1b3339c2c62b048",
       "_ngl_color_dict": {},
       "_ngl_coordinate_resource": {},
       "_ngl_full_stage_parameters": {
        "ambientColor": 14540253,
        "ambientIntensity": 0.2,
        "backgroundColor": "white",
        "cameraEyeSep": 0.3,
        "cameraFov": 40,
        "cameraType": "perspective",
        "clipDist": 10,
        "clipFar": 100,
        "clipMode": "scene",
        "clipNear": 0,
        "clipScale": "relative",
        "fogFar": 100,
        "fogNear": 50,
        "hoverTimeout": 0,
        "impostor": true,
        "lightColor": 14540253,
        "lightIntensity": 1,
        "mousePreset": "default",
        "panSpeed": 1,
        "quality": "medium",
        "rotateSpeed": 2,
        "sampleLevel": 0,
        "tooltip": true,
        "workerDefault": true,
        "zoomSpeed": 1.2
       },
       "_ngl_msg_archive": [
        {
         "args": [
          {
           "binary": false,
           "data": "REMARK   1 CREATED WITH MDTraj 1.9.6, 2024-09-05\nCRYST1   25.580   25.580   25.580  90.00  90.00  90.00 P 1           1 \nMODEL        0\nATOM      1  H1  ACE A   1      19.185   3.272  20.062  1.00  0.00           H  \nATOM      2  CH3 ACE A   1      18.852   3.056  21.077  1.00  0.00           C  \nATOM      3  H2  ACE A   1      19.711   2.965  21.742  1.00  0.00           H  \nATOM      4  H3  ACE A   1      18.267   2.137  21.094  1.00  0.00           H  \nATOM      5  C   ACE A   1      17.969   4.173  21.580  1.00  0.00           C  \nATOM      6  O   ACE A   1      16.799   3.940  21.826  1.00  0.00           O  \nATOM      7  N   ALA A   2      18.542   5.357  21.737  1.00  0.00           N  \nATOM      8  H   ALA A   2      19.537   5.432  21.581  1.00  0.00           H  \nATOM      9  CA  ALA A   2      17.848   6.546  22.226  1.00  0.00           C  \nATOM     10  HA  ALA A   2      16.778   6.439  22.048  1.00  0.00           H  \nATOM     11  CB  ALA A   2      18.056   6.616  23.749  1.00  0.00           C  \nATOM     12  HB1 ALA A   2      17.618   7.523  24.166  1.00  0.00           H  \nATOM     13  HB2 ALA A   2      19.126   6.649  23.954  1.00  0.00           H  \nATOM     14  HB3 ALA A   2      17.636   5.733  24.230  1.00  0.00           H  \nATOM     15  C   ALA A   2      18.330   7.819  21.506  1.00  0.00           C  \nATOM     16  O   ALA A   2      19.476   7.890  21.079  1.00  0.00           O  \nATOM     17  N   NME A   3      17.462   8.834  21.430  1.00  0.00           N  \nATOM     18  H   NME A   3      16.555   8.713  21.856  1.00  0.00           H  \nATOM     19  C   NME A   3      17.780  10.114  20.802  1.00  0.00           C  \nATOM     20  H1  NME A   3      16.900  10.757  20.804  1.00  0.00           H  \nATOM     21  H2  NME A   3      18.606  10.599  21.323  1.00  0.00           H  \nATOM     22  H3  NME A   3      18.047   9.939  19.760  1.00  0.00           H  \nTER      23      NME A   3\nENDMDL\nCONECT    1    2    2\nCONECT    2    5    1    3\nCONECT    2    1    5    3    4\nCONECT    3    2    2\nCONECT    4    2    2\nCONECT    5    2    6    7\nCONECT    5    6    7\nCONECT    6    5    5\nCONECT    7    5    5\nCONECT   15   17   17\nCONECT   17   15   19   18\nCONECT   17   19   18\nCONECT   18   17   17\nCONECT   19   20   21   22\nCONECT   19   17   20   21   22\nCONECT   20   19   19\nCONECT   21   19   19\nCONECT   22   19   19\nEND\n",
           "type": "blob"
          }
         ],
         "kwargs": {
          "defaultRepresentation": true,
          "ext": "pdb",
          "height": "400px",
          "width": "400px"
         },
         "methodName": "loadFile",
         "reconstruc_color_scheme": false,
         "target": "Stage",
         "type": "call_method"
        },
        {
         "args": [
          "ball+stick"
         ],
         "component_index": 0,
         "kwargs": {
          "aspectRatio": 1,
          "color": "#D55E00",
          "radius": 0.5,
          "sele": "@6,8,14,16"
         },
         "methodName": "addRepresentation",
         "reconstruc_color_scheme": false,
         "target": "compList",
         "type": "call_method"
        }
       ],
       "_ngl_original_stage_parameters": {
        "ambientColor": 14540253,
        "ambientIntensity": 0.2,
        "backgroundColor": "white",
        "cameraEyeSep": 0.3,
        "cameraFov": 40,
        "cameraType": "perspective",
        "clipDist": 10,
        "clipFar": 100,
        "clipMode": "scene",
        "clipNear": 0,
        "clipScale": "relative",
        "fogFar": 100,
        "fogNear": 50,
        "hoverTimeout": 0,
        "impostor": true,
        "lightColor": 14540253,
        "lightIntensity": 1,
        "mousePreset": "default",
        "panSpeed": 1,
        "quality": "medium",
        "rotateSpeed": 2,
        "sampleLevel": 0,
        "tooltip": true,
        "workerDefault": true,
        "zoomSpeed": 1.2
       },
       "_ngl_repr_dict": {
        "0": {
         "0": {
          "params": {
           "aspectRatio": 1.5,
           "assembly": "default",
           "bondScale": 0.3,
           "bondSpacing": 0.75,
           "clipCenter": {
            "x": 0,
            "y": 0,
            "z": 0
           },
           "clipNear": 0,
           "clipRadius": 0,
           "colorMode": "hcl",
           "colorReverse": false,
           "colorScale": "",
           "colorScheme": "element",
           "colorValue": 9474192,
           "cylinderOnly": false,
           "defaultAssembly": "",
           "depthWrite": true,
           "diffuse": 16777215,
           "diffuseInterior": false,
           "disableImpostor": false,
           "disablePicking": false,
           "flatShaded": false,
           "interiorColor": 2236962,
           "interiorDarkening": 0,
           "lazy": false,
           "lineOnly": false,
           "linewidth": 2,
           "matrix": {
            "elements": [
             1,
             0,
             0,
             0,
             0,
             1,
             0,
             0,
             0,
             0,
             1,
             0,
             0,
             0,
             0,
             1
            ]
           },
           "metalness": 0,
           "multipleBond": "off",
           "opacity": 1,
           "openEnded": true,
           "quality": "high",
           "radialSegments": 20,
           "radiusData": {},
           "radiusScale": 2,
           "radiusSize": 0.15,
           "radiusType": "size",
           "roughness": 0.4,
           "sele": "",
           "side": "double",
           "sphereDetail": 2,
           "useInteriorColor": true,
           "visible": true,
           "wireframe": false
          },
          "type": "ball+stick"
         },
         "1": {
          "params": {
           "aspectRatio": 1,
           "assembly": "default",
           "bondScale": 0.4,
           "bondSpacing": 1,
           "clipCenter": {
            "x": 0,
            "y": 0,
            "z": 0
           },
           "clipNear": 0,
           "clipRadius": 0,
           "colorMode": "hcl",
           "colorReverse": false,
           "colorScale": "",
           "colorScheme": "uniform",
           "colorValue": 13983232,
           "cylinderOnly": false,
           "defaultAssembly": "",
           "depthWrite": true,
           "diffuse": 16777215,
           "diffuseInterior": false,
           "disableImpostor": false,
           "disablePicking": false,
           "flatShaded": false,
           "interiorColor": 2236962,
           "interiorDarkening": 0,
           "lazy": false,
           "lineOnly": false,
           "linewidth": 2,
           "matrix": {
            "elements": [
             1,
             0,
             0,
             0,
             0,
             1,
             0,
             0,
             0,
             0,
             1,
             0,
             0,
             0,
             0,
             1
            ]
           },
           "metalness": 0,
           "multipleBond": "off",
           "opacity": 1,
           "openEnded": true,
           "quality": "medium",
           "radialSegments": 10,
           "radiusData": {},
           "radiusScale": 1,
           "radiusSize": 0.5,
           "radiusType": "size",
           "roughness": 0.4,
           "sele": "@6,8,14,16",
           "side": "double",
           "sphereDetail": 1,
           "useInteriorColor": true,
           "visible": true,
           "wireframe": false
          },
          "type": "ball+stick"
         }
        }
       },
       "_ngl_serialize": false,
       "_ngl_version": "2.2.2",
       "_ngl_view_id": [
        "324812E3-077F-44CD-B69F-1242DEB12139"
       ],
       "_player_dict": {},
       "_scene_position": {},
       "_scene_rotation": {},
       "_synced_model_ids": [],
       "_synced_repr_model_ids": [],
       "_view_height": "400px",
       "_view_width": "400px",
       "background": "white",
       "frame": 0,
       "gui_style": null,
       "layout": "IPY_MODEL_c14d62e5d12d475cbef40b4f5a6cb491",
       "max_frame": 0,
       "n_components": 1,
       "picked": {}
      }
     },
     "77e3e8bcb784434b88b27b3009359ec7": {
      "model_module": "@jupyter-widgets/controls",
      "model_module_version": "2.0.0",
      "model_name": "ButtonModel",
      "state": {
       "icon": "compress",
       "layout": "IPY_MODEL_f281cd5f19314e6b8491d80eb7447b43",
       "style": "IPY_MODEL_6e52f4a31f524092900f6d60c1b94a96",
       "tooltip": null
      }
     },
     "7bba46fd90de4bccaebfc1cad3307486": {
      "model_module": "@jupyter-widgets/controls",
      "model_module_version": "2.0.0",
      "model_name": "HBoxModel",
      "state": {
       "children": [
        "IPY_MODEL_4565a23c29434ce7bf02288396882fce",
        "IPY_MODEL_74e871e0c97d48728302f83d60c470a8"
       ],
       "layout": "IPY_MODEL_70fb3a2abb5240e69d9b9edb8e20b7ba"
      }
     },
     "7c222e6f6a694004a2706e0bd67d84e1": {
      "model_module": "@jupyter-widgets/controls",
      "model_module_version": "2.0.0",
      "model_name": "HBoxModel",
      "state": {
       "children": [
        "IPY_MODEL_5bb2a8c1e6d6489ab91abcaa9b950316",
        "IPY_MODEL_b14ef98c68e945bea8e61d5351f6c24a"
       ],
       "layout": "IPY_MODEL_4cf64d9d2f1d4db0b927befbddd2b15b"
      }
     },
     "7c51472e42df42e587465f7059429c41": {
      "model_module": "@jupyter-widgets/base",
      "model_module_version": "2.0.0",
      "model_name": "LayoutModel",
      "state": {}
     },
     "7db2b39a7b4d46ecbbdece1b6738e8d2": {
      "model_module": "@jupyter-widgets/base",
      "model_module_version": "2.0.0",
      "model_name": "LayoutModel",
      "state": {}
     },
     "7db6a0ebf67146b9a2216c285afbb23f": {
      "model_module": "@jupyter-widgets/controls",
      "model_module_version": "2.0.0",
      "model_name": "ButtonModel",
      "state": {
       "icon": "compress",
       "layout": "IPY_MODEL_abe81cdf23ec4187a92fb6f79292aa6f",
       "style": "IPY_MODEL_c6a6bd62691646f7871aec680db9180e",
       "tooltip": null
      }
     },
     "7e31eb52caf1480eaa30eba0803f3094": {
      "model_module": "@jupyter-widgets/base",
      "model_module_version": "2.0.0",
      "model_name": "LayoutModel",
      "state": {
       "width": "34px"
      }
     },
     "7e5495fbd7404b15997dae30d7014c15": {
      "model_module": "@jupyter-widgets/controls",
      "model_module_version": "2.0.0",
      "model_name": "ImageModel",
      "state": {
       "layout": "IPY_MODEL_511b881e357843138c84b99e40567635",
       "width": "900.0"
      }
     },
     "7f831056af254e218f21207aef749d74": {
      "model_module": "nglview-js-widgets",
      "model_module_version": "3.1.0",
      "model_name": "NGLModel",
      "state": {
       "_camera_orientation": [
        19.96598871031103,
        9.946841482402226,
        -11.727404637277733,
        0,
        -7.012035399031527,
        22.993889950442288,
        7.564705195341444,
        0,
        13.685869887048064,
        -2.730155609788468,
        20.984651437750344,
        0,
        -18.133000373840332,
        -6.447000026702881,
        -21.994999885559082,
        1
       ],
       "_camera_str": "orthographic",
       "_gui_theme": null,
       "_ibtn_fullscreen": "IPY_MODEL_7db6a0ebf67146b9a2216c285afbb23f",
       "_igui": null,
       "_iplayer": "IPY_MODEL_533d1199fa894621a0f7f2cf16311acd",
       "_ngl_color_dict": {},
       "_ngl_coordinate_resource": {},
       "_ngl_full_stage_parameters": {
        "ambientColor": 14540253,
        "ambientIntensity": 0.2,
        "backgroundColor": "white",
        "cameraEyeSep": 0.3,
        "cameraFov": 40,
        "cameraType": "perspective",
        "clipDist": 10,
        "clipFar": 100,
        "clipMode": "scene",
        "clipNear": 0,
        "clipScale": "relative",
        "fogFar": 100,
        "fogNear": 50,
        "hoverTimeout": 0,
        "impostor": true,
        "lightColor": 14540253,
        "lightIntensity": 1,
        "mousePreset": "default",
        "panSpeed": 1,
        "quality": "medium",
        "rotateSpeed": 2,
        "sampleLevel": 0,
        "tooltip": true,
        "workerDefault": true,
        "zoomSpeed": 1.2
       },
       "_ngl_msg_archive": [
        {
         "args": [
          {
           "binary": false,
           "data": "REMARK   1 CREATED WITH MDTraj 1.9.6, 2024-09-05\nCRYST1   25.580   25.580   25.580  90.00  90.00  90.00 P 1           1 \nMODEL        0\nATOM      1  H1  ACE A   1      19.185   3.272  20.062  1.00  0.00           H  \nATOM      2  CH3 ACE A   1      18.852   3.056  21.077  1.00  0.00           C  \nATOM      3  H2  ACE A   1      19.711   2.965  21.742  1.00  0.00           H  \nATOM      4  H3  ACE A   1      18.267   2.137  21.094  1.00  0.00           H  \nATOM      5  C   ACE A   1      17.969   4.173  21.580  1.00  0.00           C  \nATOM      6  O   ACE A   1      16.799   3.940  21.826  1.00  0.00           O  \nATOM      7  N   ALA A   2      18.542   5.357  21.737  1.00  0.00           N  \nATOM      8  H   ALA A   2      19.537   5.432  21.581  1.00  0.00           H  \nATOM      9  CA  ALA A   2      17.848   6.546  22.226  1.00  0.00           C  \nATOM     10  HA  ALA A   2      16.778   6.439  22.048  1.00  0.00           H  \nATOM     11  CB  ALA A   2      18.056   6.616  23.749  1.00  0.00           C  \nATOM     12  HB1 ALA A   2      17.618   7.523  24.166  1.00  0.00           H  \nATOM     13  HB2 ALA A   2      19.126   6.649  23.954  1.00  0.00           H  \nATOM     14  HB3 ALA A   2      17.636   5.733  24.230  1.00  0.00           H  \nATOM     15  C   ALA A   2      18.330   7.819  21.506  1.00  0.00           C  \nATOM     16  O   ALA A   2      19.476   7.890  21.079  1.00  0.00           O  \nATOM     17  N   NME A   3      17.462   8.834  21.430  1.00  0.00           N  \nATOM     18  H   NME A   3      16.555   8.713  21.856  1.00  0.00           H  \nATOM     19  C   NME A   3      17.780  10.114  20.802  1.00  0.00           C  \nATOM     20  H1  NME A   3      16.900  10.757  20.804  1.00  0.00           H  \nATOM     21  H2  NME A   3      18.606  10.599  21.323  1.00  0.00           H  \nATOM     22  H3  NME A   3      18.047   9.939  19.760  1.00  0.00           H  \nTER      23      NME A   3\nENDMDL\nCONECT    1    2    2\nCONECT    2    5    1    3\nCONECT    2    1    5    3    4\nCONECT    3    2    2\nCONECT    4    2    2\nCONECT    5    2    6    7\nCONECT    5    6    7\nCONECT    6    5    5\nCONECT    7    5    5\nCONECT   15   17   17\nCONECT   17   15   19   18\nCONECT   17   19   18\nCONECT   18   17   17\nCONECT   19   20   21   22\nCONECT   19   17   20   21   22\nCONECT   20   19   19\nCONECT   21   19   19\nCONECT   22   19   19\nEND\n",
           "type": "blob"
          }
         ],
         "kwargs": {
          "defaultRepresentation": true,
          "ext": "pdb",
          "height": "400px",
          "width": "400px"
         },
         "methodName": "loadFile",
         "reconstruc_color_scheme": false,
         "target": "Stage",
         "type": "call_method"
        },
        {
         "args": [
          "ball+stick"
         ],
         "component_index": 0,
         "kwargs": {
          "aspectRatio": 1,
          "color": "#D55E00",
          "radius": 0.5,
          "sele": "@5,8,14,16"
         },
         "methodName": "addRepresentation",
         "reconstruc_color_scheme": false,
         "target": "compList",
         "type": "call_method"
        }
       ],
       "_ngl_original_stage_parameters": {
        "ambientColor": 14540253,
        "ambientIntensity": 0.2,
        "backgroundColor": "white",
        "cameraEyeSep": 0.3,
        "cameraFov": 40,
        "cameraType": "perspective",
        "clipDist": 10,
        "clipFar": 100,
        "clipMode": "scene",
        "clipNear": 0,
        "clipScale": "relative",
        "fogFar": 100,
        "fogNear": 50,
        "hoverTimeout": 0,
        "impostor": true,
        "lightColor": 14540253,
        "lightIntensity": 1,
        "mousePreset": "default",
        "panSpeed": 1,
        "quality": "medium",
        "rotateSpeed": 2,
        "sampleLevel": 0,
        "tooltip": true,
        "workerDefault": true,
        "zoomSpeed": 1.2
       },
       "_ngl_repr_dict": {
        "0": {
         "0": {
          "params": {
           "aspectRatio": 1.5,
           "assembly": "default",
           "bondScale": 0.3,
           "bondSpacing": 0.75,
           "clipCenter": {
            "x": 0,
            "y": 0,
            "z": 0
           },
           "clipNear": 0,
           "clipRadius": 0,
           "colorMode": "hcl",
           "colorReverse": false,
           "colorScale": "",
           "colorScheme": "element",
           "colorValue": 9474192,
           "cylinderOnly": false,
           "defaultAssembly": "",
           "depthWrite": true,
           "diffuse": 16777215,
           "diffuseInterior": false,
           "disableImpostor": false,
           "disablePicking": false,
           "flatShaded": false,
           "interiorColor": 2236962,
           "interiorDarkening": 0,
           "lazy": false,
           "lineOnly": false,
           "linewidth": 2,
           "matrix": {
            "elements": [
             1,
             0,
             0,
             0,
             0,
             1,
             0,
             0,
             0,
             0,
             1,
             0,
             0,
             0,
             0,
             1
            ]
           },
           "metalness": 0,
           "multipleBond": "off",
           "opacity": 1,
           "openEnded": true,
           "quality": "high",
           "radialSegments": 20,
           "radiusData": {},
           "radiusScale": 2,
           "radiusSize": 0.15,
           "radiusType": "size",
           "roughness": 0.4,
           "sele": "",
           "side": "double",
           "sphereDetail": 2,
           "useInteriorColor": true,
           "visible": true,
           "wireframe": false
          },
          "type": "ball+stick"
         },
         "1": {
          "params": {
           "aspectRatio": 1,
           "assembly": "default",
           "bondScale": 0.4,
           "bondSpacing": 1,
           "clipCenter": {
            "x": 0,
            "y": 0,
            "z": 0
           },
           "clipNear": 0,
           "clipRadius": 0,
           "colorMode": "hcl",
           "colorReverse": false,
           "colorScale": "",
           "colorScheme": "uniform",
           "colorValue": 13983232,
           "cylinderOnly": false,
           "defaultAssembly": "",
           "depthWrite": true,
           "diffuse": 16777215,
           "diffuseInterior": false,
           "disableImpostor": false,
           "disablePicking": false,
           "flatShaded": false,
           "interiorColor": 2236962,
           "interiorDarkening": 0,
           "lazy": false,
           "lineOnly": false,
           "linewidth": 2,
           "matrix": {
            "elements": [
             1,
             0,
             0,
             0,
             0,
             1,
             0,
             0,
             0,
             0,
             1,
             0,
             0,
             0,
             0,
             1
            ]
           },
           "metalness": 0,
           "multipleBond": "off",
           "opacity": 1,
           "openEnded": true,
           "quality": "medium",
           "radialSegments": 10,
           "radiusData": {},
           "radiusScale": 1,
           "radiusSize": 0.5,
           "radiusType": "size",
           "roughness": 0.4,
           "sele": "@5,8,14,16",
           "side": "double",
           "sphereDetail": 1,
           "useInteriorColor": true,
           "visible": true,
           "wireframe": false
          },
          "type": "ball+stick"
         }
        }
       },
       "_ngl_serialize": false,
       "_ngl_version": "2.2.2",
       "_ngl_view_id": [
        "6CA8A6EB-266F-4806-9CC9-659CFC25A051"
       ],
       "_player_dict": {},
       "_scene_position": {},
       "_scene_rotation": {},
       "_synced_model_ids": [],
       "_synced_repr_model_ids": [],
       "_view_height": "400px",
       "_view_width": "400px",
       "background": "white",
       "frame": 0,
       "gui_style": null,
       "layout": "IPY_MODEL_446c4f15980f436b8fcbfa20341d4657",
       "max_frame": 0,
       "n_components": 1,
       "picked": {}
      }
     },
     "7fab89c990884ef0bbae9a826faab4f0": {
      "model_module": "@jupyter-widgets/controls",
      "model_module_version": "2.0.0",
      "model_name": "ButtonModel",
      "state": {
       "icon": "compress",
       "layout": "IPY_MODEL_588aaed9fd8044ab9e84fd8030d8ee61",
       "style": "IPY_MODEL_de9cea084d974884a04fb81b24f09622",
       "tooltip": null
      }
     },
     "81268950898c4d91978fa9cea08562a2": {
      "model_module": "@jupyter-widgets/controls",
      "model_module_version": "2.0.0",
      "model_name": "LinkModel",
      "state": {
       "source": [
        "IPY_MODEL_c627495962944afea3f14e0a97b84f48",
        "value"
       ],
       "target": [
        "IPY_MODEL_8ddf59fbf23f4ce2918d2ff24a632c43",
        "frame"
       ]
      }
     },
     "8148955cbe5a4b939531ad46f4c8509d": {
      "model_module": "@jupyter-widgets/base",
      "model_module_version": "2.0.0",
      "model_name": "LayoutModel",
      "state": {}
     },
     "817af91fd4ee4a739db3fce6beba962e": {
      "model_module": "@jupyter-widgets/base",
      "model_module_version": "2.0.0",
      "model_name": "LayoutModel",
      "state": {
       "width": "34px"
      }
     },
     "82ad29cf074544db856b483230931fee": {
      "model_module": "@jupyter-widgets/controls",
      "model_module_version": "2.0.0",
      "model_name": "DescriptionStyleModel",
      "state": {
       "description_width": ""
      }
     },
     "83bdf9f9b8fa464cafbf01e2a537856c": {
      "model_module": "@jupyter-widgets/controls",
      "model_module_version": "2.0.0",
      "model_name": "LinkModel",
      "state": {
       "source": [
        "IPY_MODEL_3d5a37631e634e38a87e36855f891bd4",
        "value"
       ],
       "target": [
        "IPY_MODEL_2c1d27ff7e0f47719260fb5a0f4c1676",
        "frame"
       ]
      }
     },
     "84892676231146198c58253bd5f8784b": {
      "model_module": "@jupyter-widgets/controls",
      "model_module_version": "2.0.0",
      "model_name": "PlayModel",
      "state": {
       "layout": "IPY_MODEL_d5f737b449144f0ab7453de9ca20610c",
       "max": 0,
       "style": "IPY_MODEL_5984fd3236ec49a5bd7f6f15d369740a"
      }
     },
     "85a3b48b105542808eb4e38b455296e7": {
      "model_module": "@jupyter-widgets/base",
      "model_module_version": "2.0.0",
      "model_name": "LayoutModel",
      "state": {}
     },
     "85cb1472d0ea4924bfe2ab71936707a6": {
      "model_module": "@jupyter-widgets/base",
      "model_module_version": "2.0.0",
      "model_name": "LayoutModel",
      "state": {}
     },
     "862ebf8dd63848d18d59e38c1529e68e": {
      "model_module": "@jupyter-widgets/base",
      "model_module_version": "2.0.0",
      "model_name": "LayoutModel",
      "state": {
       "width": "34px"
      }
     },
     "86ce04aadf2c4ce4b524d570e3bba29e": {
      "model_module": "@jupyter-widgets/base",
      "model_module_version": "2.0.0",
      "model_name": "LayoutModel",
      "state": {}
     },
     "86dd671828d14df4ba89a00c981a932a": {
      "model_module": "@jupyter-widgets/controls",
      "model_module_version": "2.0.0",
      "model_name": "ImageModel",
      "state": {
       "layout": "IPY_MODEL_85a3b48b105542808eb4e38b455296e7",
       "width": "900.0"
      }
     },
     "875f199abf284080b74dbf45b7b839c1": {
      "model_module": "@jupyter-widgets/controls",
      "model_module_version": "2.0.0",
      "model_name": "ButtonStyleModel",
      "state": {
       "font_family": null,
       "font_size": null,
       "font_style": null,
       "font_variant": null,
       "font_weight": null,
       "text_color": null,
       "text_decoration": null
      }
     },
     "88246165545d45019ae3a4bad1c2370f": {
      "model_module": "nglview-js-widgets",
      "model_module_version": "3.1.0",
      "model_name": "NGLModel",
      "state": {
       "_camera_orientation": [
        13.752057916567114,
        3.8113297552151333,
        8.185325093732008,
        0,
        -6.799902943525884,
        14.183520154226892,
        4.820161234538794,
        0,
        -5.940294719262261,
        -7.412583885888534,
        13.43173023540355,
        0,
        -13.975999355316162,
        -15.923500061035156,
        3.4434999227523804,
        1
       ],
       "_camera_str": "orthographic",
       "_gui_theme": null,
       "_ibtn_fullscreen": "IPY_MODEL_2fda22740cf64cb78c3f88a12a3cdf1c",
       "_igui": null,
       "_iplayer": "IPY_MODEL_7bba46fd90de4bccaebfc1cad3307486",
       "_ngl_color_dict": {},
       "_ngl_coordinate_resource": {},
       "_ngl_full_stage_parameters": {
        "ambientColor": 14540253,
        "ambientIntensity": 0.2,
        "backgroundColor": "white",
        "cameraEyeSep": 0.3,
        "cameraFov": 40,
        "cameraType": "perspective",
        "clipDist": 10,
        "clipFar": 100,
        "clipMode": "scene",
        "clipNear": 0,
        "clipScale": "relative",
        "fogFar": 100,
        "fogNear": 50,
        "hoverTimeout": 0,
        "impostor": true,
        "lightColor": 14540253,
        "lightIntensity": 1,
        "mousePreset": "default",
        "panSpeed": 1,
        "quality": "medium",
        "rotateSpeed": 2,
        "sampleLevel": 0,
        "tooltip": true,
        "workerDefault": true,
        "zoomSpeed": 1.2
       },
       "_ngl_msg_archive": [
        {
         "args": [
          {
           "binary": false,
           "data": "REMARK   1 CREATED WITH MDTraj 1.9.6, 2021-09-14\nCRYST1   20.233   20.233   20.233  90.00  90.00  90.00 P 1           1 \nMODEL        0\nATOM      1  H1  ACE A   1      16.384  14.081  -5.858  1.00  0.00           H  \nATOM      2  CH3 ACE A   1      16.530  14.752  -5.012  1.00  0.00           C  \nATOM      3  H2  ACE A   1      17.262  15.508  -5.297  1.00  0.00           H  \nATOM      4  H3  ACE A   1      16.909  14.174  -4.169  1.00  0.00           H  \nATOM      5  C   ACE A   1      15.200  15.391  -4.663  1.00  0.00           C  \nATOM      6  O   ACE A   1      14.169  14.948  -5.147  1.00  0.00           O  \nATOM      7  N   ALA A   2      15.223  16.439  -3.824  1.00  0.00           N  \nATOM      8  H   ALA A   2      16.138  16.741  -3.522  1.00  0.00           H  \nATOM      9  CA  ALA A   2      14.061  17.185  -3.253  1.00  0.00           C  \nATOM     10  HA  ALA A   2      14.475  17.918  -2.560  1.00  0.00           H  \nATOM     11  CB  ALA A   2      13.353  17.961  -4.365  1.00  0.00           C  \nATOM     12  HB1 ALA A   2      12.564  18.580  -3.938  1.00  0.00           H  \nATOM     13  HB2 ALA A   2      14.090  18.590  -4.865  1.00  0.00           H  \nATOM     14  HB3 ALA A   2      12.926  17.296  -5.116  1.00  0.00           H  \nATOM     15  C   ALA A   2      13.036  16.370  -2.426  1.00  0.00           C  \nATOM     16  O   ALA A   2      12.568  16.879  -1.404  1.00  0.00           O  \nATOM     17  N   NME A   3      12.674  15.159  -2.814  1.00  0.00           N  \nATOM     18  H   NME A   3      13.075  14.848  -3.687  1.00  0.00           H  \nATOM     19  C   NME A   3      11.703  14.298  -2.109  1.00  0.00           C  \nATOM     20  H1  NME A   3      10.690  14.587  -2.391  1.00  0.00           H  \nATOM     21  H2  NME A   3      11.856  13.257  -2.395  1.00  0.00           H  \nATOM     22  H3  NME A   3      11.817  14.384  -1.029  1.00  0.00           H  \nTER      23      NME A   3\nENDMDL\nCONECT    1    2\nCONECT    2    3    4    5\nCONECT    5    6    6    7\nCONECT    7    8    9\nCONECT    9   10   11   15\nCONECT   11   12   13   14\nCONECT   15   16   16   17\nCONECT   17   18   19\nCONECT   19   20   21   22\nEND",
           "type": "blob"
          }
         ],
         "kwargs": {
          "defaultRepresentation": true,
          "ext": "pdb",
          "height": "400px",
          "width": "400px"
         },
         "methodName": "loadFile",
         "reconstruc_color_scheme": false,
         "target": "Stage",
         "type": "call_method"
        },
        {
         "args": [
          "ball+stick"
         ],
         "component_index": 0,
         "kwargs": {
          "aspectRatio": 1,
          "color": "#D55E00",
          "radius": 0.5,
          "sele": "@4,6,8,10"
         },
         "methodName": "addRepresentation",
         "reconstruc_color_scheme": false,
         "target": "compList",
         "type": "call_method"
        }
       ],
       "_ngl_original_stage_parameters": {
        "ambientColor": 14540253,
        "ambientIntensity": 0.2,
        "backgroundColor": "white",
        "cameraEyeSep": 0.3,
        "cameraFov": 40,
        "cameraType": "perspective",
        "clipDist": 10,
        "clipFar": 100,
        "clipMode": "scene",
        "clipNear": 0,
        "clipScale": "relative",
        "fogFar": 100,
        "fogNear": 50,
        "hoverTimeout": 0,
        "impostor": true,
        "lightColor": 14540253,
        "lightIntensity": 1,
        "mousePreset": "default",
        "panSpeed": 1,
        "quality": "medium",
        "rotateSpeed": 2,
        "sampleLevel": 0,
        "tooltip": true,
        "workerDefault": true,
        "zoomSpeed": 1.2
       },
       "_ngl_repr_dict": {
        "0": {
         "0": {
          "params": {
           "aspectRatio": 1.5,
           "assembly": "default",
           "bondScale": 0.3,
           "bondSpacing": 0.75,
           "clipCenter": {
            "x": 0,
            "y": 0,
            "z": 0
           },
           "clipNear": 0,
           "clipRadius": 0,
           "colorMode": "hcl",
           "colorReverse": false,
           "colorScale": "",
           "colorScheme": "element",
           "colorValue": 9474192,
           "cylinderOnly": false,
           "defaultAssembly": "",
           "depthWrite": true,
           "diffuse": 16777215,
           "diffuseInterior": false,
           "disableImpostor": false,
           "disablePicking": false,
           "flatShaded": false,
           "interiorColor": 2236962,
           "interiorDarkening": 0,
           "lazy": false,
           "lineOnly": false,
           "linewidth": 2,
           "matrix": {
            "elements": [
             1,
             0,
             0,
             0,
             0,
             1,
             0,
             0,
             0,
             0,
             1,
             0,
             0,
             0,
             0,
             1
            ]
           },
           "metalness": 0,
           "multipleBond": "off",
           "opacity": 1,
           "openEnded": true,
           "quality": "high",
           "radialSegments": 20,
           "radiusData": {},
           "radiusScale": 2,
           "radiusSize": 0.15,
           "radiusType": "size",
           "roughness": 0.4,
           "sele": "",
           "side": "double",
           "sphereDetail": 2,
           "useInteriorColor": true,
           "visible": true,
           "wireframe": false
          },
          "type": "ball+stick"
         },
         "1": {
          "params": {
           "aspectRatio": 1,
           "assembly": "default",
           "bondScale": 0.4,
           "bondSpacing": 1,
           "clipCenter": {
            "x": 0,
            "y": 0,
            "z": 0
           },
           "clipNear": 0,
           "clipRadius": 0,
           "colorMode": "hcl",
           "colorReverse": false,
           "colorScale": "",
           "colorScheme": "uniform",
           "colorValue": 13983232,
           "cylinderOnly": false,
           "defaultAssembly": "",
           "depthWrite": true,
           "diffuse": 16777215,
           "diffuseInterior": false,
           "disableImpostor": false,
           "disablePicking": false,
           "flatShaded": false,
           "interiorColor": 2236962,
           "interiorDarkening": 0,
           "lazy": false,
           "lineOnly": false,
           "linewidth": 2,
           "matrix": {
            "elements": [
             1,
             0,
             0,
             0,
             0,
             1,
             0,
             0,
             0,
             0,
             1,
             0,
             0,
             0,
             0,
             1
            ]
           },
           "metalness": 0,
           "multipleBond": "off",
           "opacity": 1,
           "openEnded": true,
           "quality": "medium",
           "radialSegments": 10,
           "radiusData": {},
           "radiusScale": 1,
           "radiusSize": 0.5,
           "radiusType": "size",
           "roughness": 0.4,
           "sele": "@4,6,8,10",
           "side": "double",
           "sphereDetail": 1,
           "useInteriorColor": true,
           "visible": true,
           "wireframe": false
          },
          "type": "ball+stick"
         }
        }
       },
       "_ngl_serialize": false,
       "_ngl_version": "2.2.2",
       "_ngl_view_id": [
        "9B395D7B-5387-40DD-A2D9-34A3701F24A7"
       ],
       "_player_dict": {},
       "_scene_position": {},
       "_scene_rotation": {},
       "_synced_model_ids": [],
       "_synced_repr_model_ids": [],
       "_view_height": "400px",
       "_view_width": "400px",
       "background": "white",
       "frame": 0,
       "gui_style": null,
       "layout": "IPY_MODEL_e35f478b975545c5bb3b20d26c454fd6",
       "max_frame": 0,
       "n_components": 1,
       "picked": {}
      }
     },
     "888434ae545d46bc857c9daf7acd89ce": {
      "model_module": "nglview-js-widgets",
      "model_module_version": "3.1.0",
      "model_name": "NGLModel",
      "state": {
       "_camera_orientation": [
        19.926414770653825,
        15.359511207995254,
        -1.461434234606314,
        0,
        -13.299389943971304,
        18.30906861142987,
        11.091285492804253,
        0,
        7.8215472694861745,
        -7.998487495530896,
        22.58229342378177,
        0,
        -18.133000373840332,
        -6.447000026702881,
        -21.994999885559082,
        1
       ],
       "_camera_str": "orthographic",
       "_gui_theme": null,
       "_ibtn_fullscreen": "IPY_MODEL_1b5515919414402bb45b6ae185f16b2b",
       "_igui": null,
       "_iplayer": "IPY_MODEL_3cbc1214da864816a4e6b794c55f59ba",
       "_ngl_color_dict": {},
       "_ngl_coordinate_resource": {},
       "_ngl_full_stage_parameters": {
        "ambientColor": 14540253,
        "ambientIntensity": 0.2,
        "backgroundColor": "white",
        "cameraEyeSep": 0.3,
        "cameraFov": 40,
        "cameraType": "perspective",
        "clipDist": 10,
        "clipFar": 100,
        "clipMode": "scene",
        "clipNear": 0,
        "clipScale": "relative",
        "fogFar": 100,
        "fogNear": 50,
        "hoverTimeout": 0,
        "impostor": true,
        "lightColor": 14540253,
        "lightIntensity": 1,
        "mousePreset": "default",
        "panSpeed": 1,
        "quality": "medium",
        "rotateSpeed": 2,
        "sampleLevel": 0,
        "tooltip": true,
        "workerDefault": true,
        "zoomSpeed": 1.2
       },
       "_ngl_msg_archive": [
        {
         "args": [
          {
           "binary": false,
           "data": "REMARK   1 CREATED WITH MDTraj 1.9.6, 2024-09-05\nCRYST1   25.580   25.580   25.580  90.00  90.00  90.00 P 1           1 \nMODEL        0\nATOM      1  H1  ACE A   1      19.185   3.272  20.062  1.00  0.00           H  \nATOM      2  CH3 ACE A   1      18.852   3.056  21.077  1.00  0.00           C  \nATOM      3  H2  ACE A   1      19.711   2.965  21.742  1.00  0.00           H  \nATOM      4  H3  ACE A   1      18.267   2.137  21.094  1.00  0.00           H  \nATOM      5  C   ACE A   1      17.969   4.173  21.580  1.00  0.00           C  \nATOM      6  O   ACE A   1      16.799   3.940  21.826  1.00  0.00           O  \nATOM      7  N   ALA A   2      18.542   5.357  21.737  1.00  0.00           N  \nATOM      8  H   ALA A   2      19.537   5.432  21.581  1.00  0.00           H  \nATOM      9  CA  ALA A   2      17.848   6.546  22.226  1.00  0.00           C  \nATOM     10  HA  ALA A   2      16.778   6.439  22.048  1.00  0.00           H  \nATOM     11  CB  ALA A   2      18.056   6.616  23.749  1.00  0.00           C  \nATOM     12  HB1 ALA A   2      17.618   7.523  24.166  1.00  0.00           H  \nATOM     13  HB2 ALA A   2      19.126   6.649  23.954  1.00  0.00           H  \nATOM     14  HB3 ALA A   2      17.636   5.733  24.230  1.00  0.00           H  \nATOM     15  C   ALA A   2      18.330   7.819  21.506  1.00  0.00           C  \nATOM     16  O   ALA A   2      19.476   7.890  21.079  1.00  0.00           O  \nATOM     17  N   NME A   3      17.462   8.834  21.430  1.00  0.00           N  \nATOM     18  H   NME A   3      16.555   8.713  21.856  1.00  0.00           H  \nATOM     19  C   NME A   3      17.780  10.114  20.802  1.00  0.00           C  \nATOM     20  H1  NME A   3      16.900  10.757  20.804  1.00  0.00           H  \nATOM     21  H2  NME A   3      18.606  10.599  21.323  1.00  0.00           H  \nATOM     22  H3  NME A   3      18.047   9.939  19.760  1.00  0.00           H  \nTER      23      NME A   3\nENDMDL\nCONECT    1    2    2\nCONECT    2    5    1    3\nCONECT    2    1    5    3    4\nCONECT    3    2    2\nCONECT    4    2    2\nCONECT    5    2    6    7\nCONECT    5    6    7\nCONECT    6    5    5\nCONECT    7    5    5\nCONECT   15   17   17\nCONECT   17   15   19   18\nCONECT   17   19   18\nCONECT   18   17   17\nCONECT   19   20   21   22\nCONECT   19   17   20   21   22\nCONECT   20   19   19\nCONECT   21   19   19\nCONECT   22   19   19\nEND\n",
           "type": "blob"
          }
         ],
         "kwargs": {
          "defaultRepresentation": true,
          "ext": "pdb",
          "height": "400px",
          "width": "400px"
         },
         "methodName": "loadFile",
         "reconstruc_color_scheme": false,
         "target": "Stage",
         "type": "call_method"
        },
        {
         "args": [
          "ball+stick"
         ],
         "component_index": 0,
         "kwargs": {
          "aspectRatio": 1,
          "color": "#D55E00",
          "radius": 0.5,
          "sele": "@1,6,8,14"
         },
         "methodName": "addRepresentation",
         "reconstruc_color_scheme": false,
         "target": "compList",
         "type": "call_method"
        }
       ],
       "_ngl_original_stage_parameters": {
        "ambientColor": 14540253,
        "ambientIntensity": 0.2,
        "backgroundColor": "white",
        "cameraEyeSep": 0.3,
        "cameraFov": 40,
        "cameraType": "perspective",
        "clipDist": 10,
        "clipFar": 100,
        "clipMode": "scene",
        "clipNear": 0,
        "clipScale": "relative",
        "fogFar": 100,
        "fogNear": 50,
        "hoverTimeout": 0,
        "impostor": true,
        "lightColor": 14540253,
        "lightIntensity": 1,
        "mousePreset": "default",
        "panSpeed": 1,
        "quality": "medium",
        "rotateSpeed": 2,
        "sampleLevel": 0,
        "tooltip": true,
        "workerDefault": true,
        "zoomSpeed": 1.2
       },
       "_ngl_repr_dict": {
        "0": {
         "0": {
          "params": {
           "aspectRatio": 1.5,
           "assembly": "default",
           "bondScale": 0.3,
           "bondSpacing": 0.75,
           "clipCenter": {
            "x": 0,
            "y": 0,
            "z": 0
           },
           "clipNear": 0,
           "clipRadius": 0,
           "colorMode": "hcl",
           "colorReverse": false,
           "colorScale": "",
           "colorScheme": "element",
           "colorValue": 9474192,
           "cylinderOnly": false,
           "defaultAssembly": "",
           "depthWrite": true,
           "diffuse": 16777215,
           "diffuseInterior": false,
           "disableImpostor": false,
           "disablePicking": false,
           "flatShaded": false,
           "interiorColor": 2236962,
           "interiorDarkening": 0,
           "lazy": false,
           "lineOnly": false,
           "linewidth": 2,
           "matrix": {
            "elements": [
             1,
             0,
             0,
             0,
             0,
             1,
             0,
             0,
             0,
             0,
             1,
             0,
             0,
             0,
             0,
             1
            ]
           },
           "metalness": 0,
           "multipleBond": "off",
           "opacity": 1,
           "openEnded": true,
           "quality": "high",
           "radialSegments": 20,
           "radiusData": {},
           "radiusScale": 2,
           "radiusSize": 0.15,
           "radiusType": "size",
           "roughness": 0.4,
           "sele": "",
           "side": "double",
           "sphereDetail": 2,
           "useInteriorColor": true,
           "visible": true,
           "wireframe": false
          },
          "type": "ball+stick"
         },
         "1": {
          "params": {
           "aspectRatio": 1,
           "assembly": "default",
           "bondScale": 0.4,
           "bondSpacing": 1,
           "clipCenter": {
            "x": 0,
            "y": 0,
            "z": 0
           },
           "clipNear": 0,
           "clipRadius": 0,
           "colorMode": "hcl",
           "colorReverse": false,
           "colorScale": "",
           "colorScheme": "uniform",
           "colorValue": 13983232,
           "cylinderOnly": false,
           "defaultAssembly": "",
           "depthWrite": true,
           "diffuse": 16777215,
           "diffuseInterior": false,
           "disableImpostor": false,
           "disablePicking": false,
           "flatShaded": false,
           "interiorColor": 2236962,
           "interiorDarkening": 0,
           "lazy": false,
           "lineOnly": false,
           "linewidth": 2,
           "matrix": {
            "elements": [
             1,
             0,
             0,
             0,
             0,
             1,
             0,
             0,
             0,
             0,
             1,
             0,
             0,
             0,
             0,
             1
            ]
           },
           "metalness": 0,
           "multipleBond": "off",
           "opacity": 1,
           "openEnded": true,
           "quality": "medium",
           "radialSegments": 10,
           "radiusData": {},
           "radiusScale": 1,
           "radiusSize": 0.5,
           "radiusType": "size",
           "roughness": 0.4,
           "sele": "@1,6,8,14",
           "side": "double",
           "sphereDetail": 1,
           "useInteriorColor": true,
           "visible": true,
           "wireframe": false
          },
          "type": "ball+stick"
         }
        }
       },
       "_ngl_serialize": false,
       "_ngl_version": "2.2.2",
       "_ngl_view_id": [
        "BFD193E9-7A65-4686-BD4C-EED47A99933A"
       ],
       "_player_dict": {},
       "_scene_position": {},
       "_scene_rotation": {},
       "_synced_model_ids": [],
       "_synced_repr_model_ids": [],
       "_view_height": "400px",
       "_view_width": "400px",
       "background": "white",
       "frame": 0,
       "gui_style": null,
       "layout": "IPY_MODEL_5787f20c037b4104997bb8560791a076",
       "max_frame": 0,
       "n_components": 1,
       "picked": {}
      }
     },
     "88f3014d2350460084d504df3bf745e1": {
      "model_module": "@jupyter-widgets/controls",
      "model_module_version": "2.0.0",
      "model_name": "HBoxModel",
      "state": {
       "children": [
        "IPY_MODEL_a01d9710bcd84badbddcf4468a06b05d",
        "IPY_MODEL_76659b8072a84b51a8108a1248a9a2c5"
       ],
       "layout": "IPY_MODEL_c05eae5973e1439badc2b8e90edb22c4"
      }
     },
     "88ff47fa89fa44659eae0bfbb54510d7": {
      "model_module": "@jupyter-widgets/base",
      "model_module_version": "2.0.0",
      "model_name": "LayoutModel",
      "state": {}
     },
     "8b06704e8e7249a6939580364735c1b6": {
      "model_module": "@jupyter-widgets/controls",
      "model_module_version": "2.0.0",
      "model_name": "ButtonStyleModel",
      "state": {
       "font_family": null,
       "font_size": null,
       "font_style": null,
       "font_variant": null,
       "font_weight": null,
       "text_color": null,
       "text_decoration": null
      }
     },
     "8b10d23e689b4a88930fb8bdbca60c13": {
      "model_module": "@jupyter-widgets/controls",
      "model_module_version": "2.0.0",
      "model_name": "IntSliderModel",
      "state": {
       "behavior": "drag-tap",
       "layout": "IPY_MODEL_e8b00eae68754c04b5eb9e9162b48d82",
       "max": 0,
       "style": "IPY_MODEL_9a9b5b77ece0458391794cfcc2998810"
      }
     },
     "8b9b0ac64dc849cd82fd3fc32b1abe26": {
      "model_module": "@jupyter-widgets/base",
      "model_module_version": "2.0.0",
      "model_name": "LayoutModel",
      "state": {}
     },
     "8cbcbefecc564e3c88c1cbff123a0868": {
      "model_module": "@jupyter-widgets/base",
      "model_module_version": "2.0.0",
      "model_name": "LayoutModel",
      "state": {}
     },
     "8cbfb28dbe454c10a9e8e133a5db9ef1": {
      "model_module": "@jupyter-widgets/controls",
      "model_module_version": "2.0.0",
      "model_name": "LinkModel",
      "state": {
       "source": [
        "IPY_MODEL_ba1220df3af9479b958266d821fa8462",
        "value"
       ],
       "target": [
        "IPY_MODEL_1ad725331b1146b7b5355adcab97f284",
        "value"
       ]
      }
     },
     "8cf9433b6a4d48298f0dd0236fd39111": {
      "model_module": "@jupyter-widgets/controls",
      "model_module_version": "2.0.0",
      "model_name": "LinkModel",
      "state": {
       "source": [
        "IPY_MODEL_4565a23c29434ce7bf02288396882fce",
        "value"
       ],
       "target": [
        "IPY_MODEL_74e871e0c97d48728302f83d60c470a8",
        "value"
       ]
      }
     },
     "8ddf59fbf23f4ce2918d2ff24a632c43": {
      "model_module": "nglview-js-widgets",
      "model_module_version": "3.1.0",
      "model_name": "NGLModel",
      "state": {
       "_camera_orientation": [
        21.842997532117135,
        0,
        0,
        0,
        0,
        21.842997532117135,
        0,
        0,
        0,
        0,
        21.842997532117135,
        0,
        -13.975999355316162,
        -15.923500061035156,
        3.4434999227523804,
        1
       ],
       "_camera_str": "orthographic",
       "_gui_theme": null,
       "_ibtn_fullscreen": "IPY_MODEL_0fbe603f35d04dfc94444f2773abe44e",
       "_igui": null,
       "_iplayer": "IPY_MODEL_0ae1c3d1b97f43878612457aa16e19b5",
       "_ngl_color_dict": {},
       "_ngl_coordinate_resource": {},
       "_ngl_full_stage_parameters": {
        "ambientColor": 14540253,
        "ambientIntensity": 0.2,
        "backgroundColor": "white",
        "cameraEyeSep": 0.3,
        "cameraFov": 40,
        "cameraType": "perspective",
        "clipDist": 10,
        "clipFar": 100,
        "clipMode": "scene",
        "clipNear": 0,
        "clipScale": "relative",
        "fogFar": 100,
        "fogNear": 50,
        "hoverTimeout": 0,
        "impostor": true,
        "lightColor": 14540253,
        "lightIntensity": 1,
        "mousePreset": "default",
        "panSpeed": 1,
        "quality": "medium",
        "rotateSpeed": 2,
        "sampleLevel": 0,
        "tooltip": true,
        "workerDefault": true,
        "zoomSpeed": 1.2
       },
       "_ngl_msg_archive": [
        {
         "args": [
          {
           "binary": false,
           "data": "REMARK   1 CREATED WITH MDTraj 1.9.6, 2021-09-14\nCRYST1   20.233   20.233   20.233  90.00  90.00  90.00 P 1           1 \nMODEL        0\nATOM      1  H1  ACE A   1      16.384  14.081  -5.858  1.00  0.00           H  \nATOM      2  CH3 ACE A   1      16.530  14.752  -5.012  1.00  0.00           C  \nATOM      3  H2  ACE A   1      17.262  15.508  -5.297  1.00  0.00           H  \nATOM      4  H3  ACE A   1      16.909  14.174  -4.169  1.00  0.00           H  \nATOM      5  C   ACE A   1      15.200  15.391  -4.663  1.00  0.00           C  \nATOM      6  O   ACE A   1      14.169  14.948  -5.147  1.00  0.00           O  \nATOM      7  N   ALA A   2      15.223  16.439  -3.824  1.00  0.00           N  \nATOM      8  H   ALA A   2      16.138  16.741  -3.522  1.00  0.00           H  \nATOM      9  CA  ALA A   2      14.061  17.185  -3.253  1.00  0.00           C  \nATOM     10  HA  ALA A   2      14.475  17.918  -2.560  1.00  0.00           H  \nATOM     11  CB  ALA A   2      13.353  17.961  -4.365  1.00  0.00           C  \nATOM     12  HB1 ALA A   2      12.564  18.580  -3.938  1.00  0.00           H  \nATOM     13  HB2 ALA A   2      14.090  18.590  -4.865  1.00  0.00           H  \nATOM     14  HB3 ALA A   2      12.926  17.296  -5.116  1.00  0.00           H  \nATOM     15  C   ALA A   2      13.036  16.370  -2.426  1.00  0.00           C  \nATOM     16  O   ALA A   2      12.568  16.879  -1.404  1.00  0.00           O  \nATOM     17  N   NME A   3      12.674  15.159  -2.814  1.00  0.00           N  \nATOM     18  H   NME A   3      13.075  14.848  -3.687  1.00  0.00           H  \nATOM     19  C   NME A   3      11.703  14.298  -2.109  1.00  0.00           C  \nATOM     20  H1  NME A   3      10.690  14.587  -2.391  1.00  0.00           H  \nATOM     21  H2  NME A   3      11.856  13.257  -2.395  1.00  0.00           H  \nATOM     22  H3  NME A   3      11.817  14.384  -1.029  1.00  0.00           H  \nTER      23      NME A   3\nENDMDL\nCONECT    1    2\nCONECT    2    3    4    5\nCONECT    5    6    6    7\nCONECT    7    8    9\nCONECT    9   10   11   15\nCONECT   11   12   13   14\nCONECT   15   16   16   17\nCONECT   17   18   19\nCONECT   19   20   21   22\nEND",
           "type": "blob"
          }
         ],
         "kwargs": {
          "defaultRepresentation": true,
          "ext": "pdb",
          "height": "400px",
          "width": "400px"
         },
         "methodName": "loadFile",
         "reconstruc_color_scheme": false,
         "target": "Stage",
         "type": "call_method"
        },
        {
         "args": [
          "ball+stick"
         ],
         "component_index": 0,
         "kwargs": {
          "aspectRatio": 1,
          "color": "#D55E00",
          "radius": 0.5,
          "sele": "@8,10,14,16"
         },
         "methodName": "addRepresentation",
         "reconstruc_color_scheme": false,
         "target": "compList",
         "type": "call_method"
        }
       ],
       "_ngl_original_stage_parameters": {
        "ambientColor": 14540253,
        "ambientIntensity": 0.2,
        "backgroundColor": "white",
        "cameraEyeSep": 0.3,
        "cameraFov": 40,
        "cameraType": "perspective",
        "clipDist": 10,
        "clipFar": 100,
        "clipMode": "scene",
        "clipNear": 0,
        "clipScale": "relative",
        "fogFar": 100,
        "fogNear": 50,
        "hoverTimeout": 0,
        "impostor": true,
        "lightColor": 14540253,
        "lightIntensity": 1,
        "mousePreset": "default",
        "panSpeed": 1,
        "quality": "medium",
        "rotateSpeed": 2,
        "sampleLevel": 0,
        "tooltip": true,
        "workerDefault": true,
        "zoomSpeed": 1.2
       },
       "_ngl_repr_dict": {
        "0": {
         "0": {
          "params": {
           "aspectRatio": 1.5,
           "assembly": "default",
           "bondScale": 0.3,
           "bondSpacing": 0.75,
           "clipCenter": {
            "x": 0,
            "y": 0,
            "z": 0
           },
           "clipNear": 0,
           "clipRadius": 0,
           "colorMode": "hcl",
           "colorReverse": false,
           "colorScale": "",
           "colorScheme": "element",
           "colorValue": 9474192,
           "cylinderOnly": false,
           "defaultAssembly": "",
           "depthWrite": true,
           "diffuse": 16777215,
           "diffuseInterior": false,
           "disableImpostor": false,
           "disablePicking": false,
           "flatShaded": false,
           "interiorColor": 2236962,
           "interiorDarkening": 0,
           "lazy": false,
           "lineOnly": false,
           "linewidth": 2,
           "matrix": {
            "elements": [
             1,
             0,
             0,
             0,
             0,
             1,
             0,
             0,
             0,
             0,
             1,
             0,
             0,
             0,
             0,
             1
            ]
           },
           "metalness": 0,
           "multipleBond": "off",
           "opacity": 1,
           "openEnded": true,
           "quality": "high",
           "radialSegments": 20,
           "radiusData": {},
           "radiusScale": 2,
           "radiusSize": 0.15,
           "radiusType": "size",
           "roughness": 0.4,
           "sele": "",
           "side": "double",
           "sphereDetail": 2,
           "useInteriorColor": true,
           "visible": true,
           "wireframe": false
          },
          "type": "ball+stick"
         },
         "1": {
          "params": {
           "aspectRatio": 1,
           "assembly": "default",
           "bondScale": 0.4,
           "bondSpacing": 1,
           "clipCenter": {
            "x": 0,
            "y": 0,
            "z": 0
           },
           "clipNear": 0,
           "clipRadius": 0,
           "colorMode": "hcl",
           "colorReverse": false,
           "colorScale": "",
           "colorScheme": "uniform",
           "colorValue": 13983232,
           "cylinderOnly": false,
           "defaultAssembly": "",
           "depthWrite": true,
           "diffuse": 16777215,
           "diffuseInterior": false,
           "disableImpostor": false,
           "disablePicking": false,
           "flatShaded": false,
           "interiorColor": 2236962,
           "interiorDarkening": 0,
           "lazy": false,
           "lineOnly": false,
           "linewidth": 2,
           "matrix": {
            "elements": [
             1,
             0,
             0,
             0,
             0,
             1,
             0,
             0,
             0,
             0,
             1,
             0,
             0,
             0,
             0,
             1
            ]
           },
           "metalness": 0,
           "multipleBond": "off",
           "opacity": 1,
           "openEnded": true,
           "quality": "medium",
           "radialSegments": 10,
           "radiusData": {},
           "radiusScale": 1,
           "radiusSize": 0.5,
           "radiusType": "size",
           "roughness": 0.4,
           "sele": "@8,10,14,16",
           "side": "double",
           "sphereDetail": 1,
           "useInteriorColor": true,
           "visible": true,
           "wireframe": false
          },
          "type": "ball+stick"
         }
        }
       },
       "_ngl_serialize": false,
       "_ngl_version": "2.2.2",
       "_ngl_view_id": [
        "6C260BAE-2ECB-46CC-9707-F24D635C19A6"
       ],
       "_player_dict": {},
       "_scene_position": {},
       "_scene_rotation": {},
       "_synced_model_ids": [],
       "_synced_repr_model_ids": [],
       "_view_height": "400px",
       "_view_width": "400px",
       "background": "white",
       "frame": 0,
       "gui_style": null,
       "layout": "IPY_MODEL_ce5936d1b05d4046a57d4dc241f212bf",
       "max_frame": 0,
       "n_components": 1,
       "picked": {}
      }
     },
     "8e88914c942343d49931cdc1555e2be5": {
      "model_module": "@jupyter-widgets/base",
      "model_module_version": "2.0.0",
      "model_name": "LayoutModel",
      "state": {}
     },
     "8ee06fab65124c1b8879f3be58d21966": {
      "model_module": "@jupyter-widgets/base",
      "model_module_version": "2.0.0",
      "model_name": "LayoutModel",
      "state": {}
     },
     "8f6abc14bda04d888559734a4084cba6": {
      "model_module": "@jupyter-widgets/controls",
      "model_module_version": "2.0.0",
      "model_name": "DescriptionStyleModel",
      "state": {
       "description_width": ""
      }
     },
     "8fd7dc5dd4db4e969edfbb28612b8c9e": {
      "model_module": "@jupyter-widgets/controls",
      "model_module_version": "2.0.0",
      "model_name": "LinkModel",
      "state": {
       "source": [
        "IPY_MODEL_ac19fbe8495d4ee9a398b27e97fc0780",
        "max"
       ],
       "target": [
        "IPY_MODEL_18a9ebdb7b384db8a6742191b337e0e6",
        "max_frame"
       ]
      }
     },
     "90e949229fba41d089fdf80a2b156318": {
      "model_module": "@jupyter-widgets/controls",
      "model_module_version": "2.0.0",
      "model_name": "LinkModel",
      "state": {
       "source": [
        "IPY_MODEL_3b652f7ad00a434c9693df88638b001a",
        "max"
       ],
       "target": [
        "IPY_MODEL_6a4bdde389584c86b3584e90453aba31",
        "max_frame"
       ]
      }
     },
     "90f2752fc81e4293b9b4bbddc5eba6c7": {
      "model_module": "@jupyter-widgets/base",
      "model_module_version": "2.0.0",
      "model_name": "LayoutModel",
      "state": {}
     },
     "91a8d3bb3b684bbea0f22a5398a6d829": {
      "model_module": "@jupyter-widgets/controls",
      "model_module_version": "2.0.0",
      "model_name": "SliderStyleModel",
      "state": {
       "description_width": ""
      }
     },
     "91c57da33a524617af34cac90ede273c": {
      "model_module": "@jupyter-widgets/controls",
      "model_module_version": "2.0.0",
      "model_name": "LinkModel",
      "state": {
       "source": [
        "IPY_MODEL_c561742f4e8544a493af9d56cee09b96",
        "value"
       ],
       "target": [
        "IPY_MODEL_36cc96c7f6ea4bb1b7066901f83b0267",
        "frame"
       ]
      }
     },
     "934ba5a2f9414c6aad88a619b682ed09": {
      "model_module": "@jupyter-widgets/controls",
      "model_module_version": "2.0.0",
      "model_name": "ButtonStyleModel",
      "state": {
       "font_family": null,
       "font_size": null,
       "font_style": null,
       "font_variant": null,
       "font_weight": null,
       "text_color": null,
       "text_decoration": null
      }
     },
     "93632ffd415b459d932513045cd72bfc": {
      "model_module": "@jupyter-widgets/base",
      "model_module_version": "2.0.0",
      "model_name": "LayoutModel",
      "state": {}
     },
     "94d2ae6a7f6146d08469eb67c6cba6ef": {
      "model_module": "@jupyter-widgets/base",
      "model_module_version": "2.0.0",
      "model_name": "LayoutModel",
      "state": {
       "width": "34px"
      }
     },
     "952feb29066a435db8ea20859f63d72b": {
      "model_module": "@jupyter-widgets/base",
      "model_module_version": "2.0.0",
      "model_name": "LayoutModel",
      "state": {}
     },
     "95ff6702a90a4294a65610c77ac73e9b": {
      "model_module": "@jupyter-widgets/controls",
      "model_module_version": "2.0.0",
      "model_name": "LinkModel",
      "state": {
       "source": [
        "IPY_MODEL_0b4734c8d5d444788f22a6e0aaf125c7",
        "max"
       ],
       "target": [
        "IPY_MODEL_e5a27927480843ea97005fafbbb93ed8",
        "max_frame"
       ]
      }
     },
     "966f7a3d4bd549279d34c44df7211a98": {
      "model_module": "@jupyter-widgets/controls",
      "model_module_version": "2.0.0",
      "model_name": "PlayModel",
      "state": {
       "layout": "IPY_MODEL_337dad46e7fb4f76912ad82f10d3ac45",
       "max": 0,
       "style": "IPY_MODEL_43703a4a32774f56840eada339d765f0"
      }
     },
     "9678966286b04deebeee6e5f4eb32308": {
      "model_module": "@jupyter-widgets/controls",
      "model_module_version": "2.0.0",
      "model_name": "ButtonStyleModel",
      "state": {
       "font_family": null,
       "font_size": null,
       "font_style": null,
       "font_variant": null,
       "font_weight": null,
       "text_color": null,
       "text_decoration": null
      }
     },
     "967c0eebe3494b2b918859503fa1dd12": {
      "model_module": "@jupyter-widgets/controls",
      "model_module_version": "2.0.0",
      "model_name": "ImageModel",
      "state": {
       "layout": "IPY_MODEL_131c7427b7e74fa68984a7e5485859bc",
       "width": "900.0"
      }
     },
     "975aa9841c124da78d7d97bf887938b6": {
      "model_module": "@jupyter-widgets/controls",
      "model_module_version": "2.0.0",
      "model_name": "PlayModel",
      "state": {
       "layout": "IPY_MODEL_952feb29066a435db8ea20859f63d72b",
       "max": 0,
       "style": "IPY_MODEL_68ee291e62014c97a34c386ef2744d59"
      }
     },
     "97afea363970462fa83cfd05c92e9e94": {
      "model_module": "@jupyter-widgets/controls",
      "model_module_version": "2.0.0",
      "model_name": "ImageModel",
      "state": {
       "layout": "IPY_MODEL_3bff670739754e07ad5df4bfca276819",
       "width": "900.0"
      }
     },
     "97f9c39fa1c4497685ad8d0a952fc7e5": {
      "model_module": "@jupyter-widgets/controls",
      "model_module_version": "2.0.0",
      "model_name": "SliderStyleModel",
      "state": {
       "description_width": ""
      }
     },
     "98aa306a666b4ae0a745576fb8229da8": {
      "model_module": "@jupyter-widgets/base",
      "model_module_version": "2.0.0",
      "model_name": "LayoutModel",
      "state": {}
     },
     "99bad12e24cb48a8a9640e5446c82e82": {
      "model_module": "@jupyter-widgets/base",
      "model_module_version": "2.0.0",
      "model_name": "LayoutModel",
      "state": {}
     },
     "9a5ecf6fdb5d4cf39016b4240a220eb4": {
      "model_module": "@jupyter-widgets/controls",
      "model_module_version": "2.0.0",
      "model_name": "ImageModel",
      "state": {
       "layout": "IPY_MODEL_1731d0d281f444ce8a2268d13de7b4d4",
       "width": "900.0"
      }
     },
     "9a9b5b77ece0458391794cfcc2998810": {
      "model_module": "@jupyter-widgets/controls",
      "model_module_version": "2.0.0",
      "model_name": "SliderStyleModel",
      "state": {
       "description_width": ""
      }
     },
     "9b6558bb03164156af533ecfd1d04216": {
      "model_module": "@jupyter-widgets/base",
      "model_module_version": "2.0.0",
      "model_name": "LayoutModel",
      "state": {
       "width": "34px"
      }
     },
     "9b67a4bfee7a4a5aaf3fd9b156ba2bbe": {
      "model_module": "@jupyter-widgets/controls",
      "model_module_version": "2.0.0",
      "model_name": "DescriptionStyleModel",
      "state": {
       "description_width": ""
      }
     },
     "9b9158226e8844d9b4fce0fe3db75e22": {
      "model_module": "@jupyter-widgets/base",
      "model_module_version": "2.0.0",
      "model_name": "LayoutModel",
      "state": {}
     },
     "9f165af0ac784ba799fe302d609fc1b3": {
      "model_module": "@jupyter-widgets/controls",
      "model_module_version": "2.0.0",
      "model_name": "LinkModel",
      "state": {
       "source": [
        "IPY_MODEL_3d5a37631e634e38a87e36855f891bd4",
        "value"
       ],
       "target": [
        "IPY_MODEL_ae2110e966d140ef9a4a1b194497ee77",
        "value"
       ]
      }
     },
     "9f2b4008a8964b0faed6c703245063db": {
      "model_module": "@jupyter-widgets/base",
      "model_module_version": "2.0.0",
      "model_name": "LayoutModel",
      "state": {}
     },
     "9f4a3f06a58845a89c2f69bb42c8afc2": {
      "model_module": "@jupyter-widgets/controls",
      "model_module_version": "2.0.0",
      "model_name": "LinkModel",
      "state": {
       "source": [
        "IPY_MODEL_2d966edbb1784438a6396372dd6ac06e",
        "max"
       ],
       "target": [
        "IPY_MODEL_8ddf59fbf23f4ce2918d2ff24a632c43",
        "max_frame"
       ]
      }
     },
     "a01d9710bcd84badbddcf4468a06b05d": {
      "model_module": "@jupyter-widgets/controls",
      "model_module_version": "2.0.0",
      "model_name": "PlayModel",
      "state": {
       "layout": "IPY_MODEL_7db2b39a7b4d46ecbbdece1b6738e8d2",
       "max": 0,
       "style": "IPY_MODEL_e50226e5801d4a6f8651f7ef499e1e3d"
      }
     },
     "a03b99730656432fb82149c87b293c7c": {
      "model_module": "@jupyter-widgets/controls",
      "model_module_version": "2.0.0",
      "model_name": "LinkModel",
      "state": {
       "source": [
        "IPY_MODEL_a12e24f22f544b5dbe7a8620b5950118",
        "value"
       ],
       "target": [
        "IPY_MODEL_3b652f7ad00a434c9693df88638b001a",
        "value"
       ]
      }
     },
     "a12e24f22f544b5dbe7a8620b5950118": {
      "model_module": "@jupyter-widgets/controls",
      "model_module_version": "2.0.0",
      "model_name": "PlayModel",
      "state": {
       "layout": "IPY_MODEL_e1df9bb7abbb428bbf6b97054d7bc81b",
       "max": 0,
       "style": "IPY_MODEL_c015d4cea933453a822b4079338ec761"
      }
     },
     "a2556f352aa945ca9c0b0e57b62710c2": {
      "model_module": "@jupyter-widgets/base",
      "model_module_version": "2.0.0",
      "model_name": "LayoutModel",
      "state": {}
     },
     "a27c357ae0334a659bf577b6069a4290": {
      "model_module": "@jupyter-widgets/controls",
      "model_module_version": "2.0.0",
      "model_name": "SliderStyleModel",
      "state": {
       "description_width": ""
      }
     },
     "a2b1465722034c4fba3365c6ce4666f7": {
      "model_module": "@jupyter-widgets/base",
      "model_module_version": "2.0.0",
      "model_name": "LayoutModel",
      "state": {}
     },
     "a58a8aabb43f465fa674e972a11cdc03": {
      "model_module": "@jupyter-widgets/base",
      "model_module_version": "2.0.0",
      "model_name": "LayoutModel",
      "state": {}
     },
     "a6c41bd15f04435cb9f55b469a7b5bdb": {
      "model_module": "@jupyter-widgets/controls",
      "model_module_version": "2.0.0",
      "model_name": "PlayModel",
      "state": {
       "layout": "IPY_MODEL_bbee9350767f44dda06c3ed70eadb3e2",
       "max": 0,
       "style": "IPY_MODEL_cc430e5f72434d0c8d215e907667ee4f"
      }
     },
     "a7d7b7a3fb4f4cd58b3495452fae778a": {
      "model_module": "@jupyter-widgets/controls",
      "model_module_version": "2.0.0",
      "model_name": "DescriptionStyleModel",
      "state": {
       "description_width": ""
      }
     },
     "a809886c4a77481e922c31b314d87f2f": {
      "model_module": "@jupyter-widgets/base",
      "model_module_version": "2.0.0",
      "model_name": "LayoutModel",
      "state": {
       "width": "34px"
      }
     },
     "a859f29a43a24e059e0ef466d293ee51": {
      "model_module": "@jupyter-widgets/controls",
      "model_module_version": "2.0.0",
      "model_name": "LinkModel",
      "state": {
       "source": [
        "IPY_MODEL_a6c41bd15f04435cb9f55b469a7b5bdb",
        "value"
       ],
       "target": [
        "IPY_MODEL_0b4734c8d5d444788f22a6e0aaf125c7",
        "value"
       ]
      }
     },
     "a89f64026d4947e39fa47611402bb779": {
      "model_module": "nglview-js-widgets",
      "model_module_version": "3.1.0",
      "model_name": "NGLModel",
      "state": {
       "_camera_orientation": [
        12.200309864200719,
        5.084230059216973,
        8.826508316206592,
        0,
        -7.217362725864102,
        14.03323155417726,
        1.8926945246853866,
        0,
        -7.187928744389239,
        -5.461064180672219,
        13.081080364931056,
        0,
        -13.975999355316162,
        -15.923500061035156,
        3.4434999227523804,
        1
       ],
       "_camera_str": "orthographic",
       "_gui_theme": null,
       "_ibtn_fullscreen": "IPY_MODEL_31b56aae04334eff8e4690fa150d7e50",
       "_igui": null,
       "_iplayer": "IPY_MODEL_7c222e6f6a694004a2706e0bd67d84e1",
       "_ngl_color_dict": {},
       "_ngl_coordinate_resource": {},
       "_ngl_full_stage_parameters": {
        "ambientColor": 14540253,
        "ambientIntensity": 0.2,
        "backgroundColor": "white",
        "cameraEyeSep": 0.3,
        "cameraFov": 40,
        "cameraType": "perspective",
        "clipDist": 10,
        "clipFar": 100,
        "clipMode": "scene",
        "clipNear": 0,
        "clipScale": "relative",
        "fogFar": 100,
        "fogNear": 50,
        "hoverTimeout": 0,
        "impostor": true,
        "lightColor": 14540253,
        "lightIntensity": 1,
        "mousePreset": "default",
        "panSpeed": 1,
        "quality": "medium",
        "rotateSpeed": 2,
        "sampleLevel": 0,
        "tooltip": true,
        "workerDefault": true,
        "zoomSpeed": 1.2
       },
       "_ngl_msg_archive": [
        {
         "args": [
          {
           "binary": false,
           "data": "REMARK   1 CREATED WITH MDTraj 1.9.6, 2021-09-14\nCRYST1   20.233   20.233   20.233  90.00  90.00  90.00 P 1           1 \nMODEL        0\nATOM      1  H1  ACE A   1      16.384  14.081  -5.858  1.00  0.00           H  \nATOM      2  CH3 ACE A   1      16.530  14.752  -5.012  1.00  0.00           C  \nATOM      3  H2  ACE A   1      17.262  15.508  -5.297  1.00  0.00           H  \nATOM      4  H3  ACE A   1      16.909  14.174  -4.169  1.00  0.00           H  \nATOM      5  C   ACE A   1      15.200  15.391  -4.663  1.00  0.00           C  \nATOM      6  O   ACE A   1      14.169  14.948  -5.147  1.00  0.00           O  \nATOM      7  N   ALA A   2      15.223  16.439  -3.824  1.00  0.00           N  \nATOM      8  H   ALA A   2      16.138  16.741  -3.522  1.00  0.00           H  \nATOM      9  CA  ALA A   2      14.061  17.185  -3.253  1.00  0.00           C  \nATOM     10  HA  ALA A   2      14.475  17.918  -2.560  1.00  0.00           H  \nATOM     11  CB  ALA A   2      13.353  17.961  -4.365  1.00  0.00           C  \nATOM     12  HB1 ALA A   2      12.564  18.580  -3.938  1.00  0.00           H  \nATOM     13  HB2 ALA A   2      14.090  18.590  -4.865  1.00  0.00           H  \nATOM     14  HB3 ALA A   2      12.926  17.296  -5.116  1.00  0.00           H  \nATOM     15  C   ALA A   2      13.036  16.370  -2.426  1.00  0.00           C  \nATOM     16  O   ALA A   2      12.568  16.879  -1.404  1.00  0.00           O  \nATOM     17  N   NME A   3      12.674  15.159  -2.814  1.00  0.00           N  \nATOM     18  H   NME A   3      13.075  14.848  -3.687  1.00  0.00           H  \nATOM     19  C   NME A   3      11.703  14.298  -2.109  1.00  0.00           C  \nATOM     20  H1  NME A   3      10.690  14.587  -2.391  1.00  0.00           H  \nATOM     21  H2  NME A   3      11.856  13.257  -2.395  1.00  0.00           H  \nATOM     22  H3  NME A   3      11.817  14.384  -1.029  1.00  0.00           H  \nTER      23      NME A   3\nENDMDL\nCONECT    1    2\nCONECT    2    3    4    5\nCONECT    5    6    6    7\nCONECT    7    8    9\nCONECT    9   10   11   15\nCONECT   11   12   13   14\nCONECT   15   16   16   17\nCONECT   17   18   19\nCONECT   19   20   21   22\nEND",
           "type": "blob"
          }
         ],
         "kwargs": {
          "defaultRepresentation": true,
          "ext": "pdb",
          "height": "400px",
          "width": "400px"
         },
         "methodName": "loadFile",
         "reconstruc_color_scheme": false,
         "target": "Stage",
         "type": "call_method"
        },
        {
         "args": [
          "ball+stick"
         ],
         "component_index": 0,
         "kwargs": {
          "aspectRatio": 1,
          "color": "#3FA796",
          "radius": 0.5,
          "sele": "@8,10,14,16"
         },
         "methodName": "addRepresentation",
         "reconstruc_color_scheme": false,
         "target": "compList",
         "type": "call_method"
        }
       ],
       "_ngl_original_stage_parameters": {
        "ambientColor": 14540253,
        "ambientIntensity": 0.2,
        "backgroundColor": "white",
        "cameraEyeSep": 0.3,
        "cameraFov": 40,
        "cameraType": "perspective",
        "clipDist": 10,
        "clipFar": 100,
        "clipMode": "scene",
        "clipNear": 0,
        "clipScale": "relative",
        "fogFar": 100,
        "fogNear": 50,
        "hoverTimeout": 0,
        "impostor": true,
        "lightColor": 14540253,
        "lightIntensity": 1,
        "mousePreset": "default",
        "panSpeed": 1,
        "quality": "medium",
        "rotateSpeed": 2,
        "sampleLevel": 0,
        "tooltip": true,
        "workerDefault": true,
        "zoomSpeed": 1.2
       },
       "_ngl_repr_dict": {
        "0": {
         "0": {
          "params": {
           "aspectRatio": 1.5,
           "assembly": "default",
           "bondScale": 0.3,
           "bondSpacing": 0.75,
           "clipCenter": {
            "x": 0,
            "y": 0,
            "z": 0
           },
           "clipNear": 0,
           "clipRadius": 0,
           "colorMode": "hcl",
           "colorReverse": false,
           "colorScale": "",
           "colorScheme": "element",
           "colorValue": 9474192,
           "cylinderOnly": false,
           "defaultAssembly": "",
           "depthWrite": true,
           "diffuse": 16777215,
           "diffuseInterior": false,
           "disableImpostor": false,
           "disablePicking": false,
           "flatShaded": false,
           "interiorColor": 2236962,
           "interiorDarkening": 0,
           "lazy": false,
           "lineOnly": false,
           "linewidth": 2,
           "matrix": {
            "elements": [
             1,
             0,
             0,
             0,
             0,
             1,
             0,
             0,
             0,
             0,
             1,
             0,
             0,
             0,
             0,
             1
            ]
           },
           "metalness": 0,
           "multipleBond": "off",
           "opacity": 1,
           "openEnded": true,
           "quality": "high",
           "radialSegments": 20,
           "radiusData": {},
           "radiusScale": 2,
           "radiusSize": 0.15,
           "radiusType": "size",
           "roughness": 0.4,
           "sele": "",
           "side": "double",
           "sphereDetail": 2,
           "useInteriorColor": true,
           "visible": true,
           "wireframe": false
          },
          "type": "ball+stick"
         },
         "1": {
          "params": {
           "aspectRatio": 1,
           "assembly": "default",
           "bondScale": 0.4,
           "bondSpacing": 1,
           "clipCenter": {
            "x": 0,
            "y": 0,
            "z": 0
           },
           "clipNear": 0,
           "clipRadius": 0,
           "colorMode": "hcl",
           "colorReverse": false,
           "colorScale": "",
           "colorScheme": "uniform",
           "colorValue": 4171670,
           "cylinderOnly": false,
           "defaultAssembly": "",
           "depthWrite": true,
           "diffuse": 16777215,
           "diffuseInterior": false,
           "disableImpostor": false,
           "disablePicking": false,
           "flatShaded": false,
           "interiorColor": 2236962,
           "interiorDarkening": 0,
           "lazy": false,
           "lineOnly": false,
           "linewidth": 2,
           "matrix": {
            "elements": [
             1,
             0,
             0,
             0,
             0,
             1,
             0,
             0,
             0,
             0,
             1,
             0,
             0,
             0,
             0,
             1
            ]
           },
           "metalness": 0,
           "multipleBond": "off",
           "opacity": 1,
           "openEnded": true,
           "quality": "medium",
           "radialSegments": 10,
           "radiusData": {},
           "radiusScale": 1,
           "radiusSize": 0.5,
           "radiusType": "size",
           "roughness": 0.4,
           "sele": "@8,10,14,16",
           "side": "double",
           "sphereDetail": 1,
           "useInteriorColor": true,
           "visible": true,
           "wireframe": false
          },
          "type": "ball+stick"
         }
        }
       },
       "_ngl_serialize": false,
       "_ngl_version": "2.2.2",
       "_ngl_view_id": [
        "7BE1EAE0-8F90-4F65-84BB-9CAC8A1B2B3A"
       ],
       "_player_dict": {},
       "_scene_position": {},
       "_scene_rotation": {},
       "_synced_model_ids": [],
       "_synced_repr_model_ids": [],
       "_view_height": "400px",
       "_view_width": "400px",
       "background": "white",
       "frame": 0,
       "gui_style": null,
       "layout": "IPY_MODEL_ad97e737506e4390b50471854796c229",
       "max_frame": 0,
       "n_components": 1,
       "picked": {}
      }
     },
     "a8ef9916862f4b28a758c298b1d12a7e": {
      "model_module": "@jupyter-widgets/controls",
      "model_module_version": "2.0.0",
      "model_name": "DescriptionStyleModel",
      "state": {
       "description_width": ""
      }
     },
     "aa2b057d618d4e2199fe1eceda39f913": {
      "model_module": "@jupyter-widgets/controls",
      "model_module_version": "2.0.0",
      "model_name": "LinkModel",
      "state": {
       "source": [
        "IPY_MODEL_c561742f4e8544a493af9d56cee09b96",
        "max"
       ],
       "target": [
        "IPY_MODEL_36cc96c7f6ea4bb1b7066901f83b0267",
        "max_frame"
       ]
      }
     },
     "aaad62e131a34bffbff36131992609a0": {
      "model_module": "@jupyter-widgets/controls",
      "model_module_version": "2.0.0",
      "model_name": "HBoxModel",
      "state": {
       "children": [
        "IPY_MODEL_a12e24f22f544b5dbe7a8620b5950118",
        "IPY_MODEL_3b652f7ad00a434c9693df88638b001a"
       ],
       "layout": "IPY_MODEL_af9f7379d68b4451a7104f4cade7a802"
      }
     },
     "abe81cdf23ec4187a92fb6f79292aa6f": {
      "model_module": "@jupyter-widgets/base",
      "model_module_version": "2.0.0",
      "model_name": "LayoutModel",
      "state": {
       "width": "34px"
      }
     },
     "ac19fbe8495d4ee9a398b27e97fc0780": {
      "model_module": "@jupyter-widgets/controls",
      "model_module_version": "2.0.0",
      "model_name": "PlayModel",
      "state": {
       "layout": "IPY_MODEL_b49d27f1f82e489d9bc212d32939a652",
       "max": 0,
       "style": "IPY_MODEL_a7d7b7a3fb4f4cd58b3495452fae778a"
      }
     },
     "ac43f0fd73c64f88acddaf6762318c28": {
      "model_module": "@jupyter-widgets/controls",
      "model_module_version": "2.0.0",
      "model_name": "LinkModel",
      "state": {
       "source": [
        "IPY_MODEL_6514a3bb781b4477a0fb139158bc64c7",
        "max"
       ],
       "target": [
        "IPY_MODEL_58fe4ba5f4d2413fb709fa2b570fe9c7",
        "max_frame"
       ]
      }
     },
     "ac65ab12a3894d479fc6ff4173aa2e65": {
      "model_module": "@jupyter-widgets/controls",
      "model_module_version": "2.0.0",
      "model_name": "ButtonModel",
      "state": {
       "icon": "compress",
       "layout": "IPY_MODEL_f6ee30aa51154407977cb3e132e82c27",
       "style": "IPY_MODEL_cf009b2ca84e429ea7ce10fb7a1d57c7",
       "tooltip": null
      }
     },
     "ad184e739450455e9af9dd985448a9bb": {
      "model_module": "@jupyter-widgets/controls",
      "model_module_version": "2.0.0",
      "model_name": "ButtonStyleModel",
      "state": {
       "font_family": null,
       "font_size": null,
       "font_style": null,
       "font_variant": null,
       "font_weight": null,
       "text_color": null,
       "text_decoration": null
      }
     },
     "ad75bd2d443f45c1ad10ccdedbb63789": {
      "model_module": "@jupyter-widgets/controls",
      "model_module_version": "2.0.0",
      "model_name": "ButtonModel",
      "state": {
       "icon": "compress",
       "layout": "IPY_MODEL_52355f011fff4c908ed5d9645ac26efb",
       "style": "IPY_MODEL_af1753bebf984d8b9cef354e1e82af31",
       "tooltip": null
      }
     },
     "ad97e737506e4390b50471854796c229": {
      "model_module": "@jupyter-widgets/base",
      "model_module_version": "2.0.0",
      "model_name": "LayoutModel",
      "state": {}
     },
     "ae2110e966d140ef9a4a1b194497ee77": {
      "model_module": "@jupyter-widgets/controls",
      "model_module_version": "2.0.0",
      "model_name": "IntSliderModel",
      "state": {
       "behavior": "drag-tap",
       "layout": "IPY_MODEL_10d6c2de87e048a881b6724760b1e562",
       "max": 0,
       "style": "IPY_MODEL_dfecaaf0333b4dd0b58539e98051bd3c"
      }
     },
     "ae699599c203423995bb63387a796b0a": {
      "model_module": "@jupyter-widgets/base",
      "model_module_version": "2.0.0",
      "model_name": "LayoutModel",
      "state": {}
     },
     "ae8eba86d2bf40e8bf697dca6194974a": {
      "model_module": "@jupyter-widgets/controls",
      "model_module_version": "2.0.0",
      "model_name": "LinkModel",
      "state": {
       "source": [
        "IPY_MODEL_3bb1b48b94c14f88b62bca15ace8bf98",
        "max"
       ],
       "target": [
        "IPY_MODEL_3311adab638f489da24eebac36a35f49",
        "max_frame"
       ]
      }
     },
     "af0feffb9f754d0cbecb231034d9e7dd": {
      "model_module": "@jupyter-widgets/controls",
      "model_module_version": "2.0.0",
      "model_name": "ButtonModel",
      "state": {
       "icon": "compress",
       "layout": "IPY_MODEL_dfcdfb87b5584362bb1695e326c7c98e",
       "style": "IPY_MODEL_45d34e3c5b184bc2915732e9ee30ef58",
       "tooltip": null
      }
     },
     "af1753bebf984d8b9cef354e1e82af31": {
      "model_module": "@jupyter-widgets/controls",
      "model_module_version": "2.0.0",
      "model_name": "ButtonStyleModel",
      "state": {
       "font_family": null,
       "font_size": null,
       "font_style": null,
       "font_variant": null,
       "font_weight": null,
       "text_color": null,
       "text_decoration": null
      }
     },
     "af497b177c94414f984757d938f58b2c": {
      "model_module": "@jupyter-widgets/controls",
      "model_module_version": "2.0.0",
      "model_name": "ButtonModel",
      "state": {
       "icon": "compress",
       "layout": "IPY_MODEL_ded6875f417040d09dbcbaf66097af98",
       "style": "IPY_MODEL_33c6acf2c4e5433291ef9a78539e68b1",
       "tooltip": null
      }
     },
     "af9f7379d68b4451a7104f4cade7a802": {
      "model_module": "@jupyter-widgets/base",
      "model_module_version": "2.0.0",
      "model_name": "LayoutModel",
      "state": {}
     },
     "b0063fdc3b154ec8a30357c14ce40805": {
      "model_module": "@jupyter-widgets/controls",
      "model_module_version": "2.0.0",
      "model_name": "SliderStyleModel",
      "state": {
       "description_width": ""
      }
     },
     "b0a47614e5a64bcc9cdaa0ab42755f5f": {
      "model_module": "@jupyter-widgets/base",
      "model_module_version": "2.0.0",
      "model_name": "LayoutModel",
      "state": {}
     },
     "b10b77ee62bf4288ae1ef3108a8953a3": {
      "model_module": "@jupyter-widgets/controls",
      "model_module_version": "2.0.0",
      "model_name": "LinkModel",
      "state": {
       "source": [
        "IPY_MODEL_6514a3bb781b4477a0fb139158bc64c7",
        "value"
       ],
       "target": [
        "IPY_MODEL_58fe4ba5f4d2413fb709fa2b570fe9c7",
        "frame"
       ]
      }
     },
     "b14c7d2997304d819cd4ad1d97e2805c": {
      "model_module": "@jupyter-widgets/base",
      "model_module_version": "2.0.0",
      "model_name": "LayoutModel",
      "state": {}
     },
     "b14ef98c68e945bea8e61d5351f6c24a": {
      "model_module": "@jupyter-widgets/controls",
      "model_module_version": "2.0.0",
      "model_name": "IntSliderModel",
      "state": {
       "behavior": "drag-tap",
       "layout": "IPY_MODEL_0c820bb64571429f823be60c6831f69e",
       "max": 0,
       "style": "IPY_MODEL_00dbdf0fef1a440a99397f02575b27c3"
      }
     },
     "b3d5321654274f289be9b3dbb628ec68": {
      "model_module": "@jupyter-widgets/base",
      "model_module_version": "2.0.0",
      "model_name": "LayoutModel",
      "state": {}
     },
     "b49d27f1f82e489d9bc212d32939a652": {
      "model_module": "@jupyter-widgets/base",
      "model_module_version": "2.0.0",
      "model_name": "LayoutModel",
      "state": {}
     },
     "b542d6abd3fe405bacbbb89d59acd18a": {
      "model_module": "@jupyter-widgets/controls",
      "model_module_version": "2.0.0",
      "model_name": "LinkModel",
      "state": {
       "source": [
        "IPY_MODEL_c627495962944afea3f14e0a97b84f48",
        "max"
       ],
       "target": [
        "IPY_MODEL_8ddf59fbf23f4ce2918d2ff24a632c43",
        "max_frame"
       ]
      }
     },
     "b593e7bfce704e23b03ab9c71f34f081": {
      "model_module": "nglview-js-widgets",
      "model_module_version": "3.1.0",
      "model_name": "NGLModel",
      "state": {
       "_camera_orientation": [
        24.37495739385528,
        4.175857090270938,
        4.851396684679592,
        0,
        -4.563674959870784,
        24.730282601121047,
        1.6426726734438437,
        0,
        -4.488507891397142,
        -2.4673305844707705,
        24.675452516185935,
        0,
        -18.133000373840332,
        -6.447000026702881,
        -21.994999885559082,
        1
       ],
       "_camera_str": "orthographic",
       "_gui_theme": null,
       "_ibtn_fullscreen": "IPY_MODEL_d74477b821654889b8d2d493c4afc5b5",
       "_igui": null,
       "_iplayer": "IPY_MODEL_7154b64d22c744f389dfaf2589f43018",
       "_ngl_color_dict": {},
       "_ngl_coordinate_resource": {},
       "_ngl_full_stage_parameters": {
        "ambientColor": 14540253,
        "ambientIntensity": 0.2,
        "backgroundColor": "white",
        "cameraEyeSep": 0.3,
        "cameraFov": 40,
        "cameraType": "perspective",
        "clipDist": 10,
        "clipFar": 100,
        "clipMode": "scene",
        "clipNear": 0,
        "clipScale": "relative",
        "fogFar": 100,
        "fogNear": 50,
        "hoverTimeout": 0,
        "impostor": true,
        "lightColor": 14540253,
        "lightIntensity": 1,
        "mousePreset": "default",
        "panSpeed": 1,
        "quality": "medium",
        "rotateSpeed": 2,
        "sampleLevel": 0,
        "tooltip": true,
        "workerDefault": true,
        "zoomSpeed": 1.2
       },
       "_ngl_msg_archive": [
        {
         "args": [
          {
           "binary": false,
           "data": "REMARK   1 CREATED WITH MDTraj 1.9.6, 2024-09-05\nCRYST1   25.580   25.580   25.580  90.00  90.00  90.00 P 1           1 \nMODEL        0\nATOM      1  H1  ACE A   1      19.185   3.272  20.062  1.00  0.00           H  \nATOM      2  CH3 ACE A   1      18.852   3.056  21.077  1.00  0.00           C  \nATOM      3  H2  ACE A   1      19.711   2.965  21.742  1.00  0.00           H  \nATOM      4  H3  ACE A   1      18.267   2.137  21.094  1.00  0.00           H  \nATOM      5  C   ACE A   1      17.969   4.173  21.580  1.00  0.00           C  \nATOM      6  O   ACE A   1      16.799   3.940  21.826  1.00  0.00           O  \nATOM      7  N   ALA A   2      18.542   5.357  21.737  1.00  0.00           N  \nATOM      8  H   ALA A   2      19.537   5.432  21.581  1.00  0.00           H  \nATOM      9  CA  ALA A   2      17.848   6.546  22.226  1.00  0.00           C  \nATOM     10  HA  ALA A   2      16.778   6.439  22.048  1.00  0.00           H  \nATOM     11  CB  ALA A   2      18.056   6.616  23.749  1.00  0.00           C  \nATOM     12  HB1 ALA A   2      17.618   7.523  24.166  1.00  0.00           H  \nATOM     13  HB2 ALA A   2      19.126   6.649  23.954  1.00  0.00           H  \nATOM     14  HB3 ALA A   2      17.636   5.733  24.230  1.00  0.00           H  \nATOM     15  C   ALA A   2      18.330   7.819  21.506  1.00  0.00           C  \nATOM     16  O   ALA A   2      19.476   7.890  21.079  1.00  0.00           O  \nATOM     17  N   NME A   3      17.462   8.834  21.430  1.00  0.00           N  \nATOM     18  H   NME A   3      16.555   8.713  21.856  1.00  0.00           H  \nATOM     19  C   NME A   3      17.780  10.114  20.802  1.00  0.00           C  \nATOM     20  H1  NME A   3      16.900  10.757  20.804  1.00  0.00           H  \nATOM     21  H2  NME A   3      18.606  10.599  21.323  1.00  0.00           H  \nATOM     22  H3  NME A   3      18.047   9.939  19.760  1.00  0.00           H  \nTER      23      NME A   3\nENDMDL\nCONECT    1    2    2\nCONECT    2    5    1    3\nCONECT    2    1    5    3    4\nCONECT    3    2    2\nCONECT    4    2    2\nCONECT    5    2    6    7\nCONECT    5    6    7\nCONECT    6    5    5\nCONECT    7    5    5\nCONECT   15   17   17\nCONECT   17   15   19   18\nCONECT   17   19   18\nCONECT   18   17   17\nCONECT   19   20   21   22\nCONECT   19   17   20   21   22\nCONECT   20   19   19\nCONECT   21   19   19\nCONECT   22   19   19\nEND\n",
           "type": "blob"
          }
         ],
         "kwargs": {
          "defaultRepresentation": true,
          "ext": "pdb",
          "height": "400px",
          "width": "400px"
         },
         "methodName": "loadFile",
         "reconstruc_color_scheme": false,
         "target": "Stage",
         "type": "call_method"
        },
        {
         "args": [
          "ball+stick"
         ],
         "component_index": 0,
         "kwargs": {
          "aspectRatio": 1,
          "color": "#D55E00",
          "radius": 0.5,
          "sele": "@1,2"
         },
         "methodName": "addRepresentation",
         "reconstruc_color_scheme": false,
         "target": "compList",
         "type": "call_method"
        }
       ],
       "_ngl_original_stage_parameters": {
        "ambientColor": 14540253,
        "ambientIntensity": 0.2,
        "backgroundColor": "white",
        "cameraEyeSep": 0.3,
        "cameraFov": 40,
        "cameraType": "perspective",
        "clipDist": 10,
        "clipFar": 100,
        "clipMode": "scene",
        "clipNear": 0,
        "clipScale": "relative",
        "fogFar": 100,
        "fogNear": 50,
        "hoverTimeout": 0,
        "impostor": true,
        "lightColor": 14540253,
        "lightIntensity": 1,
        "mousePreset": "default",
        "panSpeed": 1,
        "quality": "medium",
        "rotateSpeed": 2,
        "sampleLevel": 0,
        "tooltip": true,
        "workerDefault": true,
        "zoomSpeed": 1.2
       },
       "_ngl_repr_dict": {
        "0": {
         "0": {
          "params": {
           "aspectRatio": 1.5,
           "assembly": "default",
           "bondScale": 0.3,
           "bondSpacing": 0.75,
           "clipCenter": {
            "x": 0,
            "y": 0,
            "z": 0
           },
           "clipNear": 0,
           "clipRadius": 0,
           "colorMode": "hcl",
           "colorReverse": false,
           "colorScale": "",
           "colorScheme": "element",
           "colorValue": 9474192,
           "cylinderOnly": false,
           "defaultAssembly": "",
           "depthWrite": true,
           "diffuse": 16777215,
           "diffuseInterior": false,
           "disableImpostor": false,
           "disablePicking": false,
           "flatShaded": false,
           "interiorColor": 2236962,
           "interiorDarkening": 0,
           "lazy": false,
           "lineOnly": false,
           "linewidth": 2,
           "matrix": {
            "elements": [
             1,
             0,
             0,
             0,
             0,
             1,
             0,
             0,
             0,
             0,
             1,
             0,
             0,
             0,
             0,
             1
            ]
           },
           "metalness": 0,
           "multipleBond": "off",
           "opacity": 1,
           "openEnded": true,
           "quality": "high",
           "radialSegments": 20,
           "radiusData": {},
           "radiusScale": 2,
           "radiusSize": 0.15,
           "radiusType": "size",
           "roughness": 0.4,
           "sele": "",
           "side": "double",
           "sphereDetail": 2,
           "useInteriorColor": true,
           "visible": true,
           "wireframe": false
          },
          "type": "ball+stick"
         },
         "1": {
          "params": {
           "aspectRatio": 1,
           "assembly": "default",
           "bondScale": 0.4,
           "bondSpacing": 1,
           "clipCenter": {
            "x": 0,
            "y": 0,
            "z": 0
           },
           "clipNear": 0,
           "clipRadius": 0,
           "colorMode": "hcl",
           "colorReverse": false,
           "colorScale": "",
           "colorScheme": "uniform",
           "colorValue": 13983232,
           "cylinderOnly": false,
           "defaultAssembly": "",
           "depthWrite": true,
           "diffuse": 16777215,
           "diffuseInterior": false,
           "disableImpostor": false,
           "disablePicking": false,
           "flatShaded": false,
           "interiorColor": 2236962,
           "interiorDarkening": 0,
           "lazy": false,
           "lineOnly": false,
           "linewidth": 2,
           "matrix": {
            "elements": [
             1,
             0,
             0,
             0,
             0,
             1,
             0,
             0,
             0,
             0,
             1,
             0,
             0,
             0,
             0,
             1
            ]
           },
           "metalness": 0,
           "multipleBond": "off",
           "opacity": 1,
           "openEnded": true,
           "quality": "medium",
           "radialSegments": 10,
           "radiusData": {},
           "radiusScale": 1,
           "radiusSize": 0.5,
           "radiusType": "size",
           "roughness": 0.4,
           "sele": "@1,2",
           "side": "double",
           "sphereDetail": 1,
           "useInteriorColor": true,
           "visible": true,
           "wireframe": false
          },
          "type": "ball+stick"
         }
        }
       },
       "_ngl_serialize": false,
       "_ngl_version": "2.2.2",
       "_ngl_view_id": [
        "5B4F3D19-D4D0-4E0D-B2B5-39C9743FEDBD"
       ],
       "_player_dict": {},
       "_scene_position": {},
       "_scene_rotation": {},
       "_synced_model_ids": [],
       "_synced_repr_model_ids": [],
       "_view_height": "400px",
       "_view_width": "400px",
       "background": "white",
       "frame": 0,
       "gui_style": null,
       "layout": "IPY_MODEL_b14c7d2997304d819cd4ad1d97e2805c",
       "max_frame": 0,
       "n_components": 1,
       "picked": {}
      }
     },
     "b5b12e7fab864983b3d7339f9e7da071": {
      "model_module": "@jupyter-widgets/controls",
      "model_module_version": "2.0.0",
      "model_name": "IntSliderModel",
      "state": {
       "behavior": "drag-tap",
       "layout": "IPY_MODEL_85cb1472d0ea4924bfe2ab71936707a6",
       "max": 0,
       "style": "IPY_MODEL_5353fac866b843b8bd282260fda806cf"
      }
     },
     "b60f94f7b0b0476faa5ee891018fa14e": {
      "model_module": "@jupyter-widgets/base",
      "model_module_version": "2.0.0",
      "model_name": "LayoutModel",
      "state": {}
     },
     "b6b95ba020ad483db2699be9c668c835": {
      "model_module": "@jupyter-widgets/base",
      "model_module_version": "2.0.0",
      "model_name": "LayoutModel",
      "state": {}
     },
     "b728c12c0b36475b90670bc11a6a9fa1": {
      "model_module": "@jupyter-widgets/controls",
      "model_module_version": "2.0.0",
      "model_name": "LinkModel",
      "state": {
       "source": [
        "IPY_MODEL_ae2110e966d140ef9a4a1b194497ee77",
        "max"
       ],
       "target": [
        "IPY_MODEL_2c1d27ff7e0f47719260fb5a0f4c1676",
        "max_frame"
       ]
      }
     },
     "b75e0c830e7941a2b4d1e6e46bb37b9b": {
      "model_module": "@jupyter-widgets/controls",
      "model_module_version": "2.0.0",
      "model_name": "LinkModel",
      "state": {
       "source": [
        "IPY_MODEL_558ce2ed93844e3f8732ec0fc517a258",
        "max"
       ],
       "target": [
        "IPY_MODEL_7f831056af254e218f21207aef749d74",
        "max_frame"
       ]
      }
     },
     "b7d4af1ce17147adad1f24de15036634": {
      "model_module": "@jupyter-widgets/controls",
      "model_module_version": "2.0.0",
      "model_name": "ButtonStyleModel",
      "state": {
       "font_family": null,
       "font_size": null,
       "font_style": null,
       "font_variant": null,
       "font_weight": null,
       "text_color": null,
       "text_decoration": null
      }
     },
     "b8e5707f13554fa9844657d0123686a7": {
      "model_module": "@jupyter-widgets/base",
      "model_module_version": "2.0.0",
      "model_name": "LayoutModel",
      "state": {}
     },
     "b99c5fe25ee74ce390a234e116a09119": {
      "model_module": "@jupyter-widgets/controls",
      "model_module_version": "2.0.0",
      "model_name": "IntSliderModel",
      "state": {
       "behavior": "drag-tap",
       "layout": "IPY_MODEL_655cf1a6a7684300b4d6739caf684ab6",
       "max": 0,
       "style": "IPY_MODEL_1dc49933e6154537946889d2348309fb"
      }
     },
     "ba1220df3af9479b958266d821fa8462": {
      "model_module": "@jupyter-widgets/controls",
      "model_module_version": "2.0.0",
      "model_name": "PlayModel",
      "state": {
       "layout": "IPY_MODEL_c7c52f4d5a1042e2a44994b5f606cea4",
       "max": 0,
       "style": "IPY_MODEL_ce6c6be1876b452da2c2bdeb738a84ab"
      }
     },
     "ba65cd2837c640309c5a92e38706eae5": {
      "model_module": "@jupyter-widgets/controls",
      "model_module_version": "2.0.0",
      "model_name": "ButtonModel",
      "state": {
       "icon": "compress",
       "layout": "IPY_MODEL_94d2ae6a7f6146d08469eb67c6cba6ef",
       "style": "IPY_MODEL_fa6f9c5a504e4f05b8ca24549d350b82",
       "tooltip": null
      }
     },
     "bbee9350767f44dda06c3ed70eadb3e2": {
      "model_module": "@jupyter-widgets/base",
      "model_module_version": "2.0.0",
      "model_name": "LayoutModel",
      "state": {}
     },
     "bcf0660e8e414e65983cc3e9c01b57f8": {
      "model_module": "@jupyter-widgets/base",
      "model_module_version": "2.0.0",
      "model_name": "LayoutModel",
      "state": {}
     },
     "bd2edefa41b645259e56b50a11b3167d": {
      "model_module": "@jupyter-widgets/controls",
      "model_module_version": "2.0.0",
      "model_name": "ButtonStyleModel",
      "state": {
       "font_family": null,
       "font_size": null,
       "font_style": null,
       "font_variant": null,
       "font_weight": null,
       "text_color": null,
       "text_decoration": null
      }
     },
     "bd4825cc0b8a46f29bc2452024fe823c": {
      "model_module": "@jupyter-widgets/base",
      "model_module_version": "2.0.0",
      "model_name": "LayoutModel",
      "state": {}
     },
     "be282a90a2664f9b86f002dc227c7dc5": {
      "model_module": "@jupyter-widgets/base",
      "model_module_version": "2.0.0",
      "model_name": "LayoutModel",
      "state": {}
     },
     "c015d4cea933453a822b4079338ec761": {
      "model_module": "@jupyter-widgets/controls",
      "model_module_version": "2.0.0",
      "model_name": "DescriptionStyleModel",
      "state": {
       "description_width": ""
      }
     },
     "c05eae5973e1439badc2b8e90edb22c4": {
      "model_module": "@jupyter-widgets/base",
      "model_module_version": "2.0.0",
      "model_name": "LayoutModel",
      "state": {}
     },
     "c14d62e5d12d475cbef40b4f5a6cb491": {
      "model_module": "@jupyter-widgets/base",
      "model_module_version": "2.0.0",
      "model_name": "LayoutModel",
      "state": {}
     },
     "c231e061c157445b928e306cdd44ba8f": {
      "model_module": "@jupyter-widgets/base",
      "model_module_version": "2.0.0",
      "model_name": "LayoutModel",
      "state": {}
     },
     "c299cc64ea924ceaa931b177bcc33681": {
      "model_module": "@jupyter-widgets/controls",
      "model_module_version": "2.0.0",
      "model_name": "LinkModel",
      "state": {
       "source": [
        "IPY_MODEL_975aa9841c124da78d7d97bf887938b6",
        "max"
       ],
       "target": [
        "IPY_MODEL_5ba57b8b61f44b3a9b02b462f5873d05",
        "max_frame"
       ]
      }
     },
     "c38afd17478843f5b2d8ae8ef1eb1fc8": {
      "model_module": "@jupyter-widgets/base",
      "model_module_version": "2.0.0",
      "model_name": "LayoutModel",
      "state": {}
     },
     "c3e929bcfdf64bcc915fdf4fb978c77c": {
      "model_module": "@jupyter-widgets/controls",
      "model_module_version": "2.0.0",
      "model_name": "LinkModel",
      "state": {
       "source": [
        "IPY_MODEL_4565a23c29434ce7bf02288396882fce",
        "value"
       ],
       "target": [
        "IPY_MODEL_88246165545d45019ae3a4bad1c2370f",
        "frame"
       ]
      }
     },
     "c49fb676a1094905a9984f0d0fb67eb2": {
      "model_module": "@jupyter-widgets/controls",
      "model_module_version": "2.0.0",
      "model_name": "DescriptionStyleModel",
      "state": {
       "description_width": ""
      }
     },
     "c520ed74e208441ba4f9a6fb30d32200": {
      "model_module": "@jupyter-widgets/controls",
      "model_module_version": "2.0.0",
      "model_name": "LinkModel",
      "state": {
       "source": [
        "IPY_MODEL_c7873a9f0d02497e8ad941d17e9622cb",
        "value"
       ],
       "target": [
        "IPY_MODEL_7f831056af254e218f21207aef749d74",
        "frame"
       ]
      }
     },
     "c561742f4e8544a493af9d56cee09b96": {
      "model_module": "@jupyter-widgets/controls",
      "model_module_version": "2.0.0",
      "model_name": "PlayModel",
      "state": {
       "layout": "IPY_MODEL_ed004de9204742aa8fa900bae34a8ff9",
       "max": 0,
       "style": "IPY_MODEL_c49fb676a1094905a9984f0d0fb67eb2"
      }
     },
     "c5eebec816f242a883d680bdee7ee25e": {
      "model_module": "@jupyter-widgets/controls",
      "model_module_version": "2.0.0",
      "model_name": "LinkModel",
      "state": {
       "source": [
        "IPY_MODEL_966f7a3d4bd549279d34c44df7211a98",
        "value"
       ],
       "target": [
        "IPY_MODEL_3bb1b48b94c14f88b62bca15ace8bf98",
        "value"
       ]
      }
     },
     "c627495962944afea3f14e0a97b84f48": {
      "model_module": "@jupyter-widgets/controls",
      "model_module_version": "2.0.0",
      "model_name": "PlayModel",
      "state": {
       "layout": "IPY_MODEL_cb0dcc1ba04d4a34859767d6daabce39",
       "max": 0,
       "style": "IPY_MODEL_8f6abc14bda04d888559734a4084cba6"
      }
     },
     "c6a6bd62691646f7871aec680db9180e": {
      "model_module": "@jupyter-widgets/controls",
      "model_module_version": "2.0.0",
      "model_name": "ButtonStyleModel",
      "state": {
       "font_family": null,
       "font_size": null,
       "font_style": null,
       "font_variant": null,
       "font_weight": null,
       "text_color": null,
       "text_decoration": null
      }
     },
     "c75fc1a18ab44eab9c772a6d04b32550": {
      "model_module": "@jupyter-widgets/controls",
      "model_module_version": "2.0.0",
      "model_name": "LinkModel",
      "state": {
       "source": [
        "IPY_MODEL_6514a3bb781b4477a0fb139158bc64c7",
        "value"
       ],
       "target": [
        "IPY_MODEL_4be28181933341a5a13e0e62589dbf50",
        "value"
       ]
      }
     },
     "c7873a9f0d02497e8ad941d17e9622cb": {
      "model_module": "@jupyter-widgets/controls",
      "model_module_version": "2.0.0",
      "model_name": "PlayModel",
      "state": {
       "layout": "IPY_MODEL_8cbcbefecc564e3c88c1cbff123a0868",
       "max": 0,
       "style": "IPY_MODEL_a8ef9916862f4b28a758c298b1d12a7e"
      }
     },
     "c7c52f4d5a1042e2a44994b5f606cea4": {
      "model_module": "@jupyter-widgets/base",
      "model_module_version": "2.0.0",
      "model_name": "LayoutModel",
      "state": {}
     },
     "c89d59d76cbd468791fb2ff4e20206ff": {
      "model_module": "@jupyter-widgets/controls",
      "model_module_version": "2.0.0",
      "model_name": "LinkModel",
      "state": {
       "source": [
        "IPY_MODEL_ac19fbe8495d4ee9a398b27e97fc0780",
        "value"
       ],
       "target": [
        "IPY_MODEL_18a9ebdb7b384db8a6742191b337e0e6",
        "frame"
       ]
      }
     },
     "c951047270c648daa444d5188cec21cd": {
      "model_module": "@jupyter-widgets/base",
      "model_module_version": "2.0.0",
      "model_name": "LayoutModel",
      "state": {}
     },
     "cadb18f58684454abf0d7d84b7ea1659": {
      "model_module": "@jupyter-widgets/controls",
      "model_module_version": "2.0.0",
      "model_name": "PlayModel",
      "state": {
       "layout": "IPY_MODEL_88ff47fa89fa44659eae0bfbb54510d7",
       "max": 0,
       "style": "IPY_MODEL_5946e75b77af42678f139ae131c194cf"
      }
     },
     "cb0dcc1ba04d4a34859767d6daabce39": {
      "model_module": "@jupyter-widgets/base",
      "model_module_version": "2.0.0",
      "model_name": "LayoutModel",
      "state": {}
     },
     "cb6d7b098f6a4cd5985f4ee7dbb6f62a": {
      "model_module": "@jupyter-widgets/base",
      "model_module_version": "2.0.0",
      "model_name": "LayoutModel",
      "state": {}
     },
     "cc430e5f72434d0c8d215e907667ee4f": {
      "model_module": "@jupyter-widgets/controls",
      "model_module_version": "2.0.0",
      "model_name": "DescriptionStyleModel",
      "state": {
       "description_width": ""
      }
     },
     "ccdf425c9f514219814690f3de324d58": {
      "model_module": "@jupyter-widgets/base",
      "model_module_version": "2.0.0",
      "model_name": "LayoutModel",
      "state": {}
     },
     "ce5936d1b05d4046a57d4dc241f212bf": {
      "model_module": "@jupyter-widgets/base",
      "model_module_version": "2.0.0",
      "model_name": "LayoutModel",
      "state": {}
     },
     "ce6c6be1876b452da2c2bdeb738a84ab": {
      "model_module": "@jupyter-widgets/controls",
      "model_module_version": "2.0.0",
      "model_name": "DescriptionStyleModel",
      "state": {
       "description_width": ""
      }
     },
     "ce9f4ace29ac4d8c96650cdfae50671a": {
      "model_module": "@jupyter-widgets/controls",
      "model_module_version": "2.0.0",
      "model_name": "ButtonModel",
      "state": {
       "icon": "compress",
       "layout": "IPY_MODEL_a809886c4a77481e922c31b314d87f2f",
       "style": "IPY_MODEL_12feec7a4b4943ab830d07681490a7ed",
       "tooltip": null
      }
     },
     "cf009b2ca84e429ea7ce10fb7a1d57c7": {
      "model_module": "@jupyter-widgets/controls",
      "model_module_version": "2.0.0",
      "model_name": "ButtonStyleModel",
      "state": {
       "font_family": null,
       "font_size": null,
       "font_style": null,
       "font_variant": null,
       "font_weight": null,
       "text_color": null,
       "text_decoration": null
      }
     },
     "d0c257ac09a64c0a89e5c10c0fe154fd": {
      "model_module": "@jupyter-widgets/controls",
      "model_module_version": "2.0.0",
      "model_name": "SliderStyleModel",
      "state": {
       "description_width": ""
      }
     },
     "d0d29fbc45524bcba5e6e27ec3635d38": {
      "model_module": "@jupyter-widgets/base",
      "model_module_version": "2.0.0",
      "model_name": "LayoutModel",
      "state": {}
     },
     "d1e739fd09424ea6a0c0286ebbe7f83b": {
      "model_module": "@jupyter-widgets/base",
      "model_module_version": "2.0.0",
      "model_name": "LayoutModel",
      "state": {
       "width": "34px"
      }
     },
     "d2968f1847e34a0f9676258672ca5879": {
      "model_module": "@jupyter-widgets/base",
      "model_module_version": "2.0.0",
      "model_name": "LayoutModel",
      "state": {}
     },
     "d2aca2ad776149b4aad04a1b0ea9bbae": {
      "model_module": "@jupyter-widgets/controls",
      "model_module_version": "2.0.0",
      "model_name": "LinkModel",
      "state": {
       "source": [
        "IPY_MODEL_ed47b139d2a6431aa0c3462ceb87cb9e",
        "value"
       ],
       "target": [
        "IPY_MODEL_06f0288fae4546ebb144ed12898433c3",
        "value"
       ]
      }
     },
     "d4f4e47c0c2a4b46a366f0556d65725f": {
      "model_module": "@jupyter-widgets/controls",
      "model_module_version": "2.0.0",
      "model_name": "ImageModel",
      "state": {
       "layout": "IPY_MODEL_d0d29fbc45524bcba5e6e27ec3635d38",
       "width": "900.0"
      }
     },
     "d5f737b449144f0ab7453de9ca20610c": {
      "model_module": "@jupyter-widgets/base",
      "model_module_version": "2.0.0",
      "model_name": "LayoutModel",
      "state": {}
     },
     "d60db5bbedcc42dfb3fbb991d1e848c8": {
      "model_module": "@jupyter-widgets/controls",
      "model_module_version": "2.0.0",
      "model_name": "ImageModel",
      "state": {
       "layout": "IPY_MODEL_b3d5321654274f289be9b3dbb628ec68",
       "width": "900.0"
      }
     },
     "d74477b821654889b8d2d493c4afc5b5": {
      "model_module": "@jupyter-widgets/controls",
      "model_module_version": "2.0.0",
      "model_name": "ButtonModel",
      "state": {
       "icon": "compress",
       "layout": "IPY_MODEL_862ebf8dd63848d18d59e38c1529e68e",
       "style": "IPY_MODEL_8b06704e8e7249a6939580364735c1b6",
       "tooltip": null
      }
     },
     "d8ae9e2c57124d618e6869c217b7a8f6": {
      "model_module": "@jupyter-widgets/base",
      "model_module_version": "2.0.0",
      "model_name": "LayoutModel",
      "state": {
       "width": "34px"
      }
     },
     "d940ef4051874b9f85b2134949d400e5": {
      "model_module": "@jupyter-widgets/controls",
      "model_module_version": "2.0.0",
      "model_name": "LinkModel",
      "state": {
       "source": [
        "IPY_MODEL_ed47b139d2a6431aa0c3462ceb87cb9e",
        "value"
       ],
       "target": [
        "IPY_MODEL_773f72c9b38b47de8b45a4d700730a0a",
        "frame"
       ]
      }
     },
     "d973bb213cfd42baacf0b9fe2c0ea060": {
      "model_module": "@jupyter-widgets/controls",
      "model_module_version": "2.0.0",
      "model_name": "ImageModel",
      "state": {
       "layout": "IPY_MODEL_7c51472e42df42e587465f7059429c41",
       "width": "900.0"
      }
     },
     "da35940138654cc19c539f3c6c6b9372": {
      "model_module": "@jupyter-widgets/controls",
      "model_module_version": "2.0.0",
      "model_name": "IntSliderModel",
      "state": {
       "behavior": "drag-tap",
       "layout": "IPY_MODEL_55808c5005da4b8fa1c77a3f21c1d058",
       "max": 0,
       "style": "IPY_MODEL_091f77453e3348e59267240944018157"
      }
     },
     "db0b9afb6ec54b5797bfff35f874aedf": {
      "model_module": "@jupyter-widgets/controls",
      "model_module_version": "2.0.0",
      "model_name": "LinkModel",
      "state": {
       "source": [
        "IPY_MODEL_f9743966ffc04142b28b8b284c64c2a1",
        "max"
       ],
       "target": [
        "IPY_MODEL_b593e7bfce704e23b03ab9c71f34f081",
        "max_frame"
       ]
      }
     },
     "dc314459c6fc49f4b734097329a384eb": {
      "model_module": "@jupyter-widgets/base",
      "model_module_version": "2.0.0",
      "model_name": "LayoutModel",
      "state": {}
     },
     "ddd410aea83a48c89b9bc9eb639fa889": {
      "model_module": "@jupyter-widgets/controls",
      "model_module_version": "2.0.0",
      "model_name": "LinkModel",
      "state": {
       "source": [
        "IPY_MODEL_966f7a3d4bd549279d34c44df7211a98",
        "max"
       ],
       "target": [
        "IPY_MODEL_3311adab638f489da24eebac36a35f49",
        "max_frame"
       ]
      }
     },
     "de292abb5f114051b9d5b45df0411fc4": {
      "model_module": "@jupyter-widgets/controls",
      "model_module_version": "2.0.0",
      "model_name": "HBoxModel",
      "state": {
       "children": [
        "IPY_MODEL_6514a3bb781b4477a0fb139158bc64c7",
        "IPY_MODEL_4be28181933341a5a13e0e62589dbf50"
       ],
       "layout": "IPY_MODEL_90f2752fc81e4293b9b4bbddc5eba6c7"
      }
     },
     "de6535454c1f4dd895b5b08d37de87e1": {
      "model_module": "@jupyter-widgets/controls",
      "model_module_version": "2.0.0",
      "model_name": "LinkModel",
      "state": {
       "source": [
        "IPY_MODEL_eb130879c154439bbf97ef98e9209260",
        "value"
       ],
       "target": [
        "IPY_MODEL_6e009bc4ea4940408d4bd6e8945827a6",
        "frame"
       ]
      }
     },
     "de9cea084d974884a04fb81b24f09622": {
      "model_module": "@jupyter-widgets/controls",
      "model_module_version": "2.0.0",
      "model_name": "ButtonStyleModel",
      "state": {
       "font_family": null,
       "font_size": null,
       "font_style": null,
       "font_variant": null,
       "font_weight": null,
       "text_color": null,
       "text_decoration": null
      }
     },
     "ded6875f417040d09dbcbaf66097af98": {
      "model_module": "@jupyter-widgets/base",
      "model_module_version": "2.0.0",
      "model_name": "LayoutModel",
      "state": {
       "width": "34px"
      }
     },
     "df8d774acff54490910870d148c71e7a": {
      "model_module": "@jupyter-widgets/controls",
      "model_module_version": "2.0.0",
      "model_name": "ButtonStyleModel",
      "state": {
       "font_family": null,
       "font_size": null,
       "font_style": null,
       "font_variant": null,
       "font_weight": null,
       "text_color": null,
       "text_decoration": null
      }
     },
     "dfcdfb87b5584362bb1695e326c7c98e": {
      "model_module": "@jupyter-widgets/base",
      "model_module_version": "2.0.0",
      "model_name": "LayoutModel",
      "state": {
       "width": "34px"
      }
     },
     "dfecaaf0333b4dd0b58539e98051bd3c": {
      "model_module": "@jupyter-widgets/controls",
      "model_module_version": "2.0.0",
      "model_name": "SliderStyleModel",
      "state": {
       "description_width": ""
      }
     },
     "e195414cd2134b398971f3dd803522e1": {
      "model_module": "@jupyter-widgets/controls",
      "model_module_version": "2.0.0",
      "model_name": "ButtonModel",
      "state": {
       "icon": "compress",
       "layout": "IPY_MODEL_d1e739fd09424ea6a0c0286ebbe7f83b",
       "style": "IPY_MODEL_bd2edefa41b645259e56b50a11b3167d",
       "tooltip": null
      }
     },
     "e1df9bb7abbb428bbf6b97054d7bc81b": {
      "model_module": "@jupyter-widgets/base",
      "model_module_version": "2.0.0",
      "model_name": "LayoutModel",
      "state": {}
     },
     "e20e144f06354dbeb5d5e745ed3dd1e7": {
      "model_module": "nglview-js-widgets",
      "model_module_version": "3.1.0",
      "model_name": "ColormakerRegistryModel",
      "state": {
       "_msg_ar": [],
       "_msg_q": [],
       "_ready": true,
       "layout": "IPY_MODEL_1718cea1a4bb461482ce5b8853301cc8"
      }
     },
     "e35f478b975545c5bb3b20d26c454fd6": {
      "model_module": "@jupyter-widgets/base",
      "model_module_version": "2.0.0",
      "model_name": "LayoutModel",
      "state": {}
     },
     "e50226e5801d4a6f8651f7ef499e1e3d": {
      "model_module": "@jupyter-widgets/controls",
      "model_module_version": "2.0.0",
      "model_name": "DescriptionStyleModel",
      "state": {
       "description_width": ""
      }
     },
     "e5a27927480843ea97005fafbbb93ed8": {
      "model_module": "nglview-js-widgets",
      "model_module_version": "3.1.0",
      "model_name": "NGLModel",
      "state": {
       "_camera_orientation": [
        22.822468426697625,
        0,
        0,
        0,
        0,
        22.822468426697625,
        0,
        0,
        0,
        0,
        22.822468426697625,
        0,
        -13.975999355316162,
        -15.923500061035156,
        3.4434999227523804,
        1
       ],
       "_camera_str": "orthographic",
       "_gui_theme": null,
       "_ibtn_fullscreen": "IPY_MODEL_020d6452125d4af5baeff4a9cf01c5d0",
       "_igui": null,
       "_iplayer": "IPY_MODEL_3eddce4ca87f465d87843255506c3ba8",
       "_ngl_color_dict": {},
       "_ngl_coordinate_resource": {},
       "_ngl_full_stage_parameters": {
        "ambientColor": 14540253,
        "ambientIntensity": 0.2,
        "backgroundColor": "white",
        "cameraEyeSep": 0.3,
        "cameraFov": 40,
        "cameraType": "perspective",
        "clipDist": 10,
        "clipFar": 100,
        "clipMode": "scene",
        "clipNear": 0,
        "clipScale": "relative",
        "fogFar": 100,
        "fogNear": 50,
        "hoverTimeout": 0,
        "impostor": true,
        "lightColor": 14540253,
        "lightIntensity": 1,
        "mousePreset": "default",
        "panSpeed": 1,
        "quality": "medium",
        "rotateSpeed": 2,
        "sampleLevel": 0,
        "tooltip": true,
        "workerDefault": true,
        "zoomSpeed": 1.2
       },
       "_ngl_msg_archive": [
        {
         "args": [
          {
           "binary": false,
           "data": "REMARK   1 CREATED WITH MDTraj 1.9.6, 2021-09-14\nCRYST1   20.233   20.233   20.233  90.00  90.00  90.00 P 1           1 \nMODEL        0\nATOM      1  H1  ACE A   1      16.384  14.081  -5.858  1.00  0.00           H  \nATOM      2  CH3 ACE A   1      16.530  14.752  -5.012  1.00  0.00           C  \nATOM      3  H2  ACE A   1      17.262  15.508  -5.297  1.00  0.00           H  \nATOM      4  H3  ACE A   1      16.909  14.174  -4.169  1.00  0.00           H  \nATOM      5  C   ACE A   1      15.200  15.391  -4.663  1.00  0.00           C  \nATOM      6  O   ACE A   1      14.169  14.948  -5.147  1.00  0.00           O  \nATOM      7  N   ALA A   2      15.223  16.439  -3.824  1.00  0.00           N  \nATOM      8  H   ALA A   2      16.138  16.741  -3.522  1.00  0.00           H  \nATOM      9  CA  ALA A   2      14.061  17.185  -3.253  1.00  0.00           C  \nATOM     10  HA  ALA A   2      14.475  17.918  -2.560  1.00  0.00           H  \nATOM     11  CB  ALA A   2      13.353  17.961  -4.365  1.00  0.00           C  \nATOM     12  HB1 ALA A   2      12.564  18.580  -3.938  1.00  0.00           H  \nATOM     13  HB2 ALA A   2      14.090  18.590  -4.865  1.00  0.00           H  \nATOM     14  HB3 ALA A   2      12.926  17.296  -5.116  1.00  0.00           H  \nATOM     15  C   ALA A   2      13.036  16.370  -2.426  1.00  0.00           C  \nATOM     16  O   ALA A   2      12.568  16.879  -1.404  1.00  0.00           O  \nATOM     17  N   NME A   3      12.674  15.159  -2.814  1.00  0.00           N  \nATOM     18  H   NME A   3      13.075  14.848  -3.687  1.00  0.00           H  \nATOM     19  C   NME A   3      11.703  14.298  -2.109  1.00  0.00           C  \nATOM     20  H1  NME A   3      10.690  14.587  -2.391  1.00  0.00           H  \nATOM     21  H2  NME A   3      11.856  13.257  -2.395  1.00  0.00           H  \nATOM     22  H3  NME A   3      11.817  14.384  -1.029  1.00  0.00           H  \nTER      23      NME A   3\nENDMDL\nCONECT    1    2\nCONECT    2    3    4    5\nCONECT    5    6    6    7\nCONECT    7    8    9\nCONECT    9   10   11   15\nCONECT   11   12   13   14\nCONECT   15   16   16   17\nCONECT   17   18   19\nCONECT   19   20   21   22\nEND",
           "type": "blob"
          }
         ],
         "kwargs": {
          "defaultRepresentation": true,
          "ext": "pdb",
          "height": "400px",
          "width": "400px"
         },
         "methodName": "loadFile",
         "reconstruc_color_scheme": false,
         "target": "Stage",
         "type": "call_method"
        },
        {
         "args": [
          "ball+stick"
         ],
         "component_index": 0,
         "kwargs": {
          "aspectRatio": 1,
          "color": "#0072B2",
          "radius": 0.5,
          "sele": "@4,6,8,10"
         },
         "methodName": "addRepresentation",
         "reconstruc_color_scheme": false,
         "target": "compList",
         "type": "call_method"
        }
       ],
       "_ngl_original_stage_parameters": {
        "ambientColor": 14540253,
        "ambientIntensity": 0.2,
        "backgroundColor": "white",
        "cameraEyeSep": 0.3,
        "cameraFov": 40,
        "cameraType": "perspective",
        "clipDist": 10,
        "clipFar": 100,
        "clipMode": "scene",
        "clipNear": 0,
        "clipScale": "relative",
        "fogFar": 100,
        "fogNear": 50,
        "hoverTimeout": 0,
        "impostor": true,
        "lightColor": 14540253,
        "lightIntensity": 1,
        "mousePreset": "default",
        "panSpeed": 1,
        "quality": "medium",
        "rotateSpeed": 2,
        "sampleLevel": 0,
        "tooltip": true,
        "workerDefault": true,
        "zoomSpeed": 1.2
       },
       "_ngl_repr_dict": {
        "0": {
         "0": {
          "params": {
           "aspectRatio": 1.5,
           "assembly": "default",
           "bondScale": 0.3,
           "bondSpacing": 0.75,
           "clipCenter": {
            "x": 0,
            "y": 0,
            "z": 0
           },
           "clipNear": 0,
           "clipRadius": 0,
           "colorMode": "hcl",
           "colorReverse": false,
           "colorScale": "",
           "colorScheme": "element",
           "colorValue": 9474192,
           "cylinderOnly": false,
           "defaultAssembly": "",
           "depthWrite": true,
           "diffuse": 16777215,
           "diffuseInterior": false,
           "disableImpostor": false,
           "disablePicking": false,
           "flatShaded": false,
           "interiorColor": 2236962,
           "interiorDarkening": 0,
           "lazy": false,
           "lineOnly": false,
           "linewidth": 2,
           "matrix": {
            "elements": [
             1,
             0,
             0,
             0,
             0,
             1,
             0,
             0,
             0,
             0,
             1,
             0,
             0,
             0,
             0,
             1
            ]
           },
           "metalness": 0,
           "multipleBond": "off",
           "opacity": 1,
           "openEnded": true,
           "quality": "high",
           "radialSegments": 20,
           "radiusData": {},
           "radiusScale": 2,
           "radiusSize": 0.15,
           "radiusType": "size",
           "roughness": 0.4,
           "sele": "",
           "side": "double",
           "sphereDetail": 2,
           "useInteriorColor": true,
           "visible": true,
           "wireframe": false
          },
          "type": "ball+stick"
         },
         "1": {
          "params": {
           "aspectRatio": 1,
           "assembly": "default",
           "bondScale": 0.4,
           "bondSpacing": 1,
           "clipCenter": {
            "x": 0,
            "y": 0,
            "z": 0
           },
           "clipNear": 0,
           "clipRadius": 0,
           "colorMode": "hcl",
           "colorReverse": false,
           "colorScale": "",
           "colorScheme": "uniform",
           "colorValue": 29362,
           "cylinderOnly": false,
           "defaultAssembly": "",
           "depthWrite": true,
           "diffuse": 16777215,
           "diffuseInterior": false,
           "disableImpostor": false,
           "disablePicking": false,
           "flatShaded": false,
           "interiorColor": 2236962,
           "interiorDarkening": 0,
           "lazy": false,
           "lineOnly": false,
           "linewidth": 2,
           "matrix": {
            "elements": [
             1,
             0,
             0,
             0,
             0,
             1,
             0,
             0,
             0,
             0,
             1,
             0,
             0,
             0,
             0,
             1
            ]
           },
           "metalness": 0,
           "multipleBond": "off",
           "opacity": 1,
           "openEnded": true,
           "quality": "medium",
           "radialSegments": 10,
           "radiusData": {},
           "radiusScale": 1,
           "radiusSize": 0.5,
           "radiusType": "size",
           "roughness": 0.4,
           "sele": "@4,6,8,10",
           "side": "double",
           "sphereDetail": 1,
           "useInteriorColor": true,
           "visible": true,
           "wireframe": false
          },
          "type": "ball+stick"
         }
        }
       },
       "_ngl_serialize": false,
       "_ngl_version": "2.2.2",
       "_ngl_view_id": [
        "743552F5-00C1-47BA-9EC6-65989C12243F"
       ],
       "_player_dict": {},
       "_scene_position": {},
       "_scene_rotation": {},
       "_synced_model_ids": [],
       "_synced_repr_model_ids": [],
       "_view_height": "400px",
       "_view_width": "400px",
       "background": "white",
       "frame": 0,
       "gui_style": null,
       "layout": "IPY_MODEL_a2556f352aa945ca9c0b0e57b62710c2",
       "max_frame": 0,
       "n_components": 1,
       "picked": {}
      }
     },
     "e650c08e617a49a8be9ce325cf3b53fe": {
      "model_module": "@jupyter-widgets/controls",
      "model_module_version": "2.0.0",
      "model_name": "LinkModel",
      "state": {
       "source": [
        "IPY_MODEL_4be28181933341a5a13e0e62589dbf50",
        "max"
       ],
       "target": [
        "IPY_MODEL_58fe4ba5f4d2413fb709fa2b570fe9c7",
        "max_frame"
       ]
      }
     },
     "e8b00eae68754c04b5eb9e9162b48d82": {
      "model_module": "@jupyter-widgets/base",
      "model_module_version": "2.0.0",
      "model_name": "LayoutModel",
      "state": {}
     },
     "e9625b31a8ec46eaaf3f3982fa297488": {
      "model_module": "@jupyter-widgets/controls",
      "model_module_version": "2.0.0",
      "model_name": "LinkModel",
      "state": {
       "source": [
        "IPY_MODEL_c7873a9f0d02497e8ad941d17e9622cb",
        "max"
       ],
       "target": [
        "IPY_MODEL_7f831056af254e218f21207aef749d74",
        "max_frame"
       ]
      }
     },
     "eb0e5fa11a484db195c953f1c8a6d7ab": {
      "model_module": "@jupyter-widgets/controls",
      "model_module_version": "2.0.0",
      "model_name": "SliderStyleModel",
      "state": {
       "description_width": ""
      }
     },
     "eb130879c154439bbf97ef98e9209260": {
      "model_module": "@jupyter-widgets/controls",
      "model_module_version": "2.0.0",
      "model_name": "PlayModel",
      "state": {
       "layout": "IPY_MODEL_770a967221cf43a89a3da7856bc07af1",
       "max": 0,
       "style": "IPY_MODEL_9b67a4bfee7a4a5aaf3fd9b156ba2bbe"
      }
     },
     "eb8cac5fd5dd4b9abbd25d7f18b86246": {
      "model_module": "@jupyter-widgets/base",
      "model_module_version": "2.0.0",
      "model_name": "LayoutModel",
      "state": {}
     },
     "ec30de0efe5944ad9f5da69af3542c1d": {
      "model_module": "@jupyter-widgets/base",
      "model_module_version": "2.0.0",
      "model_name": "LayoutModel",
      "state": {
       "width": "34px"
      }
     },
     "ed004de9204742aa8fa900bae34a8ff9": {
      "model_module": "@jupyter-widgets/base",
      "model_module_version": "2.0.0",
      "model_name": "LayoutModel",
      "state": {}
     },
     "ed47b139d2a6431aa0c3462ceb87cb9e": {
      "model_module": "@jupyter-widgets/controls",
      "model_module_version": "2.0.0",
      "model_name": "PlayModel",
      "state": {
       "layout": "IPY_MODEL_c951047270c648daa444d5188cec21cd",
       "max": 0,
       "style": "IPY_MODEL_fca56f60fb604fc180d4e4aa7f89b630"
      }
     },
     "ee19e5b991314db5afcb4abc0c5fa085": {
      "model_module": "@jupyter-widgets/controls",
      "model_module_version": "2.0.0",
      "model_name": "HBoxModel",
      "state": {
       "children": [
        "IPY_MODEL_ac19fbe8495d4ee9a398b27e97fc0780",
        "IPY_MODEL_b99c5fe25ee74ce390a234e116a09119"
       ],
       "layout": "IPY_MODEL_9f2b4008a8964b0faed6c703245063db"
      }
     },
     "ee6bf5f5f71e4a91bca7d67537487240": {
      "model_module": "@jupyter-widgets/controls",
      "model_module_version": "2.0.0",
      "model_name": "SliderStyleModel",
      "state": {
       "description_width": ""
      }
     },
     "eef2fdb394e341ff9c8e83099b4cc92b": {
      "model_module": "@jupyter-widgets/controls",
      "model_module_version": "2.0.0",
      "model_name": "ButtonStyleModel",
      "state": {
       "font_family": null,
       "font_size": null,
       "font_style": null,
       "font_variant": null,
       "font_weight": null,
       "text_color": null,
       "text_decoration": null
      }
     },
     "f281cd5f19314e6b8491d80eb7447b43": {
      "model_module": "@jupyter-widgets/base",
      "model_module_version": "2.0.0",
      "model_name": "LayoutModel",
      "state": {
       "width": "34px"
      }
     },
     "f2f9e80cdb13424797a62e1211f6c9dd": {
      "model_module": "@jupyter-widgets/base",
      "model_module_version": "2.0.0",
      "model_name": "LayoutModel",
      "state": {
       "width": "34px"
      }
     },
     "f3bb7761ce3e402e8a0df6a0b1e74090": {
      "model_module": "@jupyter-widgets/controls",
      "model_module_version": "2.0.0",
      "model_name": "LinkModel",
      "state": {
       "source": [
        "IPY_MODEL_a01d9710bcd84badbddcf4468a06b05d",
        "value"
       ],
       "target": [
        "IPY_MODEL_76659b8072a84b51a8108a1248a9a2c5",
        "value"
       ]
      }
     },
     "f497a2160f3647b79aa8b0cc575083b9": {
      "model_module": "@jupyter-widgets/controls",
      "model_module_version": "2.0.0",
      "model_name": "ButtonStyleModel",
      "state": {
       "font_family": null,
       "font_size": null,
       "font_style": null,
       "font_variant": null,
       "font_weight": null,
       "text_color": null,
       "text_decoration": null
      }
     },
     "f6ee30aa51154407977cb3e132e82c27": {
      "model_module": "@jupyter-widgets/base",
      "model_module_version": "2.0.0",
      "model_name": "LayoutModel",
      "state": {
       "width": "34px"
      }
     },
     "f77396bafdd24b83a7c2ccb84c7d0ac3": {
      "model_module": "nglview-js-widgets",
      "model_module_version": "3.1.0",
      "model_name": "NGLModel",
      "state": {
       "_camera_orientation": [
        6.425914421547188,
        -12.855884145382309,
        -20.701358575470564,
        0,
        -20.24253922270957,
        -14.735333324472153,
        2.867392163014677,
        0,
        -13.566857036424057,
        15.896810209597396,
        -14.083472423235104,
        0,
        -18.133000373840332,
        -6.447000026702881,
        -21.994999885559082,
        1
       ],
       "_camera_str": "orthographic",
       "_gui_theme": null,
       "_ibtn_fullscreen": "IPY_MODEL_06bb6ac516f0475a8cb35d1d2a6fccd0",
       "_igui": null,
       "_iplayer": "IPY_MODEL_88f3014d2350460084d504df3bf745e1",
       "_ngl_color_dict": {},
       "_ngl_coordinate_resource": {},
       "_ngl_full_stage_parameters": {
        "ambientColor": 14540253,
        "ambientIntensity": 0.2,
        "backgroundColor": "white",
        "cameraEyeSep": 0.3,
        "cameraFov": 40,
        "cameraType": "perspective",
        "clipDist": 10,
        "clipFar": 100,
        "clipMode": "scene",
        "clipNear": 0,
        "clipScale": "relative",
        "fogFar": 100,
        "fogNear": 50,
        "hoverTimeout": 0,
        "impostor": true,
        "lightColor": 14540253,
        "lightIntensity": 1,
        "mousePreset": "default",
        "panSpeed": 1,
        "quality": "medium",
        "rotateSpeed": 2,
        "sampleLevel": 0,
        "tooltip": true,
        "workerDefault": true,
        "zoomSpeed": 1.2
       },
       "_ngl_msg_archive": [
        {
         "args": [
          {
           "binary": false,
           "data": "REMARK   1 CREATED WITH MDTraj 1.9.6, 2024-09-05\nCRYST1   25.580   25.580   25.580  90.00  90.00  90.00 P 1           1 \nMODEL        0\nATOM      1  H1  ACE A   1      19.185   3.272  20.062  1.00  0.00           H  \nATOM      2  CH3 ACE A   1      18.852   3.056  21.077  1.00  0.00           C  \nATOM      3  H2  ACE A   1      19.711   2.965  21.742  1.00  0.00           H  \nATOM      4  H3  ACE A   1      18.267   2.137  21.094  1.00  0.00           H  \nATOM      5  C   ACE A   1      17.969   4.173  21.580  1.00  0.00           C  \nATOM      6  O   ACE A   1      16.799   3.940  21.826  1.00  0.00           O  \nATOM      7  N   ALA A   2      18.542   5.357  21.737  1.00  0.00           N  \nATOM      8  H   ALA A   2      19.537   5.432  21.581  1.00  0.00           H  \nATOM      9  CA  ALA A   2      17.848   6.546  22.226  1.00  0.00           C  \nATOM     10  HA  ALA A   2      16.778   6.439  22.048  1.00  0.00           H  \nATOM     11  CB  ALA A   2      18.056   6.616  23.749  1.00  0.00           C  \nATOM     12  HB1 ALA A   2      17.618   7.523  24.166  1.00  0.00           H  \nATOM     13  HB2 ALA A   2      19.126   6.649  23.954  1.00  0.00           H  \nATOM     14  HB3 ALA A   2      17.636   5.733  24.230  1.00  0.00           H  \nATOM     15  C   ALA A   2      18.330   7.819  21.506  1.00  0.00           C  \nATOM     16  O   ALA A   2      19.476   7.890  21.079  1.00  0.00           O  \nATOM     17  N   NME A   3      17.462   8.834  21.430  1.00  0.00           N  \nATOM     18  H   NME A   3      16.555   8.713  21.856  1.00  0.00           H  \nATOM     19  C   NME A   3      17.780  10.114  20.802  1.00  0.00           C  \nATOM     20  H1  NME A   3      16.900  10.757  20.804  1.00  0.00           H  \nATOM     21  H2  NME A   3      18.606  10.599  21.323  1.00  0.00           H  \nATOM     22  H3  NME A   3      18.047   9.939  19.760  1.00  0.00           H  \nTER      23      NME A   3\nENDMDL\nCONECT    1    2    2\nCONECT    2    5    1    3\nCONECT    2    1    5    3    4\nCONECT    3    2    2\nCONECT    4    2    2\nCONECT    5    2    6    7\nCONECT    5    6    7\nCONECT    6    5    5\nCONECT    7    5    5\nCONECT   15   17   17\nCONECT   17   15   19   18\nCONECT   17   19   18\nCONECT   18   17   17\nCONECT   19   20   21   22\nCONECT   19   17   20   21   22\nCONECT   20   19   19\nCONECT   21   19   19\nCONECT   22   19   19\nEND\n",
           "type": "blob"
          }
         ],
         "kwargs": {
          "defaultRepresentation": true,
          "ext": "pdb",
          "height": "400px",
          "width": "400px"
         },
         "methodName": "loadFile",
         "reconstruc_color_scheme": false,
         "target": "Stage",
         "type": "call_method"
        },
        {
         "args": [
          "ball+stick"
         ],
         "component_index": 0,
         "kwargs": {
          "aspectRatio": 1,
          "color": "#D55E00",
          "radius": 0.5,
          "sele": "@4,6,8,10"
         },
         "methodName": "addRepresentation",
         "reconstruc_color_scheme": false,
         "target": "compList",
         "type": "call_method"
        }
       ],
       "_ngl_original_stage_parameters": {
        "ambientColor": 14540253,
        "ambientIntensity": 0.2,
        "backgroundColor": "white",
        "cameraEyeSep": 0.3,
        "cameraFov": 40,
        "cameraType": "perspective",
        "clipDist": 10,
        "clipFar": 100,
        "clipMode": "scene",
        "clipNear": 0,
        "clipScale": "relative",
        "fogFar": 100,
        "fogNear": 50,
        "hoverTimeout": 0,
        "impostor": true,
        "lightColor": 14540253,
        "lightIntensity": 1,
        "mousePreset": "default",
        "panSpeed": 1,
        "quality": "medium",
        "rotateSpeed": 2,
        "sampleLevel": 0,
        "tooltip": true,
        "workerDefault": true,
        "zoomSpeed": 1.2
       },
       "_ngl_repr_dict": {
        "0": {
         "0": {
          "params": {
           "aspectRatio": 1.5,
           "assembly": "default",
           "bondScale": 0.3,
           "bondSpacing": 0.75,
           "clipCenter": {
            "x": 0,
            "y": 0,
            "z": 0
           },
           "clipNear": 0,
           "clipRadius": 0,
           "colorMode": "hcl",
           "colorReverse": false,
           "colorScale": "",
           "colorScheme": "element",
           "colorValue": 9474192,
           "cylinderOnly": false,
           "defaultAssembly": "",
           "depthWrite": true,
           "diffuse": 16777215,
           "diffuseInterior": false,
           "disableImpostor": false,
           "disablePicking": false,
           "flatShaded": false,
           "interiorColor": 2236962,
           "interiorDarkening": 0,
           "lazy": false,
           "lineOnly": false,
           "linewidth": 2,
           "matrix": {
            "elements": [
             1,
             0,
             0,
             0,
             0,
             1,
             0,
             0,
             0,
             0,
             1,
             0,
             0,
             0,
             0,
             1
            ]
           },
           "metalness": 0,
           "multipleBond": "off",
           "opacity": 1,
           "openEnded": true,
           "quality": "high",
           "radialSegments": 20,
           "radiusData": {},
           "radiusScale": 2,
           "radiusSize": 0.15,
           "radiusType": "size",
           "roughness": 0.4,
           "sele": "",
           "side": "double",
           "sphereDetail": 2,
           "useInteriorColor": true,
           "visible": true,
           "wireframe": false
          },
          "type": "ball+stick"
         },
         "1": {
          "params": {
           "aspectRatio": 1,
           "assembly": "default",
           "bondScale": 0.4,
           "bondSpacing": 1,
           "clipCenter": {
            "x": 0,
            "y": 0,
            "z": 0
           },
           "clipNear": 0,
           "clipRadius": 0,
           "colorMode": "hcl",
           "colorReverse": false,
           "colorScale": "",
           "colorScheme": "uniform",
           "colorValue": 13983232,
           "cylinderOnly": false,
           "defaultAssembly": "",
           "depthWrite": true,
           "diffuse": 16777215,
           "diffuseInterior": false,
           "disableImpostor": false,
           "disablePicking": false,
           "flatShaded": false,
           "interiorColor": 2236962,
           "interiorDarkening": 0,
           "lazy": false,
           "lineOnly": false,
           "linewidth": 2,
           "matrix": {
            "elements": [
             1,
             0,
             0,
             0,
             0,
             1,
             0,
             0,
             0,
             0,
             1,
             0,
             0,
             0,
             0,
             1
            ]
           },
           "metalness": 0,
           "multipleBond": "off",
           "opacity": 1,
           "openEnded": true,
           "quality": "medium",
           "radialSegments": 10,
           "radiusData": {},
           "radiusScale": 1,
           "radiusSize": 0.5,
           "radiusType": "size",
           "roughness": 0.4,
           "sele": "@4,6,8,10",
           "side": "double",
           "sphereDetail": 1,
           "useInteriorColor": true,
           "visible": true,
           "wireframe": false
          },
          "type": "ball+stick"
         }
        }
       },
       "_ngl_serialize": false,
       "_ngl_version": "2.2.2",
       "_ngl_view_id": [
        "EF911722-00C0-4DB2-85E9-F401595EB234"
       ],
       "_player_dict": {},
       "_scene_position": {},
       "_scene_rotation": {},
       "_synced_model_ids": [],
       "_synced_repr_model_ids": [],
       "_view_height": "400px",
       "_view_width": "400px",
       "background": "white",
       "frame": 0,
       "gui_style": null,
       "layout": "IPY_MODEL_ae699599c203423995bb63387a796b0a",
       "max_frame": 0,
       "n_components": 1,
       "picked": {}
      }
     },
     "f8f8a9547f6b43819fb840397d248bec": {
      "model_module": "@jupyter-widgets/controls",
      "model_module_version": "2.0.0",
      "model_name": "SliderStyleModel",
      "state": {
       "description_width": ""
      }
     },
     "f94dfd87fe43476fb84c2db279901650": {
      "model_module": "@jupyter-widgets/base",
      "model_module_version": "2.0.0",
      "model_name": "LayoutModel",
      "state": {}
     },
     "f9743966ffc04142b28b8b284c64c2a1": {
      "model_module": "@jupyter-widgets/controls",
      "model_module_version": "2.0.0",
      "model_name": "IntSliderModel",
      "state": {
       "behavior": "drag-tap",
       "layout": "IPY_MODEL_9b9158226e8844d9b4fce0fe3db75e22",
       "max": 0,
       "style": "IPY_MODEL_91a8d3bb3b684bbea0f22a5398a6d829"
      }
     },
     "fa3112664a014c76be29ef49864cbc3e": {
      "model_module": "@jupyter-widgets/base",
      "model_module_version": "2.0.0",
      "model_name": "LayoutModel",
      "state": {}
     },
     "fa6f9c5a504e4f05b8ca24549d350b82": {
      "model_module": "@jupyter-widgets/controls",
      "model_module_version": "2.0.0",
      "model_name": "ButtonStyleModel",
      "state": {
       "font_family": null,
       "font_size": null,
       "font_style": null,
       "font_variant": null,
       "font_weight": null,
       "text_color": null,
       "text_decoration": null
      }
     },
     "fb2ce9f8c7184aa696487de4b8329ed9": {
      "model_module": "@jupyter-widgets/base",
      "model_module_version": "2.0.0",
      "model_name": "LayoutModel",
      "state": {}
     },
     "fbf47c4b5fe1446586d771d36a9e55cc": {
      "model_module": "@jupyter-widgets/controls",
      "model_module_version": "2.0.0",
      "model_name": "IntSliderModel",
      "state": {
       "behavior": "drag-tap",
       "layout": "IPY_MODEL_2dff400ae9394eda99e6817e9f20169d",
       "max": 0,
       "style": "IPY_MODEL_0ef60c475b69434b9058fbd6eb3ff1c4"
      }
     },
     "fc4cc74c3b0a4f0885dc811adcc057ea": {
      "model_module": "@jupyter-widgets/controls",
      "model_module_version": "2.0.0",
      "model_name": "LinkModel",
      "state": {
       "source": [
        "IPY_MODEL_06f0288fae4546ebb144ed12898433c3",
        "max"
       ],
       "target": [
        "IPY_MODEL_773f72c9b38b47de8b45a4d700730a0a",
        "max_frame"
       ]
      }
     },
     "fca56f60fb604fc180d4e4aa7f89b630": {
      "model_module": "@jupyter-widgets/controls",
      "model_module_version": "2.0.0",
      "model_name": "DescriptionStyleModel",
      "state": {
       "description_width": ""
      }
     },
     "fd556388cf764354b7628549f1f9b72e": {
      "model_module": "@jupyter-widgets/base",
      "model_module_version": "2.0.0",
      "model_name": "LayoutModel",
      "state": {}
     },
     "fd5aa665370a4daf8fe93b5ddfa643ec": {
      "model_module": "@jupyter-widgets/controls",
      "model_module_version": "2.0.0",
      "model_name": "ImageModel",
      "state": {
       "layout": "IPY_MODEL_93632ffd415b459d932513045cd72bfc",
       "width": "900.0"
      }
     }
    },
    "version_major": 2,
    "version_minor": 0
   }
  }
 },
 "nbformat": 4,
 "nbformat_minor": 4
}
