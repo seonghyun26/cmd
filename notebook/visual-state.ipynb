{
 "cells": [
  {
   "cell_type": "code",
   "execution_count": 1,
   "metadata": {},
   "outputs": [
    {
     "data": {
      "application/vnd.jupyter.widget-view+json": {
       "model_id": "0371183b0c544805bac173f2e75183b6",
       "version_major": 2,
       "version_minor": 0
      },
      "text/plain": []
     },
     "metadata": {},
     "output_type": "display_data"
    }
   ],
   "source": [
    "import nglview as nv\n",
    "import mdtraj as md\n",
    "\n",
    "from openmm import *\n",
    "from openmm.app import *\n",
    "from openmm.unit import *\n",
    "\n",
    "from tqdm.auto import tqdm"
   ]
  },
  {
   "cell_type": "code",
   "execution_count": 2,
   "metadata": {},
   "outputs": [],
   "source": [
    "data_dir = \"../data\"\n",
    "IMAGE_SIZE = \"400px\"\n",
    "colors = [\"#A10035\", \"#3FA796\", \"#FEC220\", \"#0072B2\", \"#D55E00\", \"#CC79A7\", \"#56B4E9\", \"#009E73\", \"#F0E442\"]"
   ]
  },
  {
   "cell_type": "markdown",
   "metadata": {},
   "source": [
    "# State view"
   ]
  },
  {
   "cell_type": "code",
   "execution_count": 3,
   "metadata": {},
   "outputs": [],
   "source": [
    "molecule = \"alanine\"\n",
    "state = \"c5\"\n",
    "pdb_file = f\"{data_dir}/{molecule}/{state}.pdb\""
   ]
  },
  {
   "cell_type": "code",
   "execution_count": 4,
   "metadata": {},
   "outputs": [
    {
     "data": {
      "application/vnd.jupyter.widget-view+json": {
       "model_id": "268ffa32ac454b47b0301e2890ae6a92",
       "version_major": 2,
       "version_minor": 0
      },
      "text/plain": [
       "NGLWidget()"
      ]
     },
     "metadata": {},
     "output_type": "display_data"
    }
   ],
   "source": [
    "view = nv.show_structure_file(pdb_file, width=IMAGE_SIZE, height=IMAGE_SIZE)\n",
    "view"
   ]
  },
  {
   "cell_type": "code",
   "execution_count": 5,
   "metadata": {},
   "outputs": [],
   "source": [
    "view.download_image(\n",
    "    filename=f'{molecule}-{state}.png',\n",
    "    factor=4,\n",
    "    antialias=True,\n",
    "    trim=False,\n",
    "    transparent=True\n",
    ")"
   ]
  },
  {
   "cell_type": "markdown",
   "metadata": {},
   "source": [
    "# State - torsion angle highlighted"
   ]
  },
  {
   "cell_type": "code",
   "execution_count": 6,
   "metadata": {},
   "outputs": [],
   "source": [
    "backbone_color = colors[1]\n",
    "psi_idx = [8, 10, 14, 16]\n",
    "ALANINE_BACKBONE_ATOM_IDX = [1, 4, 6, 8, 10, 14, 16, 18]\n",
    "molecule = \"alanine\"\n",
    "state = \"c7ax\"\n",
    "pdb_file = f\"{data_dir}/{molecule}/{state}.pdb\""
   ]
  },
  {
   "cell_type": "code",
   "execution_count": 7,
   "metadata": {},
   "outputs": [
    {
     "data": {
      "application/vnd.jupyter.widget-view+json": {
       "model_id": "e944e689d45e4ffaa3cc6bb22cc9ce48",
       "version_major": 2,
       "version_minor": 0
      },
      "text/plain": [
       "NGLWidget()"
      ]
     },
     "metadata": {},
     "output_type": "display_data"
    }
   ],
   "source": [
    "view = nv.show_structure_file(pdb_file, width=IMAGE_SIZE, height=IMAGE_SIZE)\n",
    "view.add_representation('ball+stick', aspectRatio=1, radius=0.5, selection=ALANINE_BACKBONE_ATOM_IDX, color=backbone_color)\n",
    "view"
   ]
  },
  {
   "cell_type": "code",
   "execution_count": 44,
   "metadata": {},
   "outputs": [],
   "source": [
    "view.download_image(\n",
    "    filename=f'{molecule}-psi.png',\n",
    "    factor=4,\n",
    "    antialias=True,\n",
    "    trim=False,\n",
    "    transparent=True\n",
    ")"
   ]
  },
  {
   "cell_type": "code",
   "execution_count": 49,
   "metadata": {},
   "outputs": [],
   "source": [
    "backbone_color = colors[4]\n",
    "phi_idx = [4, 6, 8, 10]\n",
    "molecule = \"alanine\"\n",
    "state = \"c7ax\"\n",
    "pdb_file = f\"{data_dir}/{molecule}/{state}.pdb\""
   ]
  },
  {
   "cell_type": "code",
   "execution_count": 50,
   "metadata": {},
   "outputs": [
    {
     "data": {
      "application/vnd.jupyter.widget-view+json": {
       "model_id": "88246165545d45019ae3a4bad1c2370f",
       "version_major": 2,
       "version_minor": 0
      },
      "text/plain": [
       "NGLWidget()"
      ]
     },
     "metadata": {},
     "output_type": "display_data"
    }
   ],
   "source": [
    "view = nv.show_structure_file(pdb_file, width=IMAGE_SIZE, height=IMAGE_SIZE)\n",
    "view.add_representation('ball+stick', aspectRatio=1, radius=0.5, selection=phi_idx, color=backbone_color)\n",
    "view"
   ]
  },
  {
   "cell_type": "code",
   "execution_count": 51,
   "metadata": {},
   "outputs": [],
   "source": [
    "view.download_image(\n",
    "    filename=f'{molecule}-phi.png',\n",
    "    factor=4,\n",
    "    antialias=True,\n",
    "    trim=False,\n",
    "    transparent=True\n",
    ")"
   ]
  },
  {
   "cell_type": "code",
   "execution_count": null,
   "metadata": {},
   "outputs": [],
   "source": []
  }
 ],
 "metadata": {
  "kernelspec": {
   "display_name": "Python 3 (ipykernel)",
   "language": "python",
   "name": "python3"
  },
  "language_info": {
   "codemirror_mode": {
    "name": "ipython",
    "version": 3
   },
   "file_extension": ".py",
   "mimetype": "text/x-python",
   "name": "python",
   "nbconvert_exporter": "python",
   "pygments_lexer": "ipython3",
   "version": "3.9.19"
  },
  "widgets": {
   "application/vnd.jupyter.widget-state+json": {
    "state": {
     "0371183b0c544805bac173f2e75183b6": {
      "model_module": "nglview-js-widgets",
      "model_module_version": "3.1.0",
      "model_name": "ColormakerRegistryModel",
      "state": {
       "_msg_ar": [],
       "_msg_q": [],
       "_ready": true,
       "layout": "IPY_MODEL_24d70cd28e4a49e294339ba956c71417"
      }
     },
     "0e8f40eb65364f6581626455438e3be6": {
      "model_module": "@jupyter-widgets/controls",
      "model_module_version": "2.0.0",
      "model_name": "SliderStyleModel",
      "state": {
       "description_width": ""
      }
     },
     "1628dc907f75409b887590c7b3327605": {
      "model_module": "@jupyter-widgets/base",
      "model_module_version": "2.0.0",
      "model_name": "LayoutModel",
      "state": {}
     },
     "1d032677dc134a2dbd887bb4af1845b0": {
      "model_module": "@jupyter-widgets/controls",
      "model_module_version": "2.0.0",
      "model_name": "ButtonStyleModel",
      "state": {
       "font_family": null,
       "font_size": null,
       "font_style": null,
       "font_variant": null,
       "font_weight": null,
       "text_color": null,
       "text_decoration": null
      }
     },
     "233a4375cc6e445c9b142fcc4b648ff5": {
      "model_module": "@jupyter-widgets/controls",
      "model_module_version": "2.0.0",
      "model_name": "ImageModel",
      "state": {
       "layout": "IPY_MODEL_333ed7c35a6245c4b63440e80c2c7787",
       "width": "900.0"
      }
     },
     "24d70cd28e4a49e294339ba956c71417": {
      "model_module": "@jupyter-widgets/base",
      "model_module_version": "2.0.0",
      "model_name": "LayoutModel",
      "state": {}
     },
     "268ffa32ac454b47b0301e2890ae6a92": {
      "model_module": "nglview-js-widgets",
      "model_module_version": "3.1.0",
      "model_name": "NGLModel",
      "state": {
       "_camera_orientation": [
        25.20143607381827,
        0,
        0,
        0,
        0,
        25.20143607381827,
        0,
        0,
        0,
        0,
        25.20143607381827,
        0,
        -18.133000373840332,
        -6.447000026702881,
        -21.994999885559082,
        1
       ],
       "_camera_str": "orthographic",
       "_gui_theme": null,
       "_ibtn_fullscreen": "IPY_MODEL_27152d5a65ae4979a115bd67cfd59a62",
       "_igui": null,
       "_iplayer": "IPY_MODEL_d2da650c3fbb47deb1a03401151c4d12",
       "_ngl_color_dict": {},
       "_ngl_coordinate_resource": {},
       "_ngl_full_stage_parameters": {
        "ambientColor": 14540253,
        "ambientIntensity": 0.2,
        "backgroundColor": "white",
        "cameraEyeSep": 0.3,
        "cameraFov": 40,
        "cameraType": "perspective",
        "clipDist": 10,
        "clipFar": 100,
        "clipMode": "scene",
        "clipNear": 0,
        "clipScale": "relative",
        "fogFar": 100,
        "fogNear": 50,
        "hoverTimeout": 0,
        "impostor": true,
        "lightColor": 14540253,
        "lightIntensity": 1,
        "mousePreset": "default",
        "panSpeed": 1,
        "quality": "medium",
        "rotateSpeed": 2,
        "sampleLevel": 0,
        "tooltip": true,
        "workerDefault": true,
        "zoomSpeed": 1.2
       },
       "_ngl_msg_archive": [
        {
         "args": [
          {
           "binary": false,
           "data": "REMARK   1 CREATED WITH MDTraj 1.9.6, 2024-09-05\nCRYST1   25.580   25.580   25.580  90.00  90.00  90.00 P 1           1 \nMODEL        0\nATOM      1  H1  ACE A   1      19.185   3.272  20.062  1.00  0.00           H  \nATOM      2  CH3 ACE A   1      18.852   3.056  21.077  1.00  0.00           C  \nATOM      3  H2  ACE A   1      19.711   2.965  21.742  1.00  0.00           H  \nATOM      4  H3  ACE A   1      18.267   2.137  21.094  1.00  0.00           H  \nATOM      5  C   ACE A   1      17.969   4.173  21.580  1.00  0.00           C  \nATOM      6  O   ACE A   1      16.799   3.940  21.826  1.00  0.00           O  \nATOM      7  N   ALA A   2      18.542   5.357  21.737  1.00  0.00           N  \nATOM      8  H   ALA A   2      19.537   5.432  21.581  1.00  0.00           H  \nATOM      9  CA  ALA A   2      17.848   6.546  22.226  1.00  0.00           C  \nATOM     10  HA  ALA A   2      16.778   6.439  22.048  1.00  0.00           H  \nATOM     11  CB  ALA A   2      18.056   6.616  23.749  1.00  0.00           C  \nATOM     12  HB1 ALA A   2      17.618   7.523  24.166  1.00  0.00           H  \nATOM     13  HB2 ALA A   2      19.126   6.649  23.954  1.00  0.00           H  \nATOM     14  HB3 ALA A   2      17.636   5.733  24.230  1.00  0.00           H  \nATOM     15  C   ALA A   2      18.330   7.819  21.506  1.00  0.00           C  \nATOM     16  O   ALA A   2      19.476   7.890  21.079  1.00  0.00           O  \nATOM     17  N   NME A   3      17.462   8.834  21.430  1.00  0.00           N  \nATOM     18  H   NME A   3      16.555   8.713  21.856  1.00  0.00           H  \nATOM     19  C   NME A   3      17.780  10.114  20.802  1.00  0.00           C  \nATOM     20  H1  NME A   3      16.900  10.757  20.804  1.00  0.00           H  \nATOM     21  H2  NME A   3      18.606  10.599  21.323  1.00  0.00           H  \nATOM     22  H3  NME A   3      18.047   9.939  19.760  1.00  0.00           H  \nTER      23      NME A   3\nENDMDL\nCONECT    1    2    2\nCONECT    2    5    1    3\nCONECT    2    1    5    3    4\nCONECT    3    2    2\nCONECT    4    2    2\nCONECT    5    2    6    7\nCONECT    5    6    7\nCONECT    6    5    5\nCONECT    7    5    5\nCONECT   15   17   17\nCONECT   17   15   19   18\nCONECT   17   19   18\nCONECT   18   17   17\nCONECT   19   20   21   22\nCONECT   19   17   20   21   22\nCONECT   20   19   19\nCONECT   21   19   19\nCONECT   22   19   19\nEND\n",
           "type": "blob"
          }
         ],
         "kwargs": {
          "defaultRepresentation": true,
          "ext": "pdb",
          "height": "400px",
          "width": "400px"
         },
         "methodName": "loadFile",
         "reconstruc_color_scheme": false,
         "target": "Stage",
         "type": "call_method"
        }
       ],
       "_ngl_original_stage_parameters": {
        "ambientColor": 14540253,
        "ambientIntensity": 0.2,
        "backgroundColor": "white",
        "cameraEyeSep": 0.3,
        "cameraFov": 40,
        "cameraType": "perspective",
        "clipDist": 10,
        "clipFar": 100,
        "clipMode": "scene",
        "clipNear": 0,
        "clipScale": "relative",
        "fogFar": 100,
        "fogNear": 50,
        "hoverTimeout": 0,
        "impostor": true,
        "lightColor": 14540253,
        "lightIntensity": 1,
        "mousePreset": "default",
        "panSpeed": 1,
        "quality": "medium",
        "rotateSpeed": 2,
        "sampleLevel": 0,
        "tooltip": true,
        "workerDefault": true,
        "zoomSpeed": 1.2
       },
       "_ngl_repr_dict": {
        "0": {
         "0": {
          "params": {
           "aspectRatio": 1.5,
           "assembly": "default",
           "bondScale": 0.3,
           "bondSpacing": 0.75,
           "clipCenter": {
            "x": 0,
            "y": 0,
            "z": 0
           },
           "clipNear": 0,
           "clipRadius": 0,
           "colorMode": "hcl",
           "colorReverse": false,
           "colorScale": "",
           "colorScheme": "element",
           "colorValue": 9474192,
           "cylinderOnly": false,
           "defaultAssembly": "",
           "depthWrite": true,
           "diffuse": 16777215,
           "diffuseInterior": false,
           "disableImpostor": false,
           "disablePicking": false,
           "flatShaded": false,
           "interiorColor": 2236962,
           "interiorDarkening": 0,
           "lazy": false,
           "lineOnly": false,
           "linewidth": 2,
           "matrix": {
            "elements": [
             1,
             0,
             0,
             0,
             0,
             1,
             0,
             0,
             0,
             0,
             1,
             0,
             0,
             0,
             0,
             1
            ]
           },
           "metalness": 0,
           "multipleBond": "off",
           "opacity": 1,
           "openEnded": true,
           "quality": "high",
           "radialSegments": 20,
           "radiusData": {},
           "radiusScale": 2,
           "radiusSize": 0.15,
           "radiusType": "size",
           "roughness": 0.4,
           "sele": "",
           "side": "double",
           "sphereDetail": 2,
           "useInteriorColor": true,
           "visible": true,
           "wireframe": false
          },
          "type": "ball+stick"
         }
        }
       },
       "_ngl_serialize": false,
       "_ngl_version": "2.2.2",
       "_ngl_view_id": [
        "644FF82E-12FF-47CD-B89F-A9C8932A15A9"
       ],
       "_player_dict": {},
       "_scene_position": {},
       "_scene_rotation": {},
       "_synced_model_ids": [],
       "_synced_repr_model_ids": [],
       "_view_height": "400px",
       "_view_width": "400px",
       "background": "white",
       "frame": 0,
       "gui_style": null,
       "layout": "IPY_MODEL_b82a4928bdba4ed2ac7fc9b12856eb55",
       "max_frame": 0,
       "n_components": 1,
       "picked": {}
      }
     },
     "27152d5a65ae4979a115bd67cfd59a62": {
      "model_module": "@jupyter-widgets/controls",
      "model_module_version": "2.0.0",
      "model_name": "ButtonModel",
      "state": {
       "icon": "compress",
       "layout": "IPY_MODEL_b7c578f213d242bea6d9a6febdcb311d",
       "style": "IPY_MODEL_c18d5d5c9072430c89c1da1263cb7aaf",
       "tooltip": null
      }
     },
     "2851b178cf8c4f78a5afd61116b2f8e8": {
      "model_module": "@jupyter-widgets/controls",
      "model_module_version": "2.0.0",
      "model_name": "LinkModel",
      "state": {
       "source": [
        "IPY_MODEL_8031b49a02654ef5ab918985c34142a9",
        "value"
       ],
       "target": [
        "IPY_MODEL_e944e689d45e4ffaa3cc6bb22cc9ce48",
        "frame"
       ]
      }
     },
     "333ed7c35a6245c4b63440e80c2c7787": {
      "model_module": "@jupyter-widgets/base",
      "model_module_version": "2.0.0",
      "model_name": "LayoutModel",
      "state": {}
     },
     "357ea905585e46ea98cc769c08b0ebc0": {
      "model_module": "@jupyter-widgets/controls",
      "model_module_version": "2.0.0",
      "model_name": "DescriptionStyleModel",
      "state": {
       "description_width": ""
      }
     },
     "410ee156bd48428e96488f4d23b534e8": {
      "model_module": "@jupyter-widgets/controls",
      "model_module_version": "2.0.0",
      "model_name": "LinkModel",
      "state": {
       "source": [
        "IPY_MODEL_dd3d58f1e4264721a540525adb765dd2",
        "value"
       ],
       "target": [
        "IPY_MODEL_c74123cb6f484208b6f5def593c5916d",
        "value"
       ]
      }
     },
     "4bbe239a730a48038881c3800b1fb14e": {
      "model_module": "@jupyter-widgets/controls",
      "model_module_version": "2.0.0",
      "model_name": "LinkModel",
      "state": {
       "source": [
        "IPY_MODEL_dd3d58f1e4264721a540525adb765dd2",
        "max"
       ],
       "target": [
        "IPY_MODEL_268ffa32ac454b47b0301e2890ae6a92",
        "max_frame"
       ]
      }
     },
     "4ff8565460654953942984c4fa89ced4": {
      "model_module": "@jupyter-widgets/controls",
      "model_module_version": "2.0.0",
      "model_name": "SliderStyleModel",
      "state": {
       "description_width": ""
      }
     },
     "689bb0c0bf9c47cf82984db01ddb58d0": {
      "model_module": "@jupyter-widgets/controls",
      "model_module_version": "2.0.0",
      "model_name": "LinkModel",
      "state": {
       "source": [
        "IPY_MODEL_8031b49a02654ef5ab918985c34142a9",
        "value"
       ],
       "target": [
        "IPY_MODEL_8045e8b73f324c29aa84512b6a74beec",
        "value"
       ]
      }
     },
     "7dfe31b7e17b4f60b55f5f3614868a1f": {
      "model_module": "@jupyter-widgets/controls",
      "model_module_version": "2.0.0",
      "model_name": "HBoxModel",
      "state": {
       "children": [
        "IPY_MODEL_8031b49a02654ef5ab918985c34142a9",
        "IPY_MODEL_8045e8b73f324c29aa84512b6a74beec"
       ],
       "layout": "IPY_MODEL_8e32aca1f99949b183314d878f691ed3"
      }
     },
     "8031b49a02654ef5ab918985c34142a9": {
      "model_module": "@jupyter-widgets/controls",
      "model_module_version": "2.0.0",
      "model_name": "PlayModel",
      "state": {
       "layout": "IPY_MODEL_d52ff5afcc674d9d9a13ae3f82fb8f22",
       "max": 0,
       "style": "IPY_MODEL_d6ec18b73a9b45a1b88fe923b507a54d"
      }
     },
     "8045e8b73f324c29aa84512b6a74beec": {
      "model_module": "@jupyter-widgets/controls",
      "model_module_version": "2.0.0",
      "model_name": "IntSliderModel",
      "state": {
       "behavior": "drag-tap",
       "layout": "IPY_MODEL_b54262a1a8d145558d5fdd5b8e6fe1d6",
       "max": 0,
       "style": "IPY_MODEL_4ff8565460654953942984c4fa89ced4"
      }
     },
     "8b0e8373190d49bd9f8ca08ce72dc6c1": {
      "model_module": "@jupyter-widgets/base",
      "model_module_version": "2.0.0",
      "model_name": "LayoutModel",
      "state": {
       "width": "34px"
      }
     },
     "8e32aca1f99949b183314d878f691ed3": {
      "model_module": "@jupyter-widgets/base",
      "model_module_version": "2.0.0",
      "model_name": "LayoutModel",
      "state": {}
     },
     "99ec72fd3a974b6f980127ae8ed5b31f": {
      "model_module": "@jupyter-widgets/controls",
      "model_module_version": "2.0.0",
      "model_name": "LinkModel",
      "state": {
       "source": [
        "IPY_MODEL_8045e8b73f324c29aa84512b6a74beec",
        "max"
       ],
       "target": [
        "IPY_MODEL_e944e689d45e4ffaa3cc6bb22cc9ce48",
        "max_frame"
       ]
      }
     },
     "a2445a8705a04287ba97c74dca0ca6c6": {
      "model_module": "@jupyter-widgets/base",
      "model_module_version": "2.0.0",
      "model_name": "LayoutModel",
      "state": {}
     },
     "a57195b1a0094f859105437351b37dd1": {
      "model_module": "@jupyter-widgets/base",
      "model_module_version": "2.0.0",
      "model_name": "LayoutModel",
      "state": {}
     },
     "b54262a1a8d145558d5fdd5b8e6fe1d6": {
      "model_module": "@jupyter-widgets/base",
      "model_module_version": "2.0.0",
      "model_name": "LayoutModel",
      "state": {}
     },
     "b7c578f213d242bea6d9a6febdcb311d": {
      "model_module": "@jupyter-widgets/base",
      "model_module_version": "2.0.0",
      "model_name": "LayoutModel",
      "state": {
       "width": "34px"
      }
     },
     "b82a4928bdba4ed2ac7fc9b12856eb55": {
      "model_module": "@jupyter-widgets/base",
      "model_module_version": "2.0.0",
      "model_name": "LayoutModel",
      "state": {}
     },
     "bdadda751ec64dfda50c4e7db2534101": {
      "model_module": "@jupyter-widgets/base",
      "model_module_version": "2.0.0",
      "model_name": "LayoutModel",
      "state": {}
     },
     "c18d5d5c9072430c89c1da1263cb7aaf": {
      "model_module": "@jupyter-widgets/controls",
      "model_module_version": "2.0.0",
      "model_name": "ButtonStyleModel",
      "state": {
       "font_family": null,
       "font_size": null,
       "font_style": null,
       "font_variant": null,
       "font_weight": null,
       "text_color": null,
       "text_decoration": null
      }
     },
     "c74123cb6f484208b6f5def593c5916d": {
      "model_module": "@jupyter-widgets/controls",
      "model_module_version": "2.0.0",
      "model_name": "IntSliderModel",
      "state": {
       "behavior": "drag-tap",
       "layout": "IPY_MODEL_a2445a8705a04287ba97c74dca0ca6c6",
       "max": 0,
       "style": "IPY_MODEL_0e8f40eb65364f6581626455438e3be6"
      }
     },
     "cd4992ed666d40e1ba8608a67cccc718": {
      "model_module": "@jupyter-widgets/controls",
      "model_module_version": "2.0.0",
      "model_name": "LinkModel",
      "state": {
       "source": [
        "IPY_MODEL_dd3d58f1e4264721a540525adb765dd2",
        "value"
       ],
       "target": [
        "IPY_MODEL_268ffa32ac454b47b0301e2890ae6a92",
        "frame"
       ]
      }
     },
     "cfe30d83f19b4718b1cd117243f67996": {
      "model_module": "@jupyter-widgets/controls",
      "model_module_version": "2.0.0",
      "model_name": "ImageModel",
      "state": {
       "layout": "IPY_MODEL_a57195b1a0094f859105437351b37dd1",
       "width": "900.0"
      }
     },
     "d2da650c3fbb47deb1a03401151c4d12": {
      "model_module": "@jupyter-widgets/controls",
      "model_module_version": "2.0.0",
      "model_name": "HBoxModel",
      "state": {
       "children": [
        "IPY_MODEL_dd3d58f1e4264721a540525adb765dd2",
        "IPY_MODEL_c74123cb6f484208b6f5def593c5916d"
       ],
       "layout": "IPY_MODEL_e35e3f3f2d87432693479fba3b5a0774"
      }
     },
     "d37dbad6e06640aba149e1904fa8cdd7": {
      "model_module": "@jupyter-widgets/controls",
      "model_module_version": "2.0.0",
      "model_name": "LinkModel",
      "state": {
       "source": [
        "IPY_MODEL_8031b49a02654ef5ab918985c34142a9",
        "max"
       ],
       "target": [
        "IPY_MODEL_e944e689d45e4ffaa3cc6bb22cc9ce48",
        "max_frame"
       ]
      }
     },
     "d52ff5afcc674d9d9a13ae3f82fb8f22": {
      "model_module": "@jupyter-widgets/base",
      "model_module_version": "2.0.0",
      "model_name": "LayoutModel",
      "state": {}
     },
     "d6ec18b73a9b45a1b88fe923b507a54d": {
      "model_module": "@jupyter-widgets/controls",
      "model_module_version": "2.0.0",
      "model_name": "DescriptionStyleModel",
      "state": {
       "description_width": ""
      }
     },
     "dd3d58f1e4264721a540525adb765dd2": {
      "model_module": "@jupyter-widgets/controls",
      "model_module_version": "2.0.0",
      "model_name": "PlayModel",
      "state": {
       "layout": "IPY_MODEL_1628dc907f75409b887590c7b3327605",
       "max": 0,
       "style": "IPY_MODEL_357ea905585e46ea98cc769c08b0ebc0"
      }
     },
     "e35e3f3f2d87432693479fba3b5a0774": {
      "model_module": "@jupyter-widgets/base",
      "model_module_version": "2.0.0",
      "model_name": "LayoutModel",
      "state": {}
     },
     "e944e689d45e4ffaa3cc6bb22cc9ce48": {
      "model_module": "nglview-js-widgets",
      "model_module_version": "3.1.0",
      "model_name": "NGLModel",
      "state": {
       "_camera_orientation": [
        20.907397878649522,
        -8.278799018565158,
        3.899649451124041,
        0,
        2.61728107280097,
        14.72861525780643,
        17.236089970207217,
        0,
        -8.769014700489748,
        -15.342569683248085,
        14.442125944087234,
        0,
        -13.975999355316162,
        -15.923500061035156,
        3.4434999227523804,
        1
       ],
       "_camera_str": "orthographic",
       "_gui_theme": null,
       "_ibtn_fullscreen": "IPY_MODEL_eec97a39a2e1404aa2d21feb58a1299c",
       "_igui": null,
       "_iplayer": "IPY_MODEL_7dfe31b7e17b4f60b55f5f3614868a1f",
       "_ngl_color_dict": {},
       "_ngl_coordinate_resource": {},
       "_ngl_full_stage_parameters": {
        "ambientColor": 14540253,
        "ambientIntensity": 0.2,
        "backgroundColor": "white",
        "cameraEyeSep": 0.3,
        "cameraFov": 40,
        "cameraType": "perspective",
        "clipDist": 10,
        "clipFar": 100,
        "clipMode": "scene",
        "clipNear": 0,
        "clipScale": "relative",
        "fogFar": 100,
        "fogNear": 50,
        "hoverTimeout": 0,
        "impostor": true,
        "lightColor": 14540253,
        "lightIntensity": 1,
        "mousePreset": "default",
        "panSpeed": 1,
        "quality": "medium",
        "rotateSpeed": 2,
        "sampleLevel": 0,
        "tooltip": true,
        "workerDefault": true,
        "zoomSpeed": 1.2
       },
       "_ngl_msg_archive": [
        {
         "args": [
          {
           "binary": false,
           "data": "REMARK   1 CREATED WITH MDTraj 1.9.6, 2024-10-30\nCRYST1   25.580   25.580   25.580  90.00  90.00  90.00 P 1           1 \nMODEL        0\nATOM      1  H1  ACE A   1      16.384  14.081  -5.858  1.00  0.00           H  \nATOM      2  CH3 ACE A   1      16.530  14.752  -5.012  1.00  0.00           C  \nATOM      3  H2  ACE A   1      17.262  15.508  -5.297  1.00  0.00           H  \nATOM      4  H3  ACE A   1      16.909  14.174  -4.169  1.00  0.00           H  \nATOM      5  C   ACE A   1      15.200  15.391  -4.663  1.00  0.00           C  \nATOM      6  O   ACE A   1      14.169  14.948  -5.147  1.00  0.00           O  \nATOM      7  N   ALA A   2      15.223  16.439  -3.824  1.00  0.00           N  \nATOM      8  H   ALA A   2      16.138  16.741  -3.522  1.00  0.00           H  \nATOM      9  CA  ALA A   2      14.061  17.185  -3.253  1.00  0.00           C  \nATOM     10  HA  ALA A   2      14.475  17.918  -2.560  1.00  0.00           H  \nATOM     11  CB  ALA A   2      13.353  17.961  -4.365  1.00  0.00           C  \nATOM     12  HB1 ALA A   2      12.564  18.580  -3.938  1.00  0.00           H  \nATOM     13  HB2 ALA A   2      14.090  18.590  -4.865  1.00  0.00           H  \nATOM     14  HB3 ALA A   2      12.926  17.296  -5.116  1.00  0.00           H  \nATOM     15  C   ALA A   2      13.036  16.370  -2.426  1.00  0.00           C  \nATOM     16  O   ALA A   2      12.568  16.879  -1.404  1.00  0.00           O  \nATOM     17  N   NME A   3      12.674  15.159  -2.814  1.00  0.00           N  \nATOM     18  H   NME A   3      13.075  14.848  -3.687  1.00  0.00           H  \nATOM     19  C   NME A   3      11.703  14.298  -2.109  1.00  0.00           C  \nATOM     20  H1  NME A   3      10.690  14.587  -2.391  1.00  0.00           H  \nATOM     21  H2  NME A   3      11.856  13.257  -2.395  1.00  0.00           H  \nATOM     22  H3  NME A   3      11.817  14.384  -1.029  1.00  0.00           H  \nTER      23      NME A   3\nENDMDL\nCONECT    1    2    2\nCONECT    2    5    1    3\nCONECT    2    1    3    4    5\nCONECT    3    2    2\nCONECT    4    2    2\nCONECT    5    2    6    7\nCONECT    5    6    7\nCONECT    6    5    5\nCONECT    7    5    5\nCONECT   15   17   17\nCONECT   17   15   19   18\nCONECT   17   18   19\nCONECT   18   17   17\nCONECT   19   20   21   22\nCONECT   19   17   20   21   22\nCONECT   20   19   19\nCONECT   21   19   19\nCONECT   22   19   19\nEND\n",
           "type": "blob"
          }
         ],
         "kwargs": {
          "defaultRepresentation": true,
          "ext": "pdb",
          "height": "400px",
          "width": "400px"
         },
         "methodName": "loadFile",
         "reconstruc_color_scheme": false,
         "target": "Stage",
         "type": "call_method"
        },
        {
         "args": [
          "ball+stick"
         ],
         "component_index": 0,
         "kwargs": {
          "aspectRatio": 1,
          "color": "#3FA796",
          "radius": 0.5,
          "sele": "@1,4,6,8,10,14,16,18"
         },
         "methodName": "addRepresentation",
         "reconstruc_color_scheme": false,
         "target": "compList",
         "type": "call_method"
        }
       ],
       "_ngl_original_stage_parameters": {
        "ambientColor": 14540253,
        "ambientIntensity": 0.2,
        "backgroundColor": "white",
        "cameraEyeSep": 0.3,
        "cameraFov": 40,
        "cameraType": "perspective",
        "clipDist": 10,
        "clipFar": 100,
        "clipMode": "scene",
        "clipNear": 0,
        "clipScale": "relative",
        "fogFar": 100,
        "fogNear": 50,
        "hoverTimeout": 0,
        "impostor": true,
        "lightColor": 14540253,
        "lightIntensity": 1,
        "mousePreset": "default",
        "panSpeed": 1,
        "quality": "medium",
        "rotateSpeed": 2,
        "sampleLevel": 0,
        "tooltip": true,
        "workerDefault": true,
        "zoomSpeed": 1.2
       },
       "_ngl_repr_dict": {
        "0": {
         "0": {
          "params": {
           "aspectRatio": 1.5,
           "assembly": "default",
           "bondScale": 0.3,
           "bondSpacing": 0.75,
           "clipCenter": {
            "x": 0,
            "y": 0,
            "z": 0
           },
           "clipNear": 0,
           "clipRadius": 0,
           "colorMode": "hcl",
           "colorReverse": false,
           "colorScale": "",
           "colorScheme": "element",
           "colorValue": 9474192,
           "cylinderOnly": false,
           "defaultAssembly": "",
           "depthWrite": true,
           "diffuse": 16777215,
           "diffuseInterior": false,
           "disableImpostor": false,
           "disablePicking": false,
           "flatShaded": false,
           "interiorColor": 2236962,
           "interiorDarkening": 0,
           "lazy": false,
           "lineOnly": false,
           "linewidth": 2,
           "matrix": {
            "elements": [
             1,
             0,
             0,
             0,
             0,
             1,
             0,
             0,
             0,
             0,
             1,
             0,
             0,
             0,
             0,
             1
            ]
           },
           "metalness": 0,
           "multipleBond": "off",
           "opacity": 1,
           "openEnded": true,
           "quality": "high",
           "radialSegments": 20,
           "radiusData": {},
           "radiusScale": 2,
           "radiusSize": 0.15,
           "radiusType": "size",
           "roughness": 0.4,
           "sele": "",
           "side": "double",
           "sphereDetail": 2,
           "useInteriorColor": true,
           "visible": true,
           "wireframe": false
          },
          "type": "ball+stick"
         },
         "1": {
          "params": {
           "aspectRatio": 1,
           "assembly": "default",
           "bondScale": 0.4,
           "bondSpacing": 1,
           "clipCenter": {
            "x": 0,
            "y": 0,
            "z": 0
           },
           "clipNear": 0,
           "clipRadius": 0,
           "colorMode": "hcl",
           "colorReverse": false,
           "colorScale": "",
           "colorScheme": "uniform",
           "colorValue": 4171670,
           "cylinderOnly": false,
           "defaultAssembly": "",
           "depthWrite": true,
           "diffuse": 16777215,
           "diffuseInterior": false,
           "disableImpostor": false,
           "disablePicking": false,
           "flatShaded": false,
           "interiorColor": 2236962,
           "interiorDarkening": 0,
           "lazy": false,
           "lineOnly": false,
           "linewidth": 2,
           "matrix": {
            "elements": [
             1,
             0,
             0,
             0,
             0,
             1,
             0,
             0,
             0,
             0,
             1,
             0,
             0,
             0,
             0,
             1
            ]
           },
           "metalness": 0,
           "multipleBond": "off",
           "opacity": 1,
           "openEnded": true,
           "quality": "medium",
           "radialSegments": 10,
           "radiusData": {},
           "radiusScale": 1,
           "radiusSize": 0.5,
           "radiusType": "size",
           "roughness": 0.4,
           "sele": "@1,4,6,8,10,14,16,18",
           "side": "double",
           "sphereDetail": 1,
           "useInteriorColor": true,
           "visible": true,
           "wireframe": false
          },
          "type": "ball+stick"
         }
        }
       },
       "_ngl_serialize": false,
       "_ngl_version": "2.2.2",
       "_ngl_view_id": [
        "E18A153F-274E-46E2-93A5-7591F14F53AD"
       ],
       "_player_dict": {},
       "_scene_position": {},
       "_scene_rotation": {},
       "_synced_model_ids": [],
       "_synced_repr_model_ids": [],
       "_view_height": "400px",
       "_view_width": "400px",
       "background": "white",
       "frame": 0,
       "gui_style": null,
       "layout": "IPY_MODEL_bdadda751ec64dfda50c4e7db2534101",
       "max_frame": 0,
       "n_components": 1,
       "picked": {}
      }
     },
     "eec97a39a2e1404aa2d21feb58a1299c": {
      "model_module": "@jupyter-widgets/controls",
      "model_module_version": "2.0.0",
      "model_name": "ButtonModel",
      "state": {
       "icon": "compress",
       "layout": "IPY_MODEL_8b0e8373190d49bd9f8ca08ce72dc6c1",
       "style": "IPY_MODEL_1d032677dc134a2dbd887bb4af1845b0",
       "tooltip": null
      }
     },
     "efb8a149e3b549bca2e3eca4c5820482": {
      "model_module": "@jupyter-widgets/controls",
      "model_module_version": "2.0.0",
      "model_name": "LinkModel",
      "state": {
       "source": [
        "IPY_MODEL_c74123cb6f484208b6f5def593c5916d",
        "max"
       ],
       "target": [
        "IPY_MODEL_268ffa32ac454b47b0301e2890ae6a92",
        "max_frame"
       ]
      }
     }
    },
    "version_major": 2,
    "version_minor": 0
   }
  }
 },
 "nbformat": 4,
 "nbformat_minor": 4
}
