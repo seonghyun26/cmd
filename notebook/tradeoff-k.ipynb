{
 "cells": [
  {
   "cell_type": "markdown",
   "metadata": {},
   "source": [
    "# Config"
   ]
  },
  {
   "cell_type": "code",
   "execution_count": 6,
   "metadata": {},
   "outputs": [],
   "source": [
    "import os\n",
    "\n",
    "import numpy as np\n",
    "import mdtraj as md\n",
    "import matplotlib.pyplot as plt\n",
    "\n",
    "from tqdm.auto import tqdm\n",
    "\n",
    "FIGURE_SIZE = (5, 4)\n",
    "img_dir = \"../img/ablation-k\""
   ]
  },
  {
   "cell_type": "markdown",
   "metadata": {},
   "source": [
    "# Results config"
   ]
  },
  {
   "cell_type": "code",
   "execution_count": 1,
   "metadata": {},
   "outputs": [],
   "source": [
    "# TDA Config\n",
    "# config = {\n",
    "# \t\"method\": \"deeptda_500\",\n",
    "# \t\"k_list\": [100, 120, 140, 160, 180, 200],\n",
    "# \t\"thp_list\": [18.75, 42.19, 34.38, 59.38, 85.94, 82.81],\n",
    "# \t\"energy_list\": [340.25, 468.31, 682.12, 904.90, 1181.46, 1525.04]\n",
    "# }\n",
    "\n",
    "config = {\n",
    "\t\"method\": \"DeepTDA_10n_1000\",\n",
    "\t\"k_list\": [\n",
    "     \t600, 800, 1000, 1200, 1400, 1600, 1800, 2000\n",
    "\t],\n",
    "\t\"thp_list\": [\n",
    "     \t0, 10.94, 42.19, 70.31, 76.67, 68.75, 71.86, 68.75\n",
    "\t],\n",
    "\t\"energy_list\": [\n",
    "     \tNone, 24.29, 38.06, 66.06, 105.08, 145.77, 195.52, 256.42\n",
    "    ]\n",
    "}\n"
   ]
  },
  {
   "cell_type": "code",
   "execution_count": 2,
   "metadata": {},
   "outputs": [],
   "source": [
    "# TICA Config\n",
    "# config = {\n",
    "# \t\"method\": \"deeptica_500\",\n",
    "# \t\"k_list\": [3000, 3500, 4000, 4500],\n",
    "# \t\"thp_list\": [12.5, 35.93, 39.06, 39.06],\n",
    "# \t\"energy_list\": [669.17, 1051.60, 1485.17, 1964.07]\n",
    "# }\n",
    "\n",
    "# config = {\n",
    "# \t\"method\": \"deeptica_1000\",\n",
    "# \t\"k_list\": [1000, 1500, 2000, 2200, 2400, 2600, 2800],\n",
    "# \t\"thp_list\": [0, 0, 51.56, 82.81, 95.31, 100.0, 100.0,],\n",
    "# \t\"energy_list\": [None, None, 640.93, 770.53, 897.28, 1178.62, 1292.07]\n",
    "# }\n"
   ]
  },
  {
   "cell_type": "code",
   "execution_count": 3,
   "metadata": {},
   "outputs": [],
   "source": [
    "# Auto-encoder config\n",
    "# config = {\n",
    "# \t\"method\": \"autoencoder_500\",\n",
    "# \t\"k_list\": [100, 200, 400, 600],\n",
    "# \t\"thp_list\": [67.19, 96.88, 92.19, 98.44],\n",
    "# \t\"energy_list\": [85.72, 199.97, 576.68, 1277.06]\n",
    "# }\n",
    "\n",
    "# config = {\n",
    "# \t\"method\": \"autoencoder_1000\",\n",
    "# \t\"k_list\": [100, 150, 200, 250],\n",
    "# \t\"thp_list\": [21.88, 62.5, 92.19, 100.0],\n",
    "# \t\"energy_list\": [66.21, 137.46, 238.41, 382.08]\n",
    "# }\n"
   ]
  },
  {
   "cell_type": "markdown",
   "metadata": {},
   "source": [
    "# Plot"
   ]
  },
  {
   "cell_type": "code",
   "execution_count": 7,
   "metadata": {},
   "outputs": [],
   "source": [
    "def draw_k_plot(\n",
    "\tconfig,\n",
    "\timg_dir = \"../img\",\n",
    "):\n",
    "\tname = config[\"method\"]\n",
    "\tthp_list = config[\"thp_list\"]\n",
    "\tenergy_list = config[\"energy_list\"]\n",
    "\n",
    "\tfig_steeredMD_k, ax_steeredMD_k = plt.subplots(1, 1, figsize=FIGURE_SIZE)\n",
    "\tplt.plot(energy_list, thp_list, color=\"red\", label=f'{name}', linewidth=3)\n",
    "\tplt.scatter(energy_list, thp_list, color=\"black\")\n",
    "\tplt.tick_params(\n",
    "\t\tleft = True,\n",
    "\t\tright = False,\n",
    "\t\tlabelleft = True, \n",
    "\t\tlabelbottom = True,\n",
    "\t\tbottom = True\n",
    "\t) \n",
    "\tplt.xticks(fontsize=14)\n",
    "\tplt.yticks(fontsize=14)\n",
    "\tplt.legend()\n",
    "\tfor pos in ['left', 'right', 'top', 'bottom']:\n",
    "\t\tax_steeredMD_k.spines[pos].set_linewidth(1.5)\n",
    "\tax_steeredMD_k.set_xlabel('Energy (↓)', fontsize=18)\n",
    "\tax_steeredMD_k.set_ylabel(\"THP (↑)\", fontsize=18)\n",
    "\tax_steeredMD_k.grid(linestyle=\"dotted\")\n",
    "\t# ax_steeredMD_k.set_xticks([-800, -600, -400, -200])\n",
    "\tax_steeredMD_k.set_yticks([0, 25, 50, 75, 100])\n",
    "\n",
    "\tif not os.path.exists(f\"{img_dir}/{name}.pdf\"):\n",
    "\t\tfig_steeredMD_k.savefig(f\"{img_dir}/{name}.pdf\", dpi=400, format=\"pdf\", bbox_inches=\"tight\")\n",
    "\telse:\n",
    "\t\traise ValueError(f\"File {name} already exists.\")\n",
    "\n",
    "\treturn fig_steeredMD_k, ax_steeredMD_k"
   ]
  },
  {
   "cell_type": "code",
   "execution_count": 9,
   "metadata": {},
   "outputs": [
    {
     "data": {
      "text/plain": [
       "(<Figure size 500x400 with 1 Axes>,\n",
       " <Axes: xlabel='Energy (↓)', ylabel='THP (↑)'>)"
      ]
     },
     "execution_count": 9,
     "metadata": {},
     "output_type": "execute_result"
    },
    {
     "data": {
      "image/png": "[encoded data removed]",
      "text/plain": [
       "<Figure size 500x400 with 1 Axes>"
      ]
     },
     "metadata": {},
     "output_type": "display_data"
    }
   ],
   "source": [
    "draw_k_plot(\n",
    "\tconfig = config,\n",
    "    img_dir = img_dir,\n",
    ")"
   ]
  },
  {
   "cell_type": "code",
   "execution_count": null,
   "metadata": {},
   "outputs": [],
   "source": []
  }
 ],
 "metadata": {
  "kernelspec": {
   "display_name": "cmd",
   "language": "python",
   "name": "python3"
  },
  "language_info": {
   "codemirror_mode": {
    "name": "ipython",
    "version": 3
   },
   "file_extension": ".py",
   "mimetype": "text/x-python",
   "name": "python",
   "nbconvert_exporter": "python",
   "pygments_lexer": "ipython3",
   "version": "3.9.19"
  }
 },
 "nbformat": 4,
 "nbformat_minor": 2
}
