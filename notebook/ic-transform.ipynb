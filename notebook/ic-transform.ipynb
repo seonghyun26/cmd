{
 "cells": [
  {
   "cell_type": "code",
   "execution_count": 17,
   "metadata": {},
   "outputs": [],
   "source": [
    "import numpy as np\n",
    "import mdtraj as md\n",
    "import bgflow as bg\n",
    "import nglview as nv\n",
    "\n",
    "from openmm import *\n",
    "from openmm.app import *\n",
    "from openmm.unit import *\n",
    "\n",
    "import torch\n",
    "\n",
    "from tqdm.auto import tqdm"
   ]
  },
  {
   "cell_type": "code",
   "execution_count": 2,
   "metadata": {},
   "outputs": [],
   "source": [
    "data_dir = \"../data\"\n",
    "IMAGE_SIZE = \"400px\""
   ]
  },
  {
   "cell_type": "markdown",
   "metadata": {},
   "source": [
    "# State view"
   ]
  },
  {
   "cell_type": "code",
   "execution_count": 3,
   "metadata": {},
   "outputs": [],
   "source": [
    "molecule = \"alanine\"\n",
    "state = \"c5\"\n",
    "pdb_file = f\"{data_dir}/{molecule}/{state}.pdb\""
   ]
  },
  {
   "cell_type": "code",
   "execution_count": 4,
   "metadata": {},
   "outputs": [
    {
     "data": {
      "application/vnd.jupyter.widget-view+json": {
       "model_id": "18c518b77b094111aacbc04bced0473d",
       "version_major": 2,
       "version_minor": 0
      },
      "text/plain": [
       "NGLWidget()"
      ]
     },
     "metadata": {},
     "output_type": "display_data"
    }
   ],
   "source": [
    "view = nv.show_structure_file(pdb_file, width=IMAGE_SIZE, height=IMAGE_SIZE)\n",
    "view"
   ]
  },
  {
   "cell_type": "code",
   "execution_count": 94,
   "metadata": {},
   "outputs": [
    {
     "name": "stdout",
     "output_type": "stream",
     "text": [
      "[[[1.9185 0.3272 2.0062]\n",
      "  [1.8852 0.3056 2.1077]\n",
      "  [1.9711 0.2965 2.1742]\n",
      "  [1.8267 0.2137 2.1094]\n",
      "  [1.7969 0.4173 2.158 ]\n",
      "  [1.6799 0.394  2.1826]\n",
      "  [1.8542 0.5357 2.1737]\n",
      "  [1.9537 0.5432 2.1581]\n",
      "  [1.7848 0.6546 2.2226]\n",
      "  [1.6778 0.6439 2.2048]\n",
      "  [1.8056 0.6616 2.3749]\n",
      "  [1.7618 0.7523 2.4166]\n",
      "  [1.9126 0.6649 2.3954]\n",
      "  [1.7636 0.5733 2.423 ]\n",
      "  [1.833  0.7819 2.1506]\n",
      "  [1.9476 0.789  2.1079]\n",
      "  [1.7462 0.8834 2.143 ]\n",
      "  [1.6555 0.8713 2.1856]\n",
      "  [1.778  1.0114 2.0802]\n",
      "  [1.69   1.0757 2.0804]\n",
      "  [1.8606 1.0599 2.1323]\n",
      "  [1.8047 0.9939 1.976 ]]]\n"
     ]
    }
   ],
   "source": [
    "traj = md.load(pdb_file)\n",
    "print(traj.xyz)"
   ]
  },
  {
   "cell_type": "markdown",
   "metadata": {},
   "source": [
    "# Internal coordinates"
   ]
  },
  {
   "cell_type": "code",
   "execution_count": 93,
   "metadata": {},
   "outputs": [],
   "source": [
    "z_matrix = np.array([\n",
    "    [ 0,  1,  4,  6],\n",
    "    [ 1,  4,  6,  8],\n",
    "    [ 2,  1,  4,  0],\n",
    "    [ 3,  1,  4,  0],\n",
    "    [ 4,  6,  8, 14],\n",
    "    [ 5,  4,  6,  8],\n",
    "    [ 7,  6,  8,  4],\n",
    "    [11, 10,  8,  6],\n",
    "    [12, 10,  8, 11],\n",
    "    [13, 10,  8, 11],\n",
    "    [15, 14,  8, 16],\n",
    "    [16, 14,  8,  6],\n",
    "    [17, 16, 14, 15],\n",
    "    [18, 16, 14,  8],\n",
    "    [19, 18, 16, 14],\n",
    "    [20, 18, 16, 19],\n",
    "    [21, 18, 16, 19]\n",
    "])\n",
    "rigid_block = np.array([ 6,  8,  9, 10, 14])\n",
    "\n",
    "coordinate_transform = bg.RelativeInternalCoordinateTransformation(\n",
    "    z_matrix=z_matrix,\n",
    "    fixed_atoms=rigid_block,\n",
    "    normalize_angles = True,\n",
    "    eps = 1e-7,\n",
    ")"
   ]
  },
  {
   "cell_type": "code",
   "execution_count": 96,
   "metadata": {},
   "outputs": [],
   "source": [
    "example_data = torch.tensor(traj.xyz)\n",
    "example_data = example_data.reshape(1, -1)"
   ]
  },
  {
   "cell_type": "code",
   "execution_count": 97,
   "metadata": {},
   "outputs": [
    {
     "data": {
      "text/plain": [
       "tensor([ 0.0000e+00,  0.0000e+00,  0.0000e+00,  0.0000e+00,  0.0000e+00,\n",
       "         0.0000e+00,  0.0000e+00,  2.9802e-08,  0.0000e+00,  0.0000e+00,\n",
       "         0.0000e+00,  0.0000e+00,  0.0000e+00,  0.0000e+00,  0.0000e+00,\n",
       "         0.0000e+00,  0.0000e+00,  0.0000e+00,  0.0000e+00,  0.0000e+00,\n",
       "         0.0000e+00,  0.0000e+00,  0.0000e+00,  0.0000e+00,  0.0000e+00,\n",
       "         0.0000e+00,  0.0000e+00,  0.0000e+00,  0.0000e+00,  0.0000e+00,\n",
       "         0.0000e+00,  0.0000e+00,  0.0000e+00,  0.0000e+00, -5.9605e-08,\n",
       "         0.0000e+00,  0.0000e+00,  5.9605e-08,  0.0000e+00,  0.0000e+00,\n",
       "        -5.9605e-08,  0.0000e+00,  0.0000e+00,  0.0000e+00,  0.0000e+00,\n",
       "         0.0000e+00,  0.0000e+00,  0.0000e+00,  0.0000e+00,  0.0000e+00,\n",
       "         0.0000e+00, -1.1921e-07,  0.0000e+00,  0.0000e+00,  0.0000e+00,\n",
       "         0.0000e+00,  0.0000e+00,  0.0000e+00,  0.0000e+00,  0.0000e+00,\n",
       "         0.0000e+00,  0.0000e+00,  2.3842e-07,  0.0000e+00,  0.0000e+00,\n",
       "         0.0000e+00])"
      ]
     },
     "execution_count": 97,
     "metadata": {},
     "output_type": "execute_result"
    }
   ],
   "source": [
    "bonds, angles, torsions, z_fixed, dlogp = coordinate_transform.forward(example_data)\n",
    "example_data_recovered = coordinate_transform._inverse(bonds, angles, torsions, z_fixed)\n",
    "example_data_recovered[0][0] - example_data[0]"
   ]
  },
  {
   "cell_type": "code",
   "execution_count": 98,
   "metadata": {},
   "outputs": [
    {
     "data": {
      "text/plain": [
       "(tensor([[0.1090, 0.1510, 0.1090, 0.1090, 0.1325, 0.1218, 0.1010, 0.1090, 0.1090,\n",
       "          0.1090, 0.1225, 0.1338, 0.1009, 0.1461, 0.1090, 0.1090, 0.1090]]),\n",
       " tensor([[0.6112, 0.6477, 0.6035, 0.5986, 0.6898, 0.6902, 0.6519, 0.6180, 0.6038,\n",
       "          0.6131, 0.6680, 0.6488, 0.6551, 0.6846, 0.6106, 0.6136, 0.6049]]),\n",
       " tensor([[0.3188, 0.0018, 0.8350, 0.1661, 0.1035, 0.4999, 0.0141, 0.9891, 0.1725,\n",
       "          0.8418, 0.9924, 0.9256, 0.0101, 0.9966, 0.9899, 0.8390, 0.1749]]),\n",
       " tensor([[1.8542, 0.5357, 2.1737, 1.7848, 0.6546, 2.2226, 1.6778, 0.6439, 2.2048,\n",
       "          1.8056, 0.6616, 2.3749, 1.8330, 0.7819, 2.1506]]))"
      ]
     },
     "execution_count": 98,
     "metadata": {},
     "output_type": "execute_result"
    }
   ],
   "source": [
    "bonds, angles, torsions, z_fixed"
   ]
  },
  {
   "cell_type": "code",
   "execution_count": 88,
   "metadata": {},
   "outputs": [
    {
     "name": "stdout",
     "output_type": "stream",
     "text": [
      "(tensor([[0.1090, 0.1510, 0.1090, 0.1090, 0.1325, 0.1218, 0.1010, 0.1090, 0.1090,\n",
      "         0.1090, 0.1225, 0.1338, 0.1009, 0.1461, 0.1090, 0.1090, 0.1090]]), tensor([[0.6112, 0.6477, 0.6035, 0.5986, 0.6898, 0.6902, 0.6519, 0.6180, 0.6038,\n",
      "         0.6131, 0.6680, 0.6488, 0.6551, 0.6846, 0.6106, 0.6136, 0.6049]]), tensor([[0.3188, 0.0018, 0.8350, 0.1661, 0.1035, 0.4999, 0.0141, 0.9891, 0.1725,\n",
      "         0.8418, 0.9924, 0.9256, 0.0101, 0.9966, 0.9899, 0.8390, 0.1749]]), tensor([[1.8542, 0.5357, 2.1737, 1.7848, 0.6546, 2.2226, 1.6778, 0.6439, 2.2048,\n",
      "         1.8056, 0.6616, 2.3749, 1.8330, 0.7819, 2.1506]]), tensor([[24.1758]]))\n",
      "torch.Size([1, 66])\n"
     ]
    }
   ],
   "source": [
    "asdf = torch.cat(coordinate_transform.forward(example_data)[:-1], dim=1)\n",
    "print(coordinate_transform.forward(example_data))\n",
    "print(asdf.shape)"
   ]
  },
  {
   "cell_type": "code",
   "execution_count": 92,
   "metadata": {},
   "outputs": [
    {
     "data": {
      "text/plain": [
       "(tensor([[0.1090, 0.1510, 0.1090, 0.1090, 0.1325, 0.1218, 0.1010, 0.1090, 0.1090,\n",
       "          0.1090, 0.1225, 0.1338, 0.1009, 0.1461, 0.1090, 0.1090, 0.1090]]),\n",
       " tensor([[0.6112, 0.6477, 0.6035, 0.5986, 0.6898, 0.6902, 0.6519, 0.6180, 0.6038,\n",
       "          0.6131, 0.6680, 0.6488, 0.6551, 0.6846, 0.6106, 0.6136, 0.6049]]),\n",
       " tensor([[0.3188, 0.0018, 0.8350, 0.1661, 0.1035, 0.4999, 0.0141, 0.9891, 0.1725,\n",
       "          0.8418, 0.9924, 0.9256, 0.0101, 0.9966, 0.9899, 0.8390, 0.1749]]),\n",
       " tensor([[1.8542, 0.5357, 2.1737, 1.7848, 0.6546, 2.2226, 1.6778, 0.6439, 2.2048,\n",
       "          1.8056, 0.6616, 2.3749, 1.8330, 0.7819, 2.1506]]))"
      ]
     },
     "execution_count": 92,
     "metadata": {},
     "output_type": "execute_result"
    }
   ],
   "source": [
    "asdf[:, :17], asdf[:, 17:34], asdf[:, 34:51], asdf[:, 51:67]"
   ]
  },
  {
   "cell_type": "code",
   "execution_count": null,
   "metadata": {},
   "outputs": [],
   "source": []
  }
 ],
 "metadata": {
  "kernelspec": {
   "display_name": "Python 3 (ipykernel)",
   "language": "python",
   "name": "python3"
  },
  "language_info": {
   "codemirror_mode": {
    "name": "ipython",
    "version": 3
   },
   "file_extension": ".py",
   "mimetype": "text/x-python",
   "name": "python",
   "nbconvert_exporter": "python",
   "pygments_lexer": "ipython3",
   "version": "3.9.19"
  }
 },
 "nbformat": 4,
 "nbformat_minor": 4
}
